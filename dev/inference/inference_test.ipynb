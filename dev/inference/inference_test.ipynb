{
  "cells": [
    {
      "cell_type": "code",
      "source": [
        "import os\n",
        "os.chdir(\"/home/azureuser/cloudfiles/code/Users/neelan/asr/pipeline\")\n",
        "os.getcwd()\n"
      ],
      "outputs": [
        {
          "output_type": "execute_result",
          "execution_count": 1,
          "data": {
            "text/plain": "'/mnt/batch/tasks/shared/LS_root/mounts/clusters/gpu-x1-k80-westeu/code/Users/neelan/asr/pipeline'"
          },
          "metadata": {}
        }
      ],
      "execution_count": 1,
      "metadata": {
        "gather": {
          "logged": 1652162979402
        }
      }
    },
    {
      "cell_type": "code",
      "source": [
        "%%capture\n",
        "!sudo apt install ffmpeg"
      ],
      "outputs": [],
      "execution_count": 2,
      "metadata": {
        "jupyter": {
          "source_hidden": false,
          "outputs_hidden": false
        },
        "nteract": {
          "transient": {
            "deleting": false
          }
        },
        "gather": {
          "logged": 1652161432047
        }
      }
    },
    {
      "cell_type": "code",
      "source": [
        "%%capture\n",
        "!sudo apt-get install libsndfile1"
      ],
      "outputs": [],
      "execution_count": 3,
      "metadata": {
        "jupyter": {
          "source_hidden": false,
          "outputs_hidden": false
        },
        "nteract": {
          "transient": {
            "deleting": false
          }
        },
        "gather": {
          "logged": 1652161422502
        }
      }
    },
    {
      "cell_type": "code",
      "source": [
        "%run mount_blob.py"
      ],
      "outputs": [
        {
          "output_type": "stream",
          "name": "stdout",
          "text": "mount_path not empty\n"
        }
      ],
      "execution_count": 4,
      "metadata": {
        "jupyter": {
          "source_hidden": false,
          "outputs_hidden": false
        },
        "nteract": {
          "transient": {
            "deleting": false
          }
        }
      }
    },
    {
      "cell_type": "code",
      "source": [
        "%pip install pyctcdecode"
      ],
      "outputs": [
        {
          "output_type": "stream",
          "name": "stdout",
          "text": "Collecting pyctcdecode\n  Downloading pyctcdecode-0.3.0-py2.py3-none-any.whl (43 kB)\n\u001b[K     |████████████████████████████████| 43 kB 675 kB/s  eta 0:00:01\n\u001b[?25hCollecting pygtrie<3.0,>=2.1\n  Downloading pygtrie-2.4.2.tar.gz (35 kB)\nRequirement already satisfied: numpy<2.0.0,>=1.15.0 in /anaconda/envs/azureml_py38/lib/python3.8/site-packages (from pyctcdecode) (1.19.5)\nCollecting hypothesis<7,>=6.14\n  Downloading hypothesis-6.46.2-py3-none-any.whl (383 kB)\n\u001b[K     |████████████████████████████████| 383 kB 36.8 MB/s eta 0:00:01\n\u001b[?25hRequirement already satisfied: attrs>=19.2.0 in /anaconda/envs/azureml_py38/lib/python3.8/site-packages (from hypothesis<7,>=6.14->pyctcdecode) (21.4.0)\nRequirement already satisfied: sortedcontainers<3.0.0,>=2.1.0 in /anaconda/envs/azureml_py38/lib/python3.8/site-packages (from hypothesis<7,>=6.14->pyctcdecode) (2.4.0)\nBuilding wheels for collected packages: pygtrie\n  Building wheel for pygtrie (setup.py) ... \u001b[?25l-\b \bdone\n\u001b[?25h  Created wheel for pygtrie: filename=pygtrie-2.4.2-py3-none-any.whl size=19063 sha256=b7837fcf3b7917dc999de367fee9c26acf4106539bd44f8f11b3e7ad5665a601\n  Stored in directory: /home/azureuser/.cache/pip/wheels/31/03/7b/f685b394a937bc97d2d40908d45aa31f3d9473bca6e9019153\nSuccessfully built pygtrie\nInstalling collected packages: pygtrie, hypothesis, pyctcdecode\nSuccessfully installed hypothesis-6.46.2 pyctcdecode-0.3.0 pygtrie-2.4.2\nNote: you may need to restart the kernel to use updated packages.\n"
        }
      ],
      "execution_count": 9,
      "metadata": {
        "jupyter": {
          "source_hidden": false,
          "outputs_hidden": false
        },
        "nteract": {
          "transient": {
            "deleting": false
          }
        }
      }
    },
    {
      "cell_type": "code",
      "source": [
        "%pip install https://github.com/kpu/kenlm/archive/master.zip"
      ],
      "outputs": [
        {
          "output_type": "stream",
          "name": "stdout",
          "text": "Collecting https://github.com/kpu/kenlm/archive/master.zip\n  Downloading https://github.com/kpu/kenlm/archive/master.zip (542 kB)\n\u001b[K     |████████████████████████████████| 542 kB 4.6 MB/s eta 0:00:01\n\u001b[?25hBuilding wheels for collected packages: kenlm\n  Building wheel for kenlm (setup.py) ... \u001b[?25l-\b \b\\\b \b|\b \b/\b \b-\b \b\\\b \b|\b \b/\b \b-\b \b\\\b \b|\b \b/\b \b-\b \b\\\b \b|\b \b/\b \b-\b \b\\\b \b|\b \b/\b \b-\b \b\\\b \b|\b \b/\b \b-\b \b\\\b \b|\b \b/\b \b-\b \b\\\b \b|\b \b/\b \b-\b \b\\\b \b|\b \b/\b \b-\b \b\\\b \b|\b \b/\b \b-\b \b\\\b \b|\b \bdone\n\u001b[?25h  Created wheel for kenlm: filename=kenlm-0.0.0-cp38-cp38-linux_x86_64.whl size=2362540 sha256=de98dc69835060fff35b8b26ea9f71e24f18c103e68c1bd78136146a97f092e6\n  Stored in directory: /tmp/pip-ephem-wheel-cache-1ac0yt7r/wheels/ff/08/4e/a3ddc0e786e0f3c1fcd2e7a82c4324c02fc3ae2638471406d2\nSuccessfully built kenlm\nInstalling collected packages: kenlm\nSuccessfully installed kenlm-0.0.0\nNote: you may need to restart the kernel to use updated packages.\n"
        }
      ],
      "execution_count": 10,
      "metadata": {
        "jupyter": {
          "source_hidden": false,
          "outputs_hidden": false
        },
        "nteract": {
          "transient": {
            "deleting": false
          }
        }
      }
    },
    {
      "cell_type": "code",
      "source": [
        "%pip install "
      ],
      "outputs": [],
      "execution_count": null,
      "metadata": {
        "jupyter": {
          "source_hidden": false,
          "outputs_hidden": false
        },
        "nteract": {
          "transient": {
            "deleting": false
          }
        }
      }
    },
    {
      "cell_type": "code",
      "source": [
        "\n",
        "%pip install tensorflow==2.4.1\n",
        "%pip install keras==2.4.3"
      ],
      "outputs": [
        {
          "output_type": "stream",
          "name": "stdout",
          "text": "Collecting tensorflow==2.4.1\n  Downloading tensorflow-2.4.1-cp38-cp38-manylinux2010_x86_64.whl (394.4 MB)\n\u001b[K     |████████████████████████████████| 394.4 MB 7.1 kB/s  eta 0:00:0101\n\u001b[?25hRequirement already satisfied: gast==0.3.3 in /anaconda/envs/azureml_py38/lib/python3.8/site-packages (from tensorflow==2.4.1) (0.3.3)\nCollecting typing-extensions~=3.7.4\n  Downloading typing_extensions-3.7.4.3-py3-none-any.whl (22 kB)\nCollecting h5py~=2.10.0\n  Downloading h5py-2.10.0-cp38-cp38-manylinux1_x86_64.whl (2.9 MB)\n\u001b[K     |████████████████████████████████| 2.9 MB 69.8 MB/s eta 0:00:01\n\u001b[?25hCollecting tensorboard~=2.4\n  Downloading tensorboard-2.9.0-py3-none-any.whl (5.8 MB)\n\u001b[K     |████████████████████████████████| 5.8 MB 73.1 MB/s eta 0:00:01\n\u001b[?25hCollecting tensorflow-estimator<2.5.0,>=2.4.0\n  Downloading tensorflow_estimator-2.4.0-py2.py3-none-any.whl (462 kB)\n\u001b[K     |████████████████████████████████| 462 kB 73.9 MB/s eta 0:00:01\n\u001b[?25hRequirement already satisfied: termcolor~=1.1.0 in /anaconda/envs/azureml_py38/lib/python3.8/site-packages (from tensorflow==2.4.1) (1.1.0)\nRequirement already satisfied: google-pasta~=0.2 in /anaconda/envs/azureml_py38/lib/python3.8/site-packages (from tensorflow==2.4.1) (0.2.0)\nCollecting grpcio~=1.32.0\n  Downloading grpcio-1.32.0-cp38-cp38-manylinux2014_x86_64.whl (3.8 MB)\n\u001b[K     |████████████████████████████████| 3.8 MB 62.6 MB/s eta 0:00:01\n\u001b[?25hRequirement already satisfied: astunparse~=1.6.3 in /anaconda/envs/azureml_py38/lib/python3.8/site-packages (from tensorflow==2.4.1) (1.6.3)\nCollecting numpy~=1.19.2\n  Downloading numpy-1.19.5-cp38-cp38-manylinux2010_x86_64.whl (14.9 MB)\n\u001b[K     |████████████████████████████████| 14.9 MB 69.6 MB/s eta 0:00:01\n\u001b[?25hRequirement already satisfied: keras-preprocessing~=1.1.2 in /anaconda/envs/azureml_py38/lib/python3.8/site-packages (from tensorflow==2.4.1) (1.1.2)\nRequirement already satisfied: wheel~=0.35 in /anaconda/envs/azureml_py38/lib/python3.8/site-packages (from tensorflow==2.4.1) (0.35.1)\nRequirement already satisfied: wrapt~=1.12.1 in /anaconda/envs/azureml_py38/lib/python3.8/site-packages (from tensorflow==2.4.1) (1.12.1)\nCollecting flatbuffers~=1.12.0\n  Downloading flatbuffers-1.12-py2.py3-none-any.whl (15 kB)\nCollecting six~=1.15.0\n  Downloading six-1.15.0-py2.py3-none-any.whl (10 kB)\nRequirement already satisfied: absl-py~=0.10 in /anaconda/envs/azureml_py38/lib/python3.8/site-packages (from tensorflow==2.4.1) (0.15.0)\nRequirement already satisfied: protobuf>=3.9.2 in /anaconda/envs/azureml_py38/lib/python3.8/site-packages (from tensorflow==2.4.1) (3.19.4)\nRequirement already satisfied: opt-einsum~=3.3.0 in /anaconda/envs/azureml_py38/lib/python3.8/site-packages (from tensorflow==2.4.1) (3.3.0)\nRequirement already satisfied: google-auth-oauthlib<0.5,>=0.4.1 in /anaconda/envs/azureml_py38/lib/python3.8/site-packages (from tensorboard~=2.4->tensorflow==2.4.1) (0.4.6)\nRequirement already satisfied: tensorboard-plugin-wit>=1.6.0 in /anaconda/envs/azureml_py38/lib/python3.8/site-packages (from tensorboard~=2.4->tensorflow==2.4.1) (1.8.1)\nRequirement already satisfied: tensorboard-data-server<0.7.0,>=0.6.0 in /anaconda/envs/azureml_py38/lib/python3.8/site-packages (from tensorboard~=2.4->tensorflow==2.4.1) (0.6.1)\nRequirement already satisfied: google-auth<3,>=1.6.3 in /anaconda/envs/azureml_py38/lib/python3.8/site-packages (from tensorboard~=2.4->tensorflow==2.4.1) (1.35.0)\nRequirement already satisfied: werkzeug>=1.0.1 in /anaconda/envs/azureml_py38/lib/python3.8/site-packages (from tensorboard~=2.4->tensorflow==2.4.1) (1.0.1)\nRequirement already satisfied: setuptools>=41.0.0 in /anaconda/envs/azureml_py38/lib/python3.8/site-packages (from tensorboard~=2.4->tensorflow==2.4.1) (49.6.0)\nRequirement already satisfied: markdown>=2.6.8 in /anaconda/envs/azureml_py38/lib/python3.8/site-packages (from tensorboard~=2.4->tensorflow==2.4.1) (3.3.6)\nRequirement already satisfied: requests<3,>=2.21.0 in /anaconda/envs/azureml_py38/lib/python3.8/site-packages (from tensorboard~=2.4->tensorflow==2.4.1) (2.27.1)\nRequirement already satisfied: requests-oauthlib>=0.7.0 in /anaconda/envs/azureml_py38/lib/python3.8/site-packages (from google-auth-oauthlib<0.5,>=0.4.1->tensorboard~=2.4->tensorflow==2.4.1) (1.3.1)\nRequirement already satisfied: pyasn1-modules>=0.2.1 in /anaconda/envs/azureml_py38/lib/python3.8/site-packages (from google-auth<3,>=1.6.3->tensorboard~=2.4->tensorflow==2.4.1) (0.2.8)\nRequirement already satisfied: rsa<5,>=3.1.4; python_version >= \"3.6\" in /anaconda/envs/azureml_py38/lib/python3.8/site-packages (from google-auth<3,>=1.6.3->tensorboard~=2.4->tensorflow==2.4.1) (4.8)\nRequirement already satisfied: cachetools<5.0,>=2.0.0 in /anaconda/envs/azureml_py38/lib/python3.8/site-packages (from google-auth<3,>=1.6.3->tensorboard~=2.4->tensorflow==2.4.1) (4.2.4)\nRequirement already satisfied: importlib-metadata>=4.4; python_version < \"3.10\" in /anaconda/envs/azureml_py38/lib/python3.8/site-packages (from markdown>=2.6.8->tensorboard~=2.4->tensorflow==2.4.1) (4.11.3)\nRequirement already satisfied: urllib3<1.27,>=1.21.1 in /anaconda/envs/azureml_py38/lib/python3.8/site-packages (from requests<3,>=2.21.0->tensorboard~=2.4->tensorflow==2.4.1) (1.26.7)\nRequirement already satisfied: charset-normalizer~=2.0.0; python_version >= \"3\" in /anaconda/envs/azureml_py38/lib/python3.8/site-packages (from requests<3,>=2.21.0->tensorboard~=2.4->tensorflow==2.4.1) (2.0.12)\nRequirement already satisfied: idna<4,>=2.5; python_version >= \"3\" in /anaconda/envs/azureml_py38/lib/python3.8/site-packages (from requests<3,>=2.21.0->tensorboard~=2.4->tensorflow==2.4.1) (3.3)\nRequirement already satisfied: certifi>=2017.4.17 in /anaconda/envs/azureml_py38/lib/python3.8/site-packages (from requests<3,>=2.21.0->tensorboard~=2.4->tensorflow==2.4.1) (2021.10.8)\nRequirement already satisfied: oauthlib>=3.0.0 in /anaconda/envs/azureml_py38/lib/python3.8/site-packages (from requests-oauthlib>=0.7.0->google-auth-oauthlib<0.5,>=0.4.1->tensorboard~=2.4->tensorflow==2.4.1) (3.2.0)\nRequirement already satisfied: pyasn1<0.5.0,>=0.4.6 in /anaconda/envs/azureml_py38/lib/python3.8/site-packages (from pyasn1-modules>=0.2.1->google-auth<3,>=1.6.3->tensorboard~=2.4->tensorflow==2.4.1) (0.4.8)\nRequirement already satisfied: zipp>=0.5 in /anaconda/envs/azureml_py38/lib/python3.8/site-packages (from importlib-metadata>=4.4; python_version < \"3.10\"->markdown>=2.6.8->tensorboard~=2.4->tensorflow==2.4.1) (3.7.0)\n\u001b[31mERROR: pyldavis 3.3.1 requires sklearn, which is not installed.\u001b[0m\n\u001b[31mERROR: pandas-ml 0.6.1 requires enum34, which is not installed.\u001b[0m\n\u001b[31mERROR: fbprophet 0.7.1 requires cmdstanpy==0.9.5, which is not installed.\u001b[0m\n\u001b[31mERROR: yellowbrick 1.4 has requirement scikit-learn>=1.0.0, but you'll have scikit-learn 0.22.1 which is incompatible.\u001b[0m\n\u001b[31mERROR: torchvision 0.9.1 has requirement torch==1.8.1, but you'll have torch 1.10.2 which is incompatible.\u001b[0m\n\u001b[31mERROR: tensorflow-gpu 2.2.0 has requirement scipy==1.4.1; python_version >= \"3\", but you'll have scipy 1.5.2 which is incompatible.\u001b[0m\n\u001b[31mERROR: tensorflow-gpu 2.2.0 has requirement tensorboard<2.3.0,>=2.2.0, but you'll have tensorboard 2.9.0 which is incompatible.\u001b[0m\n\u001b[31mERROR: tensorflow-gpu 2.2.0 has requirement tensorflow-estimator<2.3.0,>=2.2.0, but you'll have tensorflow-estimator 2.4.0 which is incompatible.\u001b[0m\n\u001b[31mERROR: responsibleai 0.17.0 has requirement ipykernel<6.0, but you'll have ipykernel 6.6.0 which is incompatible.\u001b[0m\n\u001b[31mERROR: raiwidgets 0.17.0 has requirement ipykernel<6.0, but you'll have ipykernel 6.6.0 which is incompatible.\u001b[0m\n\u001b[31mERROR: raiwidgets 0.17.0 has requirement jinja2==2.11.3, but you'll have jinja2 2.11.2 which is incompatible.\u001b[0m\n\u001b[31mERROR: pylint 2.13.5 has requirement typing-extensions>=3.10.0; python_version < \"3.10\", but you'll have typing-extensions 3.7.4.3 which is incompatible.\u001b[0m\n\u001b[31mERROR: pyldavis 3.3.1 has requirement numpy>=1.20.0, but you'll have numpy 1.19.5 which is incompatible.\u001b[0m\n\u001b[31mERROR: pyldavis 3.3.1 has requirement pandas>=1.2.0, but you'll have pandas 1.1.5 which is incompatible.\u001b[0m\n\u001b[31mERROR: pycaret 2.3.9 has requirement pyyaml<6.0.0, but you'll have pyyaml 6.0 which is incompatible.\u001b[0m\n\u001b[31mERROR: pycaret 2.3.9 has requirement scikit-learn==0.23.2, but you'll have scikit-learn 0.22.1 which is incompatible.\u001b[0m\n\u001b[31mERROR: pandas-profiling 3.1.0 has requirement joblib~=1.0.1, but you'll have joblib 0.14.1 which is incompatible.\u001b[0m\n\u001b[31mERROR: imbalanced-learn 0.7.0 has requirement scikit-learn>=0.23, but you'll have scikit-learn 0.22.1 which is incompatible.\u001b[0m\n\u001b[31mERROR: imageio 2.16.1 has requirement numpy>=1.20.0, but you'll have numpy 1.19.5 which is incompatible.\u001b[0m\n\u001b[31mERROR: imageio 2.16.1 has requirement pillow>=8.3.2, but you'll have pillow 6.2.1 which is incompatible.\u001b[0m\n\u001b[31mERROR: dask-sql 2022.4.0 has requirement dask[dataframe,distributed]<2022.4.1,>=2022.3.0, but you'll have dask 2.30.0 which is incompatible.\u001b[0m\n\u001b[31mERROR: bokeh 2.4.2 has requirement pillow>=7.1.0, but you'll have pillow 6.2.1 which is incompatible.\u001b[0m\n\u001b[31mERROR: bokeh 2.4.2 has requirement typing-extensions>=3.10.0, but you'll have typing-extensions 3.7.4.3 which is incompatible.\u001b[0m\n\u001b[31mERROR: azureml-dataset-runtime 1.40.0 has requirement pyarrow<4.0.0,>=0.17.0, but you'll have pyarrow 8.0.0 which is incompatible.\u001b[0m\n\u001b[31mERROR: azureml-contrib-notebook 1.40.0 has requirement nbconvert<6, but you'll have nbconvert 6.4.5 which is incompatible.\u001b[0m\n\u001b[31mERROR: azureml-automl-dnn-nlp 1.40.0 has requirement datasets<=1.8.0,>=1.7.0, but you'll have datasets 2.1.0 which is incompatible.\u001b[0m\n\u001b[31mERROR: azureml-automl-dnn-nlp 1.40.0 has requirement transformers<=4.5.1,>=4.1.0, but you'll have transformers 4.18.0 which is incompatible.\u001b[0m\n\u001b[31mERROR: azure-cli 2.35.0 has requirement azure-graphrbac~=0.60.0, but you'll have azure-graphrbac 0.61.1 which is incompatible.\u001b[0m\n\u001b[31mERROR: azure-cli 2.35.0 has requirement azure-mgmt-resource==20.0.0, but you'll have azure-mgmt-resource 20.1.0 which is incompatible.\u001b[0m\n\u001b[31mERROR: azure-cli 2.35.0 has requirement PyNaCl~=1.4.0, but you'll have pynacl 1.5.0 which is incompatible.\u001b[0m\n\u001b[31mERROR: astroid 2.11.2 has requirement typing-extensions>=3.10; python_version < \"3.10\", but you'll have typing-extensions 3.7.4.3 which is incompatible.\u001b[0m\nInstalling collected packages: typing-extensions, six, numpy, h5py, grpcio, tensorboard, tensorflow-estimator, flatbuffers, tensorflow\n  Attempting uninstall: typing-extensions\n    Found existing installation: typing-extensions 4.1.1\n    Uninstalling typing-extensions-4.1.1:\n      Successfully uninstalled typing-extensions-4.1.1\n  Attempting uninstall: six\n    Found existing installation: six 1.16.0\n    Uninstalling six-1.16.0:\n      Successfully uninstalled six-1.16.0\n  Attempting uninstall: numpy\n    Found existing installation: numpy 1.19.0\n    Uninstalling numpy-1.19.0:\n      Successfully uninstalled numpy-1.19.0\n  Attempting uninstall: h5py\n    Found existing installation: h5py 3.6.0\n    Uninstalling h5py-3.6.0:\n      Successfully uninstalled h5py-3.6.0\n  Attempting uninstall: grpcio\n    Found existing installation: grpcio 1.44.0\n    Uninstalling grpcio-1.44.0:\n      Successfully uninstalled grpcio-1.44.0\n  Attempting uninstall: tensorboard\n    Found existing installation: tensorboard 2.2.2\n    Uninstalling tensorboard-2.2.2:\n      Successfully uninstalled tensorboard-2.2.2\n  Attempting uninstall: tensorflow-estimator\n    Found existing installation: tensorflow-estimator 2.2.0\n    Uninstalling tensorflow-estimator-2.2.0:\n      Successfully uninstalled tensorflow-estimator-2.2.0\n  Attempting uninstall: flatbuffers\n    Found existing installation: flatbuffers 2.0\n    Uninstalling flatbuffers-2.0:\n      Successfully uninstalled flatbuffers-2.0\n  Attempting uninstall: tensorflow\n    Found existing installation: tensorflow 2.2.0\n    Uninstalling tensorflow-2.2.0:\n      Successfully uninstalled tensorflow-2.2.0\nSuccessfully installed flatbuffers-1.12 grpcio-1.32.0 h5py-2.10.0 numpy-1.19.5 six-1.15.0 tensorboard-2.9.0 tensorflow-2.4.1 tensorflow-estimator-2.4.0 typing-extensions-3.7.4.3\nNote: you may need to restart the kernel to use updated packages.\nCollecting keras==2.4.3\n  Downloading Keras-2.4.3-py2.py3-none-any.whl (36 kB)\nRequirement already satisfied: scipy>=0.14 in /anaconda/envs/azureml_py38/lib/python3.8/site-packages (from keras==2.4.3) (1.5.2)\nRequirement already satisfied: pyyaml in /anaconda/envs/azureml_py38/lib/python3.8/site-packages (from keras==2.4.3) (6.0)\nRequirement already satisfied: numpy>=1.9.1 in /anaconda/envs/azureml_py38/lib/python3.8/site-packages (from keras==2.4.3) (1.19.5)\nRequirement already satisfied: h5py in /anaconda/envs/azureml_py38/lib/python3.8/site-packages (from keras==2.4.3) (2.10.0)\nRequirement already satisfied: six in /anaconda/envs/azureml_py38/lib/python3.8/site-packages (from h5py->keras==2.4.3) (1.15.0)\nInstalling collected packages: keras\n  Attempting uninstall: keras\n    Found existing installation: Keras 2.3.1\n    Uninstalling Keras-2.3.1:\n      Successfully uninstalled Keras-2.3.1\nSuccessfully installed keras-2.4.3\nNote: you may need to restart the kernel to use updated packages.\n"
        }
      ],
      "execution_count": 7,
      "metadata": {
        "jupyter": {
          "source_hidden": false,
          "outputs_hidden": false
        },
        "nteract": {
          "transient": {
            "deleting": false
          }
        }
      }
    },
    {
      "cell_type": "code",
      "source": [
        "%%capture\n",
        "%pip install torch torchaudio librosa datasets[audio] transformers"
      ],
      "outputs": [],
      "execution_count": 5,
      "metadata": {
        "jupyter": {
          "source_hidden": false,
          "outputs_hidden": false
        },
        "nteract": {
          "transient": {
            "deleting": false
          }
        },
        "gather": {
          "logged": 1652161449201
        }
      }
    },
    {
      "cell_type": "code",
      "source": [
        "from datasets import load_dataset, load_metric, Audio\n",
        "\n",
        "data = load_dataset('json', data_files='tcrs_90s_.json')\n",
        "dataset = data['train'].cast_column(\"audio\", Audio(sampling_rate=16000))\n",
        "#checking that mapping worked correctly\n",
        "dataset[-1]"
      ],
      "outputs": [
        {
          "output_type": "stream",
          "name": "stderr",
          "text": "Using custom data configuration default-318777ccb4311c78\nReusing dataset json (/home/azureuser/.cache/huggingface/datasets/json/default-318777ccb4311c78/0.0.0/ac0ca5f5289a6cf108e706efcf040422dbbfa8e658dee6a819f20d76bb84d26b)\n"
        },
        {
          "output_type": "display_data",
          "data": {
            "text/plain": "  0%|          | 0/1 [00:00<?, ?it/s]",
            "application/vnd.jupyter.widget-view+json": {
              "version_major": 2,
              "version_minor": 0,
              "model_id": "e6491024284244328bf9aa6efe781e9e"
            }
          },
          "metadata": {}
        },
        {
          "output_type": "execute_result",
          "execution_count": 3,
          "data": {
            "text/plain": "{'file': '/home/azureuser/cloudfiles/code/Users/neelan/asr/pipeline/data/226503905#-10399#TEBOGOM38#TCRLENA-413#20220215085805641.wav',\n 'audio': {'path': '/home/azureuser/cloudfiles/code/Users/neelan/asr/pipeline/data/226503905#-10399#TEBOGOM38#TCRLENA-413#20220215085805641.wav',\n  'array': array([ 0.        ,  0.        ,  0.        , ..., -0.0010376 ,\n         -0.00119019, -0.00128174], dtype=float32),\n  'sampling_rate': 16000},\n 'text': 'HELLO CAN YOU HEAR ME YES MAY YES MY NAME IS QUINTON CALLING FROM CAPITAL DATA WITH REGARDS TO YOUR HOME CHOICE ACCOUNT IS THIS A GOOD TIME TO SPEAK YES MAAM IM CALLING WITH THE PAYMENT THAT YOU WERE TO MAKE TODAY IN AMOUNT OF 100 ON YOUR HOME CHOICE ACCOUNT DUE PARDON IM STILL ON WHERE TO PAY OKAY PERFECT MAAM I JUST WANTED TO CONFIRM IF THESE PAYMENTS WILL BE MADE ON THE 15TH OF EVERY MONTH AND ITS GOING TO BE 100 RIGHT YES PERFECT IT WILL BE 115TH OF EVERY MONTH CAN YOU PLEASE CONFIRM YOUR DATE OF BIRTH THANK YOU VERY MUCH FOR YOUR TIME THANK YOU GOODBYE',\n 'word_count': 114,\n 'spkID': '#TEBOGOM#TCRLENA#',\n 'bits_per_sample': 16,\n 'encoding': 'PCM_S',\n 'num_channels': 1,\n 'num_frames': 1269440,\n 'sample_rate': 16000,\n 'duration_seconds': 79.34,\n 'words_per_second': 1.4368540458784975}"
          },
          "metadata": {}
        }
      ],
      "execution_count": 3,
      "metadata": {
        "gather": {
          "logged": 1652162999860
        }
      }
    },
    {
      "cell_type": "code",
      "source": [
        "import transformers\n",
        "from transformers import pipeline\n",
        "from transformers.pipelines.pt_utils import KeyDataset\n",
        "from tqdm.auto import tqdm\n",
        "\n",
        "asr = pipeline(\"automatic-speech-recognition\", model=\"patrickvonplaten/hubert-xlarge-ls960-ft-4-gram\", device=0)\n",
        "#dataset = datasets.load_dataset(\"superb\", name=\"asr\", split=\"test\")\n",
        "\n",
        "# KeyDataset (only *pt*) will simply return the item in the dict returned by the dataset item\n",
        "# as we're not interested in the *target* part of the datasetn\n",
        "transcripts =  tqdm(asr(KeyDataset(dataset, \"file\")))\n"
      ],
      "outputs": [
        {
          "output_type": "display_data",
          "data": {
            "text/plain": "Downloading:   0%|          | 0.00/198 [00:00<?, ?B/s]",
            "application/vnd.jupyter.widget-view+json": {
              "version_major": 2,
              "version_minor": 0,
              "model_id": "f6ea7db892c746f582dd86ba0e5aeb30"
            }
          },
          "metadata": {}
        },
        {
          "output_type": "display_data",
          "data": {
            "text/plain": "Downloading:   0%|          | 0.00/3.12G [00:00<?, ?B/s]",
            "application/vnd.jupyter.widget-view+json": {
              "version_major": 2,
              "version_minor": 0,
              "model_id": "6f16711e8703444c8886a9cbd4517b05"
            }
          },
          "metadata": {}
        },
        {
          "output_type": "display_data",
          "data": {
            "text/plain": "Downloading:   0%|          | 0.00/78.0 [00:00<?, ?B/s]",
            "application/vnd.jupyter.widget-view+json": {
              "version_major": 2,
              "version_minor": 0,
              "model_id": "85336530035f4ce2aa1b03bba7727aee"
            }
          },
          "metadata": {}
        },
        {
          "output_type": "display_data",
          "data": {
            "text/plain": "Downloading:   0%|          | 0.00/1.74M [00:00<?, ?B/s]",
            "application/vnd.jupyter.widget-view+json": {
              "version_major": 2,
              "version_minor": 0,
              "model_id": "38b9211b45684c29b43b527b92e6d4df"
            }
          },
          "metadata": {}
        },
        {
          "output_type": "display_data",
          "data": {
            "text/plain": "  0%|          | 0/165 [00:00<?, ?it/s]",
            "application/vnd.jupyter.widget-view+json": {
              "version_major": 2,
              "version_minor": 0,
              "model_id": "4eaa80c8745f41039279c9d3813fe476"
            }
          },
          "metadata": {}
        }
      ],
      "execution_count": 11,
      "metadata": {
        "gather": {
          "logged": 1652163634174
        }
      }
    },
    {
      "cell_type": "code",
      "source": [
        "for i, transcript in enumerate(transcripts):\n",
        "    print()\n",
        "    print(\"GROUND_TRUTH:\\n\")\n",
        "    print(dataset[i][\"text\"])\n",
        "    print()\n",
        "    print(\"MODEL:\\n\")\n",
        "    print(transcript)\n",
        "\n",
        "\n"
      ],
      "outputs": [
        {
          "output_type": "stream",
          "name": "stdout",
          "text": "GROUND_TRUTH:\n\nHELLO HI CAN I SPEAK TO LENNY YOURE SPEAKING TO CARABO FROM MPD LEGAL CAN YOU KINDLY CONFIRM DATE OF BIRTH FOR SECURITY CHECK OKAY THANK YOU I WAS CALLING IN CONNECTION WITH YOUR MR PRAISE ACCOUNT WHICH IS AN OUTSTANDING BALANCE OF 710\n\nMODEL:\n\n{'text': 'HELLO HELLO HOW CAN I SPEAK TO LINE BE SPEAKING TO CARRABAFROM M P T LEGAL CAN YOU KINDLY CONFIRMATITE OF BIRTH FOR SECURITY CHECK AN EON M TAKE I WAS CALLING IN CONNECTION OF YOUR MISTER PRASACOUNT WHICH IS AN OUTSTANDING BALANCE OF SEVEN HUNDRED TEN'}\nGROUND_TRUTH:\n\nHELLO CAN I PLEASE SPEAK TO MARCELISA FOR SOLOMON SPEAKING MAAM YOU ARE SPEAKING TO CASLIN FROM MBD LEGAL COLLECTION PLEASE NOTE THAT REGARDING ONE OF YOUR ACCOUNT MAAM WHICH ACCOUNT THROUGH US NO BUT I GUIDING ALL MY I CANT EVEN REMEMBER HOW MANY YEARS IM AT HOME NOW AND I GUIDE ALL MY DOCUMENTATION TODAY MAAM DOWN THANK YOU VERY MUCH IM SORRY FOR THE INCONVENIENCE NO MUCH WITH THAT IM GLAD YOU FOUND ANY TWO PEOPLE NOW YES THANK YOU VERY MUCH BYE\n\nMODEL:\n\n{'text': \"HELLO HELLO CAN I PLEASE EAT TO MY ANITA SOLOMON'S PIKE MAMA SPEAKIN TO QUETINEAU COLLATION PLEASE ON A NASHOLA REGARDING ONE OF YOUR ACCOUNTS WHEN WE SHALL CAN TRUE NO BUT I'VE GOT EATEN ALL MY ER I I A CONVENT ELIMINATE YEARS ARE A TONE NOW AND I'D TAKE ALL MY OPIATATION TO DO HOW CAN MY MANOIR DOWN THANK YOU VERY MUCH I'M SORRY FOR THE INCONVENIENCE NO NO MUCH THAT I LET YOU FOR MANY DECENT PEOPLE NO NO YES I THANK YOU VERY MUCH WE ALIENS\"}\nGROUND_TRUTH:\n\nAFTERNOON AFTERNOON YES CAN I SPEAK TO PAUL MASSAGE SPEAKING YOURE SPEAKING TO CHRISTOPHER IM CALLING FROM TRUE ACCOUNT DEPARTMENT YES YES WILL YOU PLEASE VERIFY DATES OF BIRTH OKAY THANK YOU CALLS ARE RECORDED FOR QUALITY AND RECORDED AMOUNT AGAINST US PARDON 1372 AMOUNT OF THE MONTH THERE ALSO HAS A MONTH OUT OF DEBIT ORDER WHICH IS MORE CONVENIENT YOU SAVE TIME YOU DONT HAVE TO STAND THE QA TWO AT AND PAY THE ACCOUNT NO DONT WORRY YOU WANT TO PAY CASH YEAH YOU SAID YOULL MAKE IT ONE POINT FOR ONE TIME YES OKAY NO PROBLEM ONCE YOU DINING EVEN A SHORT PAID BY FIVE BRAND THE ACCOUNT STILL BOLTED INTO AREAS BUT ONCE YOUVE DONE THIS AMOUNT THE ACCOUNT WILL BE UP TO DATE YOU CAN BUY AGAIN OKAY ALL RIGHT THANK YOU VERY MUCH FOR YOUR TIME BYE\n\nMODEL:\n\n{'text': \"GOOD AFTERNOON YES CAN I SPEAK TO PA MA SAGE PITIES PEAKING TO CUSTOM CALL IN SOME TRUE AT ACCOUNT EAT MEN YES YES YOU WERE FIVE EIGHTS OF THAT TOO ON A KETTANK YOU CALLED THE VOICE TO COAT OR QUALITY AND DECADE THE AMOUNT TO GET YOU A TRUE AT ONE THOUSAND THREE UNENEVENTE AND A ONE THOUSAND THREE HUNDRED AND SEVENTY RANDY TWO AMOUNT ALL PRESENT N TWENTY IT END OF THE MONTH ONE THOUSAND THREE SEVEN ONE TENOR ALL RIGHT NOW FOR THEY ALSO HAVE ENTERED IT ORDER WHICH IS MORE CONVENIENCE YOU SAVE TIME YOU DON'T ATOSPEND IT TO A TRUE AT TENTEDACCOUNT NO TO ONE YOU ARE A A SENSE ALWAYS SAID YOU'LL MAKE IT ONE POINT FOUR ONE TIME YE TALENT ON TO TIME GIVING A SHORT PAID BY FIVE TRENT ACCOUNT PAID POTATO ARIAS BUT AUNT YOU TANDIS AMOUNT THE ACCOUNT TO BE TO TAKE YOU CAN PAY TAIN ALL RIGHT NOT TO TAKE IT IN A MUCH FITTIN A\"}\nGROUND_TRUTH:\n\nWILL YOU PLEASE CONFIRM FOR ME YOUR DATE OF BIRTH CALLS ARE RECORDED THANK YOU FOR THE MONTHLY PAYMENTS ON YOUR ACCOUNT MAAM YOUVE BALANCE IS 2026 93 TOTAL WE HAVENT RECEIVED THE PAYMENT ON YOUR ACCOUNT MAAM WHAT WE DIDNT RECEIVE A PAYMENT FOR JANUARY NO I DIDNT PAY TODAY YOU WANT TO PAY TODAY I DID PAY YOU PAID ALREADY OKAY WAS IT CASH OR EFT USED TO OKAY IT TAKES THREE TO FIVE WORKING DAYS AS SOON AS THE REFLECTS WELL UPDATE YOUR ACCOUNT THANK YOU SO MUCH WERE THE PAYMENT OKAY OKAY THEN THANK YOU BYE\n\nMODEL:\n\n{'text': \"I AM HIS VICTIM AS SEEN WILLIAM I SET YOUR SECOND SOME GETTER CALLING YOU ON TRUE YES WELL YETIVE CONFIRM FOR ME YOUR DATE OF BIRTH IT'S ER ONE FIVE O ONE AN SIXTY NINE OR ONE ONE FIVE CALLS ARE RECORDED THANK YOU FOR THE MONTHLY TAYMENTS ON YOUR ACCOUNT MA'AM YOUR BALANCE IS TWO THOUSAND AND TWENTY SIX NINETY THREE OR TO TOLD YOU ITS FOUR SEVENTY SIX TWENTY ONE WE HAVEN'T RECEIVED THE PAYMENT ON YOUR ACCOUNT MA'AM OH WE DIDN'T RECEIVE A PAYMENT FOR JANUARY NO INSTATED YOU WANT TO PAY TO DAY I DID TO YOU PAID A READINESS A CAR WAS IT CASH OR THE YES TWO WE ARE WE TAKE THE FIVE WAITING DAYS HE SENECAS ELEVATES YOUR ACCOUNT THANK YOU SO MUCH FOR THE PAYMENT I CAN THINK HER INTENT ON\"}\nGROUND_TRUTH:\n\nHELLO HI CAN I PLEASE SPEAK TO MRS VALEMINA FANZEO SPEAKING HI HOW ARE YOU TODAY MAAM IM FINE THANKS WHO AM I SPEAKING TO ITS NATASHA IM CALLING FROM THROUGHOUT YOUR TRUET ACCOUNT RIGHT 1963 YES OKAY ITS ABOUT YOUR PAYMENT IM SURE YOU ALREADY KNOW MAAM ITS 982 RIGHT YES WILL YOU BE ABLE TO COME YES I WILL WHEN CAN YOU COME NOT TODAY TODAY\n\nMODEL:\n\n{'text': \"GOD O ALE I CANNOT YOU SPEAK TO MISSUS VALE MINA VAN ZE TAKE A HOW ARE YOU TO DAY MA'AM A FINE TAN AT FIFTEEN TER IM IT'S NATASHA I'M CALLING FROM TRUE TO TRUE ACCOUNT RIGHT YES YA YOU ON SEVENTEEN APRIL NINETEEN SIXTY THREE OKE'S ABOUT YOUR PAYMENT I'M SURE YOU ALREADY KNOW MA'AM IT'S NINE EIGHTY TWO RIGHT YES WILL YOU BE ABLE THE ATEN YA WILL YOU BE ABLE ASIA WHEN CAN YOU COME I BELIKE TO DIE TO DAY\"}\nGROUND_TRUTH:\n\nGOOD DAY MAAM HOW ARE YOU IM GOOD OKAY IM LOOKING TO SPEAK TO ALEXA MANUEL SPEAKING MAAM MY NAME IS JOSEPHINE IM CALLING YOU TODAY FROM MBD ATTORNEYS OKAY ALRIGHT SO IM CALLING FOR THE TRIAL WITH ACCOUNT JUST TO CONFIRM YOU BORN 22ND DECEMBER 1978 PLEASE NOTE ALL CALLS ARE RECORDED MAAM YOU OWN 2010 RAMS SO YOUR FILE IS WITH MBD THIS MONTH ARE YOU PAYING AGAIN ON THE MONTH END YES YOURE PAYING THE AMOUNT OF 500 OR WILL YOU BE AT ALL NO NOT 500 SO EVERY MONTH ON THE LAST DAY OF THE MONTH CAN WE ARRANGE FOR THE PAYMENT TO COME THROUGH ON A SPECIAL ARRANGEMENT WHICH IS A DEBIT ORDER NO WE CANT WE CANT ALL RIGHT ITS FINE PAY OFF THE SHOP OR DO I HAVE TO WAIT FOR PAYMENT TO COME THROUGH THE MOMENT YOU DO SETTLE YOU CAN USE YOUR ACCOUNT AGAIN OKAY NO PROBLEM ALL RIGHT THANK YOU SO MUCH THANK YOU BYE\n\nMODEL:\n\n{'text': \"A GOOD DAY MA'AM HOW ARE YOU O O O O K I'M LOOKING TO SPEAK TO A LIE A MANO SEAM MY NAME IS JOSEPHINE I AM CALLING YOU TO DAY FROM M B C ATTORNEYS OR KIND BOWING SO AM CALLING FOR THE CRUETS ACCOUNT JUST TO CONFORM YOU WON TWENTY SECOND DECEMBER NINETEEN SEVENTY EIGHT BOWING THESE NOT ALL CALLS ARE REPORTED MAM YOU AINT THROUGH ITS TWO THOUSAND AND TEN RENT SO YOUR FILE IS WITH M B D THIS MONTH ARE YOU PAYING AGAIN ON THE MONTE ME YOU'RE PAYING THE AMOUNT OF FIVE HUNDRED TEN OR WILL YOU BE A BERESET NO FOUR HUNDRED SO EVERY MONTH ON THE LAST DAY OF THE MONTH CAN WE ARRANGE FOR THE PAYMENT TO COME THROUGH ON A SPECIAL ARRANGEMENT A DEAD BUT ORDER NO YOU CAN'T WE CAN'T ALL RIGHT IT'S MINE PAY OF THE SHOP OR DO N E OF TRAIT FOR PAYMENT TO COME THROUGH THE MOMENT YOU DO SETTLE YOU CAN USE YOUR ACCOUNT AGAIN OKE NO PROBLEM A IAGOO MUCH CAN LEAN\"}\nGROUND_TRUTH:\n\nDAY GOOD DAY GOOD DAY SPEAKING TO REBECCA MAY I PLEASE SPEAK TO MS DOROTHY OLIPHANT YEAH HELLO MS OLIVANT IM CALLING FROM SHERWOODS ACCOUNTS DEPARTMENT ABOUT YOUR PAYMENTS I NEED YOU TO CONFIRM YOUR BIRTHDAY DATE ALL RIGHT YOUR BIRTHDAY IS ON THE FOURTH SEPTEMBER 19 1961 MAAM OKAY THE CALL IS RECORDED YOUR BALANCE ON THIS ACCOUNT ITS 2168 AND THE AMOUNT YOU NEED TO PAY\n\nMODEL:\n\n{'text': \"GOOD DAY GOOD DAY GOOD DAY SPEAKING TO DE BATIMENT TEA TO MISTER DOROTHY OLIPHANT YE ALLOW MISS OLIPHANT I'M PHONING FROM SHOW ITS ACCOUNTS DEPARTMENT ABOUT YOUR PAYMENTS I NEED YOU TO CONFIRM YOUR BIRTHDAY I'M GOING TO PAY AND A MONTH AND ON THE TWENTY EIGHTH ALL RIGHT YOUR BIRTHDAY IS ON THE FOURTH SEPTEMBER NINETEEN NINETEEN SIXTY ONE MERE YOKE THE CALLES RECORDED YOUR BALANCE ON THIS ACCOUNT IT'S TWO THOUSAND ONE HUNDRED SIXTY EIGHT TEN AND THE AMOUNT YOU NEED TO PAY\"}\nGROUND_TRUTH:\n\nHOW ARE YOU FINE AND YOU YES IM GOOD CAN I SPEAK TO USHANA SPEAKING OSHANA SPEAKING TO MUZZLE FROM TRUE AT THE COUNCIL DEPARTMENT YESTERDAY BE SURE TO SPEAKING TO SENIOR YES WHAT REGARD TO YOURE SPEAKING TO MARZIA FROM THROUGHOUT THE IM CALLING YOU REGARDING YOUR TRUEER ACCOUNT I PAID THE ACCOUNT WHEN TODAY OKAY ALRIGHT I THINK ITS STILL GOING\n\nMODEL:\n\n{'text': \"LONG ARE YOU SIMON YOU YES I FORETASTE SO WE SHUN SPEAKING SUNSPKINEG TO MASEFOM TRUE CONSECRATED ES ATES B SURE AN SIX SPEAKING TO HER I ITINEPONEN NICOLAI CAN'T HEAR YOU JUST TO BE SURE RETURNED SPEAKEE TO RIGHT PISEN OR PONY NINETEEN AS SEVENTY SIX DECEMBER TWENTY YES WHAT I GOT TO REGARD TO JUST SPEAKING TO MATE FROM A CRUET I'M CALLING YOU REGARDING YOUR TRUETT ACCOUNT SO DO I PAID THE ACCOUNT WHEN KITTY OH KATY ALL RIGHT SETTING STILL FOR HER KANENOA PIE TENTS\"}\nGROUND_TRUTH:\n\nI PLEASE SPEAK TO LEAD SOMETIMES YOU ARE SPEAKING WITH VALENTIA CALLING FROM THROUGHOUT TO CONFIRM THAT IM SPEAKING WITH THE CORRECT PERSON PLEASE CONFIRM YOUR DATES OF BIRTH AS POSSIBLE THANKS KINDLY NOT ALL CALLS ARE RECORDED SO WE VALUE THE CUSTOMER I AM CALLING YOU IN REGARDS TO YOUR OVERDUE THROUGHOUT THE ACCOUNT WHICH HAS BEEN HANDED OVER TO TRUE DEPARTMENT COLLECTION FOR THE AMOUNT DUE OF 2850 BALANCE IS 11352 SO WHAT IS THE REASON FOR NOT PAYING YOUR ACCOUNT 28 ALL RIGHT SO ON 28TH YOU ARE REQUIRED TO PAY 2850 TO PERISH YOUR AREAS WE CAN ALSO ARRANGE A CONVENIENCE OKAY CAN YOU PLEASE CONFIRM YOUR ADDRESS NOTHING HAS CHANGED THANK YOU SO MUCH\n\nMODEL:\n\n{'text': \"CANNOT BE PITIED SAN TAN JANE SEE YOU ARE SPEAKING WITH BALLENGUNNING FROM TRUE CONTENTED ON TITAN WITH A COLLATION PLEASE CONFINE YOUR DATES OF PETER ARTS OF TOUSSAINT HUNT SORT SPENDER IN UNDETECTANKS KINDLY NOT OUR CARS ARE RECORDED SO WE VALUE THE CUSTOM I AM CALLING YOUR REGARDS TO YOUR OVERTURE AT ACCOUNT WHICH HAS SEE HANDED OVER TO TRUEFITT MEN COLLECTION FOR THE AMOUNT YOU OF TWO THOUSAND EIGHT HUNDRED TEN SIFTIALAN OF SEVEN THOUSAND SONS EN IF TITO SO SIR WHAT IS THE REASON FOR NOT SAYING YOUR ACCOUNT TO A CHERRY TEETER AH WHEN ARE YOU PAY TANGOEENTY ALL RIGHT SIR ON TWENTY EIGHT SAY YOUR RECORDS OF TASTETHOUSAND EIGHT HUNDRED AND IT SO CHERISH YOU ERAS WE CAN ALSO ARRANGE DEED SAT TETE A RIGHT SEANTONTIN ENT YOU WON'T SEND UNTO AND SEVEN TO THE COVER TOO CASE SENOR PLEASE ON EM YOUR ADDRESS IN TOTTIE NOTHING HAS CHANGED TO A NAUSEOUS E E OE TEN TEN THOUSAND EE TRYING TO TEA AS A\"}\nGROUND_TRUTH:\n\nI SPEAK TO ANGELINA AND KOALA YES IM CALLING YOU FROM MBD CREDIT SOLUTIONS FOR YOUR TRUEITS ACCOUNT YOUR DATE OF BIRTH IS 19570 324 CORRECT PLEASE BE ADVISED THIS CALL IS BEING RECORDED YOUR TOURS ACCOUNT IS FOUR MONTHS IN ARREARS THE AMOUNT DUE IS 3130 RAND THE BALANCE IS 7455 OKAY WHAT HAPPENED THAT YOU ARE ON ARREARS ARE YOU HAVING A PROBLEM YES IM NOT WORKING OKAY I HAVE CALLED I ASKED MY DAUGHTER TO PAY OKAY BUT YOU NEED TO PAY YOUR INSTALLMENT OF 730 BY THE END OF THE MONTH OKAY OKAY I WILL TALK TO THEM OKAY SO ON THE 28TH YOU MUST PAY 730 OKAY OKAY CAN YOU LEAVE IT IN YOUR BANK SO WE CAN DEDUCT IT FROM YOUR BANK ITS EASY AND CONVENIENT DO YOU HAVE A BANK ACCOUNT WELL I DONT KNOW IF ITS YOU DONT HAVE A BANK ACCOUNT SO CASH ACCRUIT WHEN YOU PAY ALL YOUR ARREARS WE WILL SEND YOUR ACCOUNT BACK TO THE STORE IF YOU DONT PAY THEN YOU CAN GET HANDED OVER TO THE ATTORNEYS OKAY OKAY THANK YOU BYE\n\nMODEL:\n\n{'text': \"ONE CAN I SPEAK TO ANGELINA AND COLA I'M CALLING YOU FROM M B DICTATED SOLUTION FOR YOU TRUANTS ACCOUNT YOUR DATE OF BIRTH IS NINETEEN FIFTY SEVEN SEVEN THREE TWENTY SEA TWENTY FOUR CARE PLEASE THE ADVICE OF CALL IT THEN ACCORDED YOUR TRUEST ACCOUNT IS FOUR MONTIERS THE AMOUNT DUE IS THREE THOUSAND ONE HUNDRED AND THIRTY REN THE BALANCE IS SEVEN THOUSAND FOUR HUNDRED AND FIFTY FIVE REN O K WHAT HAPPENED AT YOU ON AREAS ARE YOU HAVING A PROBLEM AND IS A WAY WE O K A COOK I ASK NOT A TOT O K BUT YOU NEED TO PAY YOUR INSTALLMENT OF SEVEN HUNDRED THIRTY RAN BY THE END OF THE MONTH O K O K I L O K SO UNDER TWENTY EIGHT YOU MUST SAY SEVEN HUNDRED AND THIRTY REN O K O K CAN YOU LEAVE IT IN YOUR BANK SO WE CAN DEDUCT SOM YOUR BANK IS EASY AND CONVENIENT DO YOU HAVE A BANK ACCOUNT NOT ON YOUR NOSE OR EVER BANK ACCOUNT TO CASH AT TRUE WHEN YOU PAY ALL YOUR ARREARS LEVEL AND YOU COME BACK TO THE STORE IF YOU DON'T PAY THEN YOU CAN GET HAND IT OVER TO THE ATTORNEYS O K THANK YOU BUT I\"}\nGROUND_TRUTH:\n\nCAN I SPEAK TO MS MARTHA SPEAKING TO NAM PAMELA FROM MP TWO REGARDING TO US YES CALLS ARE RECORDED CAN YOU KINDLY CONFIRM DATE OF BIRTH ALL RIGHT WE THANK YOU SO MUCH FOR THE PAYMENT OF 100 IT WAS MADE THIS MONTH ON THE 8TH SO YOURE COMING TO PAY AGAIN RIGHT NOW NEXT TIME I GET MARRIED ANYMORE OKAY ALL RIGHT THE PENSION STARTS ON THE DEBT MORE RIGHT YEAH I WILL THANK YOU THANK YOU THANK YOU BYE\n\nMODEL:\n\n{'text': \"HELLO CANNOT FIX SO MUCH MATE GET SPEAKING A MUTATION ON M MILLION OF SOME EMPTY THERE CATINAT YE YE HALLS ARE RECORDED IN CANYON FORM PASO BUT IT'S NINETEEN FORTY ONE OF THE BED IN TWENTY FOUR TO TOTE ALL RIGHT AM ARE WE THANK YOU SO MUCH FOR THE PAYMENT OF ONE HUNDRED THE SOMA TO THE MAN UNDER IT SO SOME TWO HUNDRED BUT SAY THE ONE HUNDRED SO YOU COMING TO PAY A CANON NOW TWO HUNDRED A YEAR NOW THE NEXT TIME I'LL BE I'M OUT ON MORE TAKE ON TO ITERATE ANY MORE OH I GET ALL RIGHT UNDER THE PENSION SAT ON THE BED O YOU PAY ON A MAT A YET NO INCH NOME ON THE FORT SO YOU ALL RIGHT I I MANY MA'AM BE OFF YET AKIN I TELLS MORE THAN PAY HIM ALL RIGHT YAR A WORD TAKEN NOT IN YOU THANK YOU THANK YOU BY A\"}\nGROUND_TRUTH:\n\nHOW ARE YOU SIR IM CALLING FROM MPD LEGAL COLLECTIONS REGARDING YOUR TRUETS ACCOUNT YES ALL CALLS ARE RECORDED AND CALLING IN REGARDS TO YOUR TRUETT ACCOUNT FOR SECURITY CHECK DO YOU CURRENTLY CONFIRM YOUR DATE OF BIRTH FOR ME PLEASE THE REASON WHY IM CALLING YOU TODAY IS BECAUSE OF THE OUTSTANDING BALANCE AND 41 RENT THAT YOU NEED TO PAY IN ORDER FOR YOU TO BRING YOUR ACCOUNT UP TO DATE PARDON ME IM TH ON THE 15TH STILL SLEEPING HELLO\n\nMODEL:\n\n{'text': \"WELL METOPES MY SON PAPA NO OW ARE YOU SIR AM CALLING FROM EMPTILY LEGAL COLLECTIONS REGARDING YOUR TRUETT'S ACCOUNT AT ESAU CALLS ARE RECORDED THEM FOLDING IN RECAST YOUR TRUET'S ACCOUNT FOR SECURITY TAKE ME YOU KINDLY CONFIRM YOUR TASTE FOR ME PLEASE I DO THERE IS NO AM FOLDING IT TO DAY BECAUSE OF YOUR OUTSTANDING SILENCE A NOSIN FORTY ONE RENT WHICH YOU NEED TO PAY IN ORDER FOR YOU TO BRING YOUR ACCOUNT UP TO DAYS IN TAINTED PAIN MISS ON THE FIFTEENTH YOU ARE SAFE LEAPING TO A SOB O HELLO A HELLO I O CASEMENT A CUTE CALAIS A WOMAN A POETESS IN A MONEY GROVELLERS PUT MILE I HAVE FACED A TWENTY FIVE MEDICINE VAN SAY I WANT A GAINSAYING AN COME\"}\nGROUND_TRUTH:\n\nMORNING MAY I PLEASE SPEAK WITH MRS CHANE SPEAKING MAAM YOU ARE SPEAKING TO LORRAINE IM CALLING FROM TRUETTS ACCOUNTS DEPARTMENT AS PART OF OUR SECURITY CHECK CAN YOU KINDLY CONFIRM YOUR DATE OF BIRTH THANK YOU FOR YOUR CONFIRMATION PLEASE BE ADVISED CALLS ARE RECORDED I DO LIKE TO THANK YOU FOR PAYING AN AMOUNT OF 650 RENT YOU PAY THAT ON THE 13 FEBRUARY THANK YOU FOR THAT YOU HAVE NOW AN AMOUNT DUE A BALANCE 6792 AMOUNT DUE NOW IS 650 YOULL BE PAYING THAT AGAIN ON WHICH DATE SAY IT AGAIN YOUR NEXT PAYMENT AGAIN FOR THROUGH IT BECAUSE REMEMBER YOU HAVE ALWAYS BEFORE THE 7TH BEFORE THE 7TH YOURE GOING TO PAY ANOTHER 650 NO NEXT MONTH YES YOURE GOING TO PAY ON THE 7TH YOURE GOING TO PAY THE 650 YES OKAY SO ITS GOING TO BE 650 AGAIN LETS SAY LATEST ON THE 7TH SO YOU CAN PAY ANY TIME BEFORE DO YOU HAVE AN ACTIVE ACCOUNT I COULD SET YOU UP IN A MONTHLY DEBIT ORDER IT WILL SAVE YOU THE TIME THE TRAVEL COST NO I WOULD LIKE TO SAY NOT A PROBLEM THANK YOU SO MUCH FOR YOUR TIME ENJOY YOUR DAY GOODBYE BYE\n\nMODEL:\n\n{'text': \"GOOD MORNING MAY I PLEASE TAKE OUT MISS THE SHAM SOULS DAY MAN YOU ARE SPEAKING TO LORAINE I'M COOLING FROM TRUE ACCOUNTS DEPARTMENT I SPORT IF I WAS SECURITY CHECK CAN YOU KINDLY CONFIRM YOUR DATE OF BIRTH MAENAYES I ANSTHANK YOU FOR YOUR CONFIRMATION PLEASE THE ADVICE CALLS A QUOTED I DO LIKE TO THANK YOU FOR PAYING AN AMOUNT OF SIX HUNDRED AND FIFTY AN YOU PAY THAT ON THE THIRTEENTH OF FEBRUARY THANK YOU FOR THAT YOU HAVE NOW AN AMOUNT DUE A BALANCE SIX THOUSAND SEVEN HUNDRED AND NINETY TWO RENT AMOUNT DUE NOW IS SIX HUNDRED AND FIFTY THEN YOU'LL BE PAYING THAT AGAIN ON WHICH DATE I YOU DON'T EXPYMENT AGAIN FOR THROUGH ITS CAUSE REMEMBER YOU HAVE A FORT WE BOARD A SEVENTH YOU'RE GOING TO PAY ANOTHER SIX FIFTY A MAN MUCH WHERE YOU ARE YOU GOING TO PAY ON THE SEVENTH YOU ON TO PAY THE SIX FIFTY A GAS SO IT'S GOING TO BE SIX FIFTY AGAIN LET'S SAY LATEST OF THE SEVENTH SO YOU CAN PAY ANY TIME TY FOR AS YOU HAVE AN ACT OF ACCOUNT I COULD TAKE YOU UP AN AMOUNT BUT ORDER IT WON'T PAY YOU THE TIME THE TRAVEL COST I WANT MARTINENOT TO TROUBLE THANK YOU SO MUCH FOR YOUR TIME YOU TIE A\"}\nGROUND_TRUTH:\n\nIS YOUR DATE OF BIRTH PARDON WHAT WHAT IS YOUR ID NUMBER YES ALL RIGHT IM CALLING IN REGARDS TO YOUR TOWERS ACCOUNTS WHAT YOUR THROUGH WHAT ACCOUNT THROUGH WHAT OKAY NOW YES WHEN ARE YOU COMING TO PAPER THROUGH WHAT YES NOW YOURE GOING TO PAY NOW 1180 OKAY OKAY SO IM GOING TO PROCESS IT FOR TODAY THAT YOURE GOING TO PAY 1180 OKAY OKAY NOW THROUGH WHAT IS REQUIRING YOUR PAYMENT TO COME THROUGH AS A DEBIT ORDER OKAY WHICH BANK ACCOUNT ARE YOU USING MA WHAT IS THE NAME OF YOUR BANK ACCOUNT THAT YOU ARE USING I KNOW OKAY THEN COME TODAY AND PAY 1180 YOU PAY THIS YOUR ACCOUNT IS UP TO DATE OKAY OKAY THANK YOU FOR YOUR TIME GOODBYE\n\nMODEL:\n\n{'text': \"WHAT IS TO DAY A FORT AT WHAT IS YOUR IDEA NUMBER I AAANTONCH LUNCH LA YAR IS TEN MUCH YEN MARCH NINETEEN SIXTY THREE YES ALL RIGHT I'M GOING IN THE COUNT TO THROW AT A POUND O PAY AT YOUR THROAT TO COUNT TOWARD O AY O NOW NOW NOW NOW YES WHEN ARE YOU COMING TO PAY FOR THROAT YE BOYS NOW NOW YOU'RE GOING TO PAY NOW ONE THOUSAND ONE HUNDRED AND EIGHTY THERE BOKES OF CASE I'M ON TO CLOSETS FOR TO DAY THAT TO ONE OF HER ONE THOUSAND ONE HUNDRED AND EIGHTY EN BOCA NOTRE WAITE QUOTING YOUR PAYMENT TO CONDONATION THOU WOBANK OF COUNT YOU YOU DID MA BOCA WHAT IS THE NAME OF OUR BANK TO HOUNDED TO WIRE YOU IT I KNOW NO NO NO OF CETINOME TO DAY AN TAY ONE THOUSAND ONE HUNDRED AND EIGHTY OR ON YOU DAY THE YOURN AVE TO DAY TO OCOUMSO A\"}\nGROUND_TRUTH:\n\nCAN I PLEASE SPEAK TO FICILLA AND SCHLAPO MAYA SORRY LUKEWARMAYA FICULA YOU ARE SPEAKING TO CHARLENE IM CALLING IN FROM MBD CREDIT SOLUTION YOUR DATE OF BIRTH IS THE 22 FEBRUARY 76TH YEAH THANK YOU FOR YOUR CONFIRMATION PLEASE NOTE CALLS ARE RECORDED ITS REGARDING YOUR THROAT ACCOUNT OKAY YOUR TOTAL DUE ON THE ACCOUNT IS 28712 IS THERE A REASON FOR YOU NOT PAYING THE ACCOUNT WHAT DATE ARE YOU PAYING YOUR ACCOUNT\n\nMODEL:\n\n{'text': \"NOW CAN I PLEASE PICK TO FACILE AND SHLAPE COMINO SURE COMIN FICILE YOU ARE SEEKING TO CHARLIN I AM CALLING IN FROM M B D TWENTY SOLUTION YOUR DATE OF BIRTH IS THE TWENTY SECOND OF FEBRUARY SEVENTY SIX WE THANK YOU FOR YOUR CONFIRMATION PLEASE NOTE CALLS ARE RECORDED ITS REGARDING YOUR THROAT'S ACCOUNT WELL YOUR TOTAL DUE ON THE ACCOUNT IS TWO HUNDRED AND EIGHTY SEVEN AND TWELVE SINCE NO IS THERE A REASON FOR YOUR NOT PAYING THE ACCOUNT I BOBO BUT MOO O O O O WHAT DATE ARE YOU PAYING YOUR ACCOUNT\"}\nGROUND_TRUTH:\n\nCAN I PLEASE SPEAK TO MS NAKATULA SPEAKING IM CALLING FROM MBD CREDIT SOLUTIONS IS YOUR DATE OF BIRTH THE 14 APRIL 1970 IM CALLING FROM MBD REGARDING YOUR TRUEITS ACCOUNT ALL OUR CALLS ARE RECORDED YOU GOT A BALANCE HERE THAT IS 3492 CAN YOU PAY THE FULL AMOUNT OR DO YOU WANT TO PAY THE INSTALLMENT EVERY MONTH HOW MUCH THIS MONTH I PAY HALFWAY OKAY SO THIS MONTH ON WHAT DATE ARE YOU MAKING A PAYMENT TODAY TOMORROW I DID OKAY WHEN ARE YOU MAKING YOUR NEXT PAYMENT\n\nMODEL:\n\n{'text': \"YOU ME ALL A HERO LEO CAN I PLEASE PAY TO MENACE TO LA I I'M CALLING FOR ME BY DICE DISTRIBUTIONS IS YOUR DATE OF BIRTH THE FOURTEENTH OF APRIL NINETEEN SEVENTY NINETY TERSE EVEN I'M CALLING FOR ME BE DADEGARDING YOUR TRUE ACCOUNT ALL I CALLED OUT A CODE YOU'VE GOT A BALANCE HERE THAT IS THREE THOUSAND FOUR HUNDRED NINETY TWO RENTS CAN YOU PAY THE FULL AMOUNT OR DO YOU WANT TO PAY THE INSTALLMENTS AEETES A MINE HE OINTMENT A MILLION THE MONTH HOW MUCH NAY TWO HUNDRED THIS HUNDRED HOUSES IO CASE OF THIS MONTH YEAR ON WHAT DATE ARE YOU MAKING A PAYMENT TO DAY TO MORROW ARE YOU A A I I HE WHEN ARE YOU MAKING YOUR NEXT PAYMENT AS\"}\nGROUND_TRUTH:\n\nGMKI GOOD MORNING MAAM YOURE SPOKEN TO NUTRITION IM CALLING YOU FROM MBD FROM WHAT ITS REGARDING YOUR TRUEST ACCOUNT HELLO IM CALLING CALLING YOU REGARDING YOUR TRUE WITS ACCOUNT OKAY NOW CAN YOU CONFIRM YOUR DATE OF BIRTH FOR ME THANK YOU SO MUCH FOR THAT I UNDERSTAND OUR CALL IS GOING TO BE RECORDED OKAY NOW YOUR BALANCE IS AT 3120 INTO YOU OKAY BUT WE NEED AN IMMEDIATE PAYMENT OF 1363 OKAY NO MAAM ILL PAY ATTENTION WHEN DID YOU MAKE AN AGREEMENT TO PAY 400\n\nMODEL:\n\n{'text': \"TO MISSUS G GOING I DONT HALLO GOOD MORNING MA'AM YOU ALL SPOKEN TO PATRICIA AND I'M QUOTING YOU FROM M B D O IT REGARDING YOUR TRUEST ACCOUNT HALLO HALLO LOAN I I'M CLING YOU REGARDING YOUR TRUEST ACCOUNT TO COO CAN YOU CONFIRM YOUR DATE GUARDS FOR ME YOUR NOTES ARE IN FORT THANK YOU SO MUCH FOR THAT I UNDERSTAND OUR CALL IS GOING TO BE RECORDED A KAY NOW COULD I DONE FOR THAT THREE THOUSAND ONE HUNDRED AND TENTH O K BUT WE NEED AN IMMEDIATE PAYMENT OF ONE THOUSAND THREE HUNDRED AND SIXTY THREE ANSWER K O O O VER A GREAT AREA VERY POTATO WHEN DID YOU MAKE AN AGREEMENT TO PAY FOUR HUNDRED A LA LA IN\"}\nGROUND_TRUTH:\n\nHELLO YEAH MAY I SPEAK TO MR M MAVANA SPEAKING YOURE SPEAKING TO VALENCIA IM CALLING FROM TOURIST COLLECTIONS DEPARTMENT CAN YOU CONFIRM YOUR DATE OF BIRTH FOR ME CALLS ARE RECORDED IM JUST CALLING TO REMIND YOU PAYMENT IS DUE TODAY YOU PROMISED TO PAY THE AMOUNT OF 131 2 OKAY IS THERE ANY WAY YOU COULD PAY A BIT MORE THAN THAT SIR BECAUSE THE DUE AMOUNT IS 2300 YOU HAVE TO PAY FOR JANUARY NO I TOLD THE LADY YESTERDAY SO WE LOOK FORWARD TO YOUR PAYMENT TODAY ITS 1200 ARE YOU MAKING A CASH PAYMENT OR ARE YOU GOING TO DO AN ONLINE I SAID TO THE LADY YESTERDAY SIR YOURE SPEAKING TO ME TODAY ALL RIGHT SIR THANK YOU I LOOK FORWARD TO YOUR PAYMENT TODAY OKAY BYE ALL RIGHT\n\nMODEL:\n\n{'text': \"HELLO NO MAY I SPEAK TO MISTER M WHY NO SPEAKING YOU'RE SPEAKING TO VALENCIA I'M CALLING FROM THROATS COLLECTIONS DEPARTMENT CAN YOU CONFIRM YOUR DATE OF PRICE FOR ME SINCE NINE ZERO NINE ONE FOUR CALLS ARE RECORDED I'M JUST CALLING TO REMIND YOU PAYMENT IS DUE TO DAY YOU PROMISED TO PAY THE AMOUNT OF ONE POINT THREE ONE POINT TWO UNENDED AND ONLY ENDING OF SADIE I HAVE FORGOTTEN ENDED OUR KASANA COULD PAY A BIT MORE THAN THAT SIR CAUSE THE DUE AMOUNT IS TWO THOUSAND THREE HUNDRED YOU ARE TO PAY FOR GENUINE NO I MATAI TOLD THE LAD ESTATE CESAR WE LOOK FORWARD TO YOUR PAYMENT TO DAY ONE IT'S ONE THOUSAND TWO HUNDRED ARE YOU MAKING A CASH PAYMENT ARE YOU GOING TO DO OR UNLIMITED TO THE LADY ESTATE YES ARE YOU SPEAKING TO ME TO DAY I ALONE AM I TOLE ALL RIGHT SIR THANK YOU I LOOK FOWARD TO YOUR PAYMENT TO DAY O KY IN ALL RIGHT\"}\nGROUND_TRUTH:\n\nHOW ARE YOU IM ALL RIGHT CAN I SPEAK TO LANE SPEAKING TO CHRISTOPHER IM CALLING FROM THROUGHOUT THE CURRENT DEPARTMENT YES YES PLEASE VERIFY DATE OF BIRTH OKAY THANK YOU CALLS ARE VOICE RECORDED FOR QUALITY AND RECORD YOU ACCOUNTED TO AT 1022 TO GET YOUR AMOUNT OF THIS MONTH YES IM CALLING TO MAKE YOUR ARRANGEMENT FOR THAT PAYMENT SIR END OF THE MONTH END OF THIS MONTH YOURE GETTING PAID LAST DAY OF THE MONTH OR 25 MONTH JUST LAST DAY OF THE MONTH OKAY LAST DAY THIS MONTH IS 28 BECAUSE FEBRUARY IS ENDING ON THE 28TH OKAY SO YOU PAY THE 1022 NO PROBLEM ALSO HAS METHOD OF DEBIT OR THE MORE CONVENIENT YOU SAVE TIME YOU DONT HAVE TO SPEND A QUEUE THROUGH IT AND PAY THE ACCOUNT NO YOU GO STRAIGHT TO THE STORE ALL RIGHT AGAIN MAKE SURE YOU COME THROUGH EVEN IF YOU PAY IT BY FIVE GRAND THE ACCOUNTS STILL FALL FURTHER BUT ONCE YOURE DONE YOULL BE ABLE TO USE YOUR ACCOUNT AFTER THIS PAYMENT SIR NO PROBLEM OKAY THANK YOU VERY MUCH FOR YOUR TIME BYE\n\nMODEL:\n\n{'text': \"YES HOW ARE YOU O ALL RIGHT CAN AS PEOPLE SAY LANE TO TO SPEAK IN A TEATIME COME THROUGH AT THE COUNT DE TTMENT O YES SIR I LITERATI AGE OF FAT ON TO TO I CAN TAN CALLED REVOCARE O FORTY GAELIC HE ACCOUNTED THROAT ONE THOUSAND AND TWENTY TWO RANTING TO AMOUNT IT IS M YES I'M GOING TO MAINE FOR THAT PAYMENT IN NO GOOD I'M GONE YET SAID THE OOMA SENT OUT THIS MAN OH YOU'RE GETTING PAID LAST AY OF DEMAND OR TWENTY FIVE TO MARION ALL THE LAST OF THE MAN A KEY LAST DAY AT THIS MANTIS TWENTY EIGHT BECAUSE WE FORTY TWENTY ONE TWENTY EIGHT NEXT SO YOU PAY THE ONE THOUSAND AND TWENTY TWO RAN OH SAY O FROM YOU SO I HAD MET OF TERRY TO A MORE CONVENIENCE YOU SAVE TIME YOU DON'T ENTERETH AT TEN THE ACCOUNT O O O O O O O O O STRATO RESTORE ALL RIGHT AGAIN MAKE SURE YOU COME THROUGH EVEN A SHORT PAID FIVE FIVE PRINT ACCOUNTS THE FAT FATHER AT ONCE YOU CAN YOU'LL BE ABLE TO USE YOUR ACCOUNT AT TITIPAYMENT SET A TATTINE MUCH FROSINE IN\"}\nGROUND_TRUTH:\n\nYES HELLO CAN I SPEAK TO MR WANJAY BALIZWINI SPEAKING TO ZOLA IM CALLING YOU FROM THROUGH ACCOUNTS DEPARTMENT AND PLEASE BE ADVISED OUR CALLS ARE RECORDED FOR THE SECURITY CHECK CAN YOU PLEASE CONTACT CONFIRM YOUR DATE OF BIRTH YES OKAY THANK YOU FOR THE CONFIRMATION THERES A BALANCE ON THIS ACCOUNT OF 9947 WITH THE DUE AMOUNT OF 3363 ONCE YOUR TOTAL DUE AMOUNT IS PAID THIS ACCOUNT WILL BE UP TO DATE YOU WILL QUALIFY TO GET A BUYING POWER TO BUY AGAIN ON THEIR ACCOUNT AND THEY NEED A PAYMENT TO BE PAID IMMEDIATELY ON THIS ACCOUNT WHICH DATES ARE YOU GOING TO MAKE A PAYMENT 22 ARE YOU GOING TO PAY THE DUAL AMOUNT ON THE 26TH YES A PAYMENT IS ALSO REQUIRED TO BE DONE WITH THE DEBIT ORDER IT SAVES YOUR TIME AND TRAVEL COST IT ALSO INCLUDES YOUR CREDIT RECORD YES ALL RIGHT DO YOU GET YOUR SALARY ON THE 26TH ALL RIGHT BUT YOU NEED TO ENSURE THAT YOU DO KEEP UP TO YOUR ARRANGEMENT TO AVOID ANY AREAS FROM ADDING UP FAILURE TO MAKE YOUR PAYMENT OR SHORT PAYING EVEN BY FIVE FRANCS MIGHT RESULT IN THIS ACCOUNT FROM BEING HANDED OVER TO THE LEGAL DEPARTMENT OKAY OKAY AND ALL YOUR CONTACT DETAILS ARE STILL THE SAME NO CHANGES OKAY THANK YOU FOR YOUR TIME BYE\n\nMODEL:\n\n{'text': \"HE SALACANNOT FIX TO MISTER ONE DAY PALISADE FU THE SEEING SO DOLLA I AM CALLING YOU FROM TRUE ACCOUNTS DEPARTMENT AND CAVES THE ATTIC OF A CASE RECORDED FOR THE SECURE CHECK ANY PAS CONFIRM YOUR TAES OF PITH IN THE FOOT CAN THANK YOU FOR THE CONFIRMATION THERE'S A BALANCE ON THIS ACCOUNT OF NINE THOUSAND IN UNDENTRTY SEVEN AND WITH IT YOU AMOUNT OF THREE THOUSAND THREE HUNDRED ENTITIES ONCE YOUR SOLO AMOUNT IS PAID ON THIS ACCOUNT I THY ABODE YOU WILL QUALIFY TO GET A SAYING THOU O I AGAIN ON THE ACCOUNTS AND I NEED A PAYMENT TO BE PAID IMMEDIATELY ON THIS ACCOUNT WHICH TAKES A METAPAYMENT A IA ON A PAY THAT TO AMOUNT ON THE TWENTY SIXTH THE PAYMENT IS ALSO REQUIRED TO BE M I E E E OR DENT IT SAVES YOU TIME AND TRAVEL COST WHICH ALSO YOU OWE YOUR REDE RECORD GEOS ARE RIGHT BUT YOU GET YOUR SALARY ON THE TWENTY SIXTH YOU ARE RIGHT BUT YOU NESAN SHOW THAT YOU OUT YO IF YOU RE A RANGEMENT VOID ANY ADYAROM DE MON FAIL TO MAKE YOUR PAYMENT OR SHORT PAYING GIVEN BY FIVE PINS MADE STAND HIS ACCOUNT OF AN OOT COEPARTMEN E CAIN ON AND ALL YOUR COMATOSE THE SAME NO CHANGES AT OUR CAN THANK YOU FOR YOUR TIME ALI\"}\nGROUND_TRUTH:\n\nCAN I SPEAK TO MISS MINI SPEAKING TO TREVANI IM CALLING FROM MBD CREDIT SOLUTIONS IM CALLING YOU WITH REGARDS TO YOUR TRUETS ACCOUNT FOR TRUE THIS CALL IS TO CALL CONFIRMED PAYMENTS ON YOUR ACCOUNT FOR THE MONTH YOU DO HAVE AN ARREST OF 6487 OKAY WILL YOU BE MAKING PAYMENTS ON YOUR ACCOUNT THIS MONTH I MADE A PAYMENT OF A CALENDAR YESTERDAY OKAY WAS THAT CASH EFT ELECTRONIC CASH AT THE SHOP OKAY DO YOU HAVE THE RECEIPT WITH YOU SORRY DO YOU HAVE THE RECEIPT WITH YOU THE RECEIPT BUT IM CURRENTLY DRIVING OKAY NO ITS FINE JUST KEEP THE RECEIPT WITH YOU BECAUSE THE PAYMENT HASNT UPDATED ON OUR SIDE AS YET OK IMMEDIATELY ONCE IT DOES WE WILL GIVE YOU A CALL BACK JUST TO KEEP YOU UPDATED ALRIGHT OKAY THEN THANK YOU FOR YOUR TIME GOODBYE\n\nMODEL:\n\n{'text': \"HALLO CAN I SPEAK TO MISS MIMI READ ME SPEAKING TO THE VANE I'M CALLING SOME ELETTREDIT SOLUTION I'M PHONING YOU WITH REGARD TO ART TOWARDS ACCOUNT FOR SO US THIS CLINGS TO CONFIRM PAYMENTS ON YOUR ACCOUNT FOR THE MONTH YOU DO HAVE AN ARREARS OF SIX THOUSAND FOUR HUNDRED AND EIGHTY SEVEN RUN O K WILL YOU BE MAKING PAYMENTS ON YOUR ACCOUNT THIS MONTH ONE HUNDRED THOUSAND OF POUND THAT IN A TODAY O K WAS THAT CASH E S T ELECTRONIC OASES OH KATY YOU HAVE THE RECEIPT WITH YOU I DO YOU HAVE THE RECEIPT WITH YOU THE RECEIPT YOU HAVE THE ONE CALIAS O KANT'S FINE JUST KEEP THE RECEIPT WITH YOU BECAUSE THE PAYMENT HASN'T UP DATED ON OUR SIDE AS YET KA YOU MEDIATELY ONE IT DOES WE WILL GIVE YOU A CALL BACK JUST TO KEEP YOU UP DAT ED ALL RIGHT O K THEN THANK YOU FOR YOUR TIME GOOD BY\"}\nGROUND_TRUTH:\n\nCAN I SPEAK TO NAMSA MASALA IM CALLING YOU FROM MBD CREDIT SOLUTIONS FOR YOUR TRUE WHATS ACCOUNT OKAY FOR YOUR TRUE WATTS ACCOUNT CALLING FOR YOUR TRUETS ACCOUNT THATS IN ARIA OKAY IS YOUR ID NUMBER YES PLEASE BE ADVISED THIS CALL IS BEING RECORDED YOUR ACCOUNT IS IN TWO MONTHS OF ARREARS THE AMOUNT DUE IS 1056 RANDOM TO HAPPEN OKAY ILL MAKE A NOTE THANK YOU BYE BYE OKAY THANK YOU BYE\n\nMODEL:\n\n{'text': \"HELLO CAN I STICK TO NUMA MASILELA KIN I'M CALLING YOU FROM EM BY DICTATED SOLUTIONS FOR YOUR TRUE ACCOUNT EH ARE YOU CALLING FOR YOUR TRUE WORDS ACCOUNT MAKE IS YOUR IDEA NUMBER NINETEEN EIGHTY TWO ZERO NINE THIRTEEN AT WELDON WE ARE CALLING FOR YOUR TRUE ACCOUNT THAT'S IN A COTE IS YOUR IDEA NUMBER NINETEEN EIGHTY TWO ZERO NINE THIRTEEN IS COMPLETELY ADVICE OF CALLIS BEING RECORDED YOUR ACCOUNT IS IN TWO MONTHS OF ARIES THE AMOUNT DUE IS ONE THOUSAND AND FIFTY SIX RAN WHAT HAPPENED THEN AM A MATE SOME CANARIES COLETTE YES I TO CALL THEM AND CAN DATE MY DICTATED TO DEFICIT ON WORDS TO FIT TO KILL MAKE A NOTE THANK YOU SAY ALICE\"}\nGROUND_TRUTH:\n\nGOOD MAY I SPEAK TO MABULA YEAH BOL YOURE SPEAKING TO ELLA IM CALLING FROM MBD LAYER DEPARTMENT OKAY ALL CALLS ARE RECORDED MAY I HAVE DATE OF BIRTH FOR SECURITY CHECK SORRY YOUR DATE OF BIRTH MAAM FOR SECURITY SO YOUR PAYMENT IS NEEDED TODAY TO CIRCLE IT OFF SORRY PAYMENT IS NEEDED TO PAY YOUR ACCOUNT OKAY SO WHEN YOU SAY OKAY YOUR AGREEMENT\n\nMODEL:\n\n{'text': 'WORD AM ACOLD MAN VICTOR MABELLA DEAR BO YOU SPEAKING TO ELAM CALLING FROM M P T DE TOPERTMENT A YOUR CAUSE ARE ACCORDED MAY I HAVE DATE OF PET FOR SECURITY CHECK DULY YOUR DATE OF PRESSMEN OR SECURITY ONE THING YOU AN IN CASE REGARDING TREAT A PARANSETTLEMENT IS THREE THOUSAND SEVENTY SO YOUR PAYMENT IS NEEDED TO DAY TO SEE IT OFF BY PAYMENT IS NEEDED TO PAY YOUR ACCOUNT O K SO WHEN YOU SAY OR CAYUGA TO PAY THREE THOUSAND AND IS TO TOTE DE K A LONG'}\nGROUND_TRUTH:\n\nHELLO HOW ARE YOU SIR GOOD AND YOU IM VERY AWESOME ID LIKE TO SPEAK TO MR FRYAS OMAR SPEAKING YOU ARE SPEAKING TO MR FRYERS FROM THE LAW FIRMS OF MVGNA RIGHT PLEASE BE BE ADVISED THAT OUR CALLS ARE BEING RECORDED FOR QUALITY AND FOR LEGAL PURPOSES FOR SECURITY CHECKS MR OMAR CAN YOU KINDLY CONFIRM ON YOUR DATE OF BIRTH JUNE 8 THANK YOU VERY MUCH SIR WE START WASTING YOUR TIME THIS IS REGARDS TO YOUR TRUEEST ACCOUNT ALL RIGHT SIR AND THEN THE LAST TIME YOU PROMISED TO SETTLE IT TWICE IN JANUARY BUT IT DID NOT COME THROUGH WHATS HAPPENING ON YOUR SIDE SIR ILL JUST CHECK UP ON THAT AND ILL LET YOU KNOW YEAH WE CAN TALK NOW AFTER 2 HOURS IM AT WORK NOW AFTER 2 HOURS YEAH OKAY ILL CALL BACK ALL RIGHT THANKS BYE\n\nMODEL:\n\n{'text': \"HALLO HALLO HERE AS A HOAR YOU A WOOL I'M VERY OLD SO I'D LIKE TO SPEAK TO YOU MISTER FAYETMA SPEAKER YOU AS I KIN CHINAS MISTER SAYETH FROM THE LATIN OF EMBIGINA WE PLEASE BE A TICAOUR CALL SATIN RECORDED FOR KATIE AND SO DIGITALIS FOR SUCH ACHATES MISTER AMOS CAN CANYON FRIEND ON YOUR TOES WELL YOU TEIXEIRA THANK YOU VERY MUCH SIR RETAINER TIME TEARE CARDS TO YOUR TRUE TOTAL AS OTHER PARASOL FOR ONE FOND I SENORITA AND THEN THE RATE YOU PROMISE TO FISETTE SUFFICE INCANAARI BUT IT IS NOT COME SO WHAT SETTING ON S L TO COPE THAT WILL BE LIKE A OWL TWO HOURS TO ANOTHER TO UTUTA A I SORRY I JUST THE O THAT LET YOU KNOW HER WE CAN TALK NOW MIS AFT TWO HOURS OTHERWORK DO AFTER TWO HOURS HE HAS A COAT LIGHT TAKE A LOT O\"}\nGROUND_TRUTH:\n\nGOOD DAY CAN I SPEAK TO MR SMND DE LEBE DE BELLE HOW ARE YOU TODAY IM FINE THANK YOU SIR IM GOOD THANK YOU YOURE SPEAKING TO CAROL IM CALLING YOU FROM TRUE ACCOUNTS DEPARTMENT SIR HELLO YOURE SPEAKING TO CAROL IM CALLING YOU FROM TRUETTS ACCOUNTS DEPARTMENT YES YES PLEASE NOTE THAT ALL CALLS ARE RECORDED FOR QUALITY AND SECURITY PURPOSES CAN YOU KINDLY CONFIRM YOUR DATE OF BIRTH FOR ME SO THAT IM SPEAKING TO THE RIGHT PERSON THANK YOU SO MUCH WE JUST GOT TO SAY THANK YOU SO MUCH FOR THE PAYMENT THAT YOU MADE IN YOUR ACCOUNT WEVE RECEIVED THE PAYMENT WERE REALLY GRATEFUL THANK YOU SO MUCH SIR OKAY THANK YOU BYE\n\nMODEL:\n\n{'text': \"GOOD DAY CARETTO THE STEM END TELABA EVEN THEN A BITE THE BALE GOODYEAR SO ARE YOU S COMPONENTS I'M GOOD AN EATING TO CAROL I'M CALLING YOU FROM TROIA COUNT DE FTMENT COO YOU TAKING TO CARE ALL I'M CALLING YOU FROM TRUE WAITS ACCOUNTS DEPARTMENT YE YE STARTED NOW THAT OUR CALLS ARE CARDED FO QUALITE TO TERESITA TENT THE CANTEEN TO CONTAMINATE PARMESAN THAT ANNOUNCED THE TEETH RIGHT TAINT THE CAN YOU SERVE TO MY DITTY TAKES MY SERVICE FOR SATIETY SERO TE PAY ME THAT YE MADE AN ACCOUNT TO ME PRESENTE THE MEN OF ESTEIN TATTERED SERENE ESTIMATE HER PERTINACITY\"}\nGROUND_TRUTH:\n\nARE SPEAKING WITH VALENTIA CALLING FROM THROUGHOUT TO CONFIRM THAT IM SPEAKING WITH THE CORRECT PERSON CAN YOU PLEASE CONFIRM YOUR DATE OF BIRTH ALL RIGHT CAN YOU PLEASE CONFIRM YOUR DATE OF BIRTH THANK YOU SO MUCH KIND OF AS YOU SAID YOU PAID YESTERDAY WHY DID YOU MAKE A PAYMENT CALL IF NOT JUST LIKE CASH ONLINE HOW MUCH DID YOU PAY I THINK ITS PLEASE ALL RIGHT SO THEN AS SOON AS YOUR PAYMENT IS SHOWING ILL CALL YOU BACK OKAY THANK YOU THANK YOU SO MUCH BYE\n\nMODEL:\n\n{'text': \"PEAK TO MICHEL VAN DER FENCE HE TITTONEYOU ARE SPEAKING WITH BALANCE TONIO TO WET THE CONTENT THAT ON TEN AORTOTIN SENORES CONTINUATOR AT TESTACEOUS ATTACK AND A TONTINE E HAD I DITMAONTY TO DAY ALL RIGHT THEN YOU LECONTE AT TAOS TEN YOU ANTOINE THANK YOU SO MUCH CANDIDATE OR CASARICO ET O DAGAEOOMUC SO AS YOU SAT YOU FACE YESTERDAY WE DID YOU MATAN COLLOTYPE TENT AND ON WINE OR HOW MUCH DO YOU THINK I THINK IT CONTINENT AND TURNED TO YOU ALL RIGHT SIR THEN AS SEEN AS YOU SAY MEN SHOWING I'LL CALL YOU THAT AGAIN THANK YOU THINK IT SO MUCH A N T I M E E E E E E\"}\nGROUND_TRUTH:\n\nI PLEASE SPEAK TO MR ST MABASO MRS YES ONE MOMENT PLEASE HELLO YES GOOD TIME IM HOLDING ON FOR MRS HOLY MBASO YOURE SPEAKING TO TOBY IM CALLING FROM MPD REGARDING YOUR TOURS ACCOUNT FOR SECURITY CHECKS MAAM CAN YOU KINDLY CONFIRM YOUR DATE OF BIRTH 77121 SEVEN THANK YOU VERY MUCH MAAM FOR CONFIRMING OUR CALLS ARE RECORDED FOR QUALITY PURPOSES SO NOW WE ARE PAYING THEM BECAUSE YOUR ACCOUNT IS BUILT BEHIND THE TOTAL DUE NOW ON YOUR ACCOUNT IS 3914 YOUR ACCOUNT HAS BEEN HANDED OVER TO COLLECTIONS DEPARTMENT SO WERE JUST CALLING TO CONFIRM THE ARRANGEMENT FOR THIS MONTH WHEN IS THE SALARY STATEMENT SO THAT WE CAN SET UP A DEBIT ORDER\n\nMODEL:\n\n{'text': \"MORNING MY PAST BITTER MISTER C ABASE MY WILES YES ON ONE THE TIN EAR YOU SCREAM HOLDING ON FOR MISS SULIMABASL SPEAKING YOU ARE SPEAKING TO TOBIAMQULING FROM EMPTY TO REGARDING YOUR TRUE'S ACCOUNT FOR SECURITY CHEESMAN CAN OILY CONFIRMING DATES OF BIRTH A TENTATION TO ON CREDITING REFER MUCH MAN FOR CONFIRMING SO CLOSE ARE RECORDED FOR QUALITY PURPOSES SO NOW WE ARE GIVING THEM BECAUSE YOUR ACCOUNT HAS DIP BEHIND THAT'S ALSO TRUE NOW ON YOUR ACCOUNT IS THREE THOUSAND NINE HUNDRED AND FOUR AND YOUR ACCOUNT HAS BEEN HANDED OVER AS TO COLLECTIONS DEPARTMENT SO WE'RE JUST CALLING TO CONFIRM THE ARRANGEMENT FOR THIS MONTH WE NEED JU SOLAR ENGAGEMENTS OR THE RIANT AT SUPPER DAVID ORDER\"}\nGROUND_TRUTH:\n\nCAN I PLEASE SPEAK TO MS NONLANTLA SPEAKING MAAM WE ARE SPEAKING TO KATYN FROM MBD LEGAL COLLECTION PLEASE NOTE THAT ALL CALLS ARE RECORDED FOR LEGAL AND QUALITY PURPOSES MAAM YES IN ORDER TO ENSURE THAT IM SPEAKING TO THE CORRECT PERSON CAN YOU PLEASE CONFIRM YOUR DATE OF BIRTH FOR ME THANK YOU VERY MUCH MAAM IM CALLING IN CONNECTION WITH YOUR OUTSTANDING TOOLS ACCOUNT WHICH HAS BEEN FOR OUR COMPANY AND WHICH CURRENTLY HAS AN OUTSTANDING AMOUNT OF 2916 RAND MAAM WILL YOU BE ABLE TO PAY THIS AMOUNT IN ONE PAYMENT OR CAN WE MAKE MONTHLY ARRANGEMENTS\n\nMODEL:\n\n{'text': \"CODE NO AND I PLEASE TO MOST NON LAND LAST RITUAL WE ARE SPEAKING TO CUT SOME SOME IN BEDELIGAL COLLECTION PLEASE NOTE THAT ALL FOR THAT ACCORDED COLLEGE IN QUALITY POPES OF NAME IN ORDER TO NOW THAT I AM SPEAKING TO THE CODE CERTAINLY CONCORDAT OF WORTH FOR ME ON A SOVEREIGN WE THANK YOU VERY MUCH MA'AM I AM CALLING IN CONNECTION WITH YOUR OUTSTANDING THROUGH ITS ACCOUNT WHICH IS THE IMPORTER OF COMPANY IN WHICH CADENCES AN OUTSTANDING AMOUNT OF TWO THOUSAND NINE HUNDRED AND SIXTEEN RAN MA'AM WILL YOU BE ABLE TO PAY THE AMOUNT IN MONTH PAYMENT OR TO ME MAKE MONTHLY ARRANGEMENT\"}\n"
        },
        {
          "output_type": "error",
          "ename": "KeyboardInterrupt",
          "evalue": "",
          "traceback": [
            "\u001b[0;31m---------------------------------------------------------------------------\u001b[0m",
            "\u001b[0;31mKeyboardInterrupt\u001b[0m                         Traceback (most recent call last)",
            "\u001b[0;32m<ipython-input-13-4603dc74b72f>\u001b[0m in \u001b[0;36m<module>\u001b[0;34m\u001b[0m\n\u001b[0;32m----> 1\u001b[0;31m \u001b[0;32mfor\u001b[0m \u001b[0mi\u001b[0m\u001b[0;34m,\u001b[0m \u001b[0mtranscript\u001b[0m \u001b[0;32min\u001b[0m \u001b[0menumerate\u001b[0m\u001b[0;34m(\u001b[0m\u001b[0mtranscripts\u001b[0m\u001b[0;34m)\u001b[0m\u001b[0;34m:\u001b[0m\u001b[0;34m\u001b[0m\u001b[0;34m\u001b[0m\u001b[0m\n\u001b[0m\u001b[1;32m      2\u001b[0m     \u001b[0mprint\u001b[0m\u001b[0;34m(\u001b[0m\u001b[0;34m\"GROUND_TRUTH:\\n\"\u001b[0m\u001b[0;34m)\u001b[0m\u001b[0;34m\u001b[0m\u001b[0;34m\u001b[0m\u001b[0m\n\u001b[1;32m      3\u001b[0m     \u001b[0mprint\u001b[0m\u001b[0;34m(\u001b[0m\u001b[0mdataset\u001b[0m\u001b[0;34m[\u001b[0m\u001b[0mi\u001b[0m\u001b[0;34m]\u001b[0m\u001b[0;34m[\u001b[0m\u001b[0;34m\"text\"\u001b[0m\u001b[0;34m]\u001b[0m\u001b[0;34m)\u001b[0m\u001b[0;34m\u001b[0m\u001b[0;34m\u001b[0m\u001b[0m\n\u001b[1;32m      4\u001b[0m     \u001b[0mprint\u001b[0m\u001b[0;34m(\u001b[0m\u001b[0;34m)\u001b[0m\u001b[0;34m\u001b[0m\u001b[0;34m\u001b[0m\u001b[0m\n\u001b[1;32m      5\u001b[0m     \u001b[0mprint\u001b[0m\u001b[0;34m(\u001b[0m\u001b[0;34m\"MODEL:\\n\"\u001b[0m\u001b[0;34m)\u001b[0m\u001b[0;34m\u001b[0m\u001b[0;34m\u001b[0m\u001b[0m\n",
            "\u001b[0;32m/anaconda/envs/azureml_py38/lib/python3.8/site-packages/tqdm/notebook.py\u001b[0m in \u001b[0;36m__iter__\u001b[0;34m(self)\u001b[0m\n\u001b[1;32m    256\u001b[0m         \u001b[0;32mtry\u001b[0m\u001b[0;34m:\u001b[0m\u001b[0;34m\u001b[0m\u001b[0;34m\u001b[0m\u001b[0m\n\u001b[1;32m    257\u001b[0m             \u001b[0mit\u001b[0m \u001b[0;34m=\u001b[0m \u001b[0msuper\u001b[0m\u001b[0;34m(\u001b[0m\u001b[0mtqdm_notebook\u001b[0m\u001b[0;34m,\u001b[0m \u001b[0mself\u001b[0m\u001b[0;34m)\u001b[0m\u001b[0;34m.\u001b[0m\u001b[0m__iter__\u001b[0m\u001b[0;34m(\u001b[0m\u001b[0;34m)\u001b[0m\u001b[0;34m\u001b[0m\u001b[0;34m\u001b[0m\u001b[0m\n\u001b[0;32m--> 258\u001b[0;31m             \u001b[0;32mfor\u001b[0m \u001b[0mobj\u001b[0m \u001b[0;32min\u001b[0m \u001b[0mit\u001b[0m\u001b[0;34m:\u001b[0m\u001b[0;34m\u001b[0m\u001b[0;34m\u001b[0m\u001b[0m\n\u001b[0m\u001b[1;32m    259\u001b[0m                 \u001b[0;31m# return super(tqdm...) will not catch exception\u001b[0m\u001b[0;34m\u001b[0m\u001b[0;34m\u001b[0m\u001b[0;34m\u001b[0m\u001b[0m\n\u001b[1;32m    260\u001b[0m                 \u001b[0;32myield\u001b[0m \u001b[0mobj\u001b[0m\u001b[0;34m\u001b[0m\u001b[0;34m\u001b[0m\u001b[0m\n",
            "\u001b[0;32m/anaconda/envs/azureml_py38/lib/python3.8/site-packages/tqdm/std.py\u001b[0m in \u001b[0;36m__iter__\u001b[0;34m(self)\u001b[0m\n\u001b[1;32m   1181\u001b[0m         \u001b[0;31m# (note: keep this check outside the loop for performance)\u001b[0m\u001b[0;34m\u001b[0m\u001b[0;34m\u001b[0m\u001b[0;34m\u001b[0m\u001b[0m\n\u001b[1;32m   1182\u001b[0m         \u001b[0;32mif\u001b[0m \u001b[0mself\u001b[0m\u001b[0;34m.\u001b[0m\u001b[0mdisable\u001b[0m\u001b[0;34m:\u001b[0m\u001b[0;34m\u001b[0m\u001b[0;34m\u001b[0m\u001b[0m\n\u001b[0;32m-> 1183\u001b[0;31m             \u001b[0;32mfor\u001b[0m \u001b[0mobj\u001b[0m \u001b[0;32min\u001b[0m \u001b[0miterable\u001b[0m\u001b[0;34m:\u001b[0m\u001b[0;34m\u001b[0m\u001b[0;34m\u001b[0m\u001b[0m\n\u001b[0m\u001b[1;32m   1184\u001b[0m                 \u001b[0;32myield\u001b[0m \u001b[0mobj\u001b[0m\u001b[0;34m\u001b[0m\u001b[0;34m\u001b[0m\u001b[0m\n\u001b[1;32m   1185\u001b[0m             \u001b[0;32mreturn\u001b[0m\u001b[0;34m\u001b[0m\u001b[0;34m\u001b[0m\u001b[0m\n",
            "\u001b[0;32m/anaconda/envs/azureml_py38/lib/python3.8/site-packages/transformers/pipelines/pt_utils.py\u001b[0m in \u001b[0;36m__next__\u001b[0;34m(self)\u001b[0m\n\u001b[1;32m    109\u001b[0m \u001b[0;34m\u001b[0m\u001b[0m\n\u001b[1;32m    110\u001b[0m         \u001b[0;31m# We're out of items within a batch\u001b[0m\u001b[0;34m\u001b[0m\u001b[0;34m\u001b[0m\u001b[0;34m\u001b[0m\u001b[0m\n\u001b[0;32m--> 111\u001b[0;31m         \u001b[0mitem\u001b[0m \u001b[0;34m=\u001b[0m \u001b[0mnext\u001b[0m\u001b[0;34m(\u001b[0m\u001b[0mself\u001b[0m\u001b[0;34m.\u001b[0m\u001b[0miterator\u001b[0m\u001b[0;34m)\u001b[0m\u001b[0;34m\u001b[0m\u001b[0;34m\u001b[0m\u001b[0m\n\u001b[0m\u001b[1;32m    112\u001b[0m         \u001b[0mprocessed\u001b[0m \u001b[0;34m=\u001b[0m \u001b[0mself\u001b[0m\u001b[0;34m.\u001b[0m\u001b[0minfer\u001b[0m\u001b[0;34m(\u001b[0m\u001b[0mitem\u001b[0m\u001b[0;34m,\u001b[0m \u001b[0;34m**\u001b[0m\u001b[0mself\u001b[0m\u001b[0;34m.\u001b[0m\u001b[0mparams\u001b[0m\u001b[0;34m)\u001b[0m\u001b[0;34m\u001b[0m\u001b[0;34m\u001b[0m\u001b[0m\n\u001b[1;32m    113\u001b[0m         \u001b[0;31m# We now have a batch of \"inferred things\".\u001b[0m\u001b[0;34m\u001b[0m\u001b[0;34m\u001b[0m\u001b[0;34m\u001b[0m\u001b[0m\n",
            "\u001b[0;32m/anaconda/envs/azureml_py38/lib/python3.8/site-packages/transformers/pipelines/pt_utils.py\u001b[0m in \u001b[0;36m__next__\u001b[0;34m(self)\u001b[0m\n\u001b[1;32m    251\u001b[0m \u001b[0;34m\u001b[0m\u001b[0m\n\u001b[1;32m    252\u001b[0m         \u001b[0;32mwhile\u001b[0m \u001b[0;32mnot\u001b[0m \u001b[0mis_last\u001b[0m\u001b[0;34m:\u001b[0m\u001b[0;34m\u001b[0m\u001b[0;34m\u001b[0m\u001b[0m\n\u001b[0;32m--> 253\u001b[0;31m             \u001b[0mprocessed\u001b[0m \u001b[0;34m=\u001b[0m \u001b[0mself\u001b[0m\u001b[0;34m.\u001b[0m\u001b[0minfer\u001b[0m\u001b[0;34m(\u001b[0m\u001b[0mnext\u001b[0m\u001b[0;34m(\u001b[0m\u001b[0mself\u001b[0m\u001b[0;34m.\u001b[0m\u001b[0miterator\u001b[0m\u001b[0;34m)\u001b[0m\u001b[0;34m,\u001b[0m \u001b[0;34m**\u001b[0m\u001b[0mself\u001b[0m\u001b[0;34m.\u001b[0m\u001b[0mparams\u001b[0m\u001b[0;34m)\u001b[0m\u001b[0;34m\u001b[0m\u001b[0;34m\u001b[0m\u001b[0m\n\u001b[0m\u001b[1;32m    254\u001b[0m             \u001b[0;32mif\u001b[0m \u001b[0mself\u001b[0m\u001b[0;34m.\u001b[0m\u001b[0mloader_batch_size\u001b[0m \u001b[0;32mis\u001b[0m \u001b[0;32mnot\u001b[0m \u001b[0;32mNone\u001b[0m\u001b[0;34m:\u001b[0m\u001b[0;34m\u001b[0m\u001b[0;34m\u001b[0m\u001b[0m\n\u001b[1;32m    255\u001b[0m                 \u001b[0;32mif\u001b[0m \u001b[0misinstance\u001b[0m\u001b[0;34m(\u001b[0m\u001b[0mprocessed\u001b[0m\u001b[0;34m,\u001b[0m \u001b[0mtorch\u001b[0m\u001b[0;34m.\u001b[0m\u001b[0mTensor\u001b[0m\u001b[0;34m)\u001b[0m\u001b[0;34m:\u001b[0m\u001b[0;34m\u001b[0m\u001b[0;34m\u001b[0m\u001b[0m\n",
            "\u001b[0;32m/anaconda/envs/azureml_py38/lib/python3.8/site-packages/transformers/pipelines/base.py\u001b[0m in \u001b[0;36mforward\u001b[0;34m(self, model_inputs, **forward_params)\u001b[0m\n\u001b[1;32m    942\u001b[0m                     \u001b[0mmodel_inputs\u001b[0m \u001b[0;34m=\u001b[0m \u001b[0mself\u001b[0m\u001b[0;34m.\u001b[0m\u001b[0m_ensure_tensor_on_device\u001b[0m\u001b[0;34m(\u001b[0m\u001b[0mmodel_inputs\u001b[0m\u001b[0;34m,\u001b[0m \u001b[0mdevice\u001b[0m\u001b[0;34m=\u001b[0m\u001b[0mself\u001b[0m\u001b[0;34m.\u001b[0m\u001b[0mdevice\u001b[0m\u001b[0;34m)\u001b[0m\u001b[0;34m\u001b[0m\u001b[0;34m\u001b[0m\u001b[0m\n\u001b[1;32m    943\u001b[0m                     \u001b[0mmodel_outputs\u001b[0m \u001b[0;34m=\u001b[0m \u001b[0mself\u001b[0m\u001b[0;34m.\u001b[0m\u001b[0m_forward\u001b[0m\u001b[0;34m(\u001b[0m\u001b[0mmodel_inputs\u001b[0m\u001b[0;34m,\u001b[0m \u001b[0;34m**\u001b[0m\u001b[0mforward_params\u001b[0m\u001b[0;34m)\u001b[0m\u001b[0;34m\u001b[0m\u001b[0;34m\u001b[0m\u001b[0m\n\u001b[0;32m--> 944\u001b[0;31m                     \u001b[0mmodel_outputs\u001b[0m \u001b[0;34m=\u001b[0m \u001b[0mself\u001b[0m\u001b[0;34m.\u001b[0m\u001b[0m_ensure_tensor_on_device\u001b[0m\u001b[0;34m(\u001b[0m\u001b[0mmodel_outputs\u001b[0m\u001b[0;34m,\u001b[0m \u001b[0mdevice\u001b[0m\u001b[0;34m=\u001b[0m\u001b[0mtorch\u001b[0m\u001b[0;34m.\u001b[0m\u001b[0mdevice\u001b[0m\u001b[0;34m(\u001b[0m\u001b[0;34m\"cpu\"\u001b[0m\u001b[0;34m)\u001b[0m\u001b[0;34m)\u001b[0m\u001b[0;34m\u001b[0m\u001b[0;34m\u001b[0m\u001b[0m\n\u001b[0m\u001b[1;32m    945\u001b[0m             \u001b[0;32melse\u001b[0m\u001b[0;34m:\u001b[0m\u001b[0;34m\u001b[0m\u001b[0;34m\u001b[0m\u001b[0m\n\u001b[1;32m    946\u001b[0m                 \u001b[0;32mraise\u001b[0m \u001b[0mValueError\u001b[0m\u001b[0;34m(\u001b[0m\u001b[0;34mf\"Framework {self.framework} is not supported\"\u001b[0m\u001b[0;34m)\u001b[0m\u001b[0;34m\u001b[0m\u001b[0;34m\u001b[0m\u001b[0m\n",
            "\u001b[0;32m/anaconda/envs/azureml_py38/lib/python3.8/site-packages/transformers/pipelines/base.py\u001b[0m in \u001b[0;36m_ensure_tensor_on_device\u001b[0;34m(self, inputs, device)\u001b[0m\n\u001b[1;32m    849\u001b[0m             )\n\u001b[1;32m    850\u001b[0m         \u001b[0;32melif\u001b[0m \u001b[0misinstance\u001b[0m\u001b[0;34m(\u001b[0m\u001b[0minputs\u001b[0m\u001b[0;34m,\u001b[0m \u001b[0mdict\u001b[0m\u001b[0;34m)\u001b[0m\u001b[0;34m:\u001b[0m\u001b[0;34m\u001b[0m\u001b[0;34m\u001b[0m\u001b[0m\n\u001b[0;32m--> 851\u001b[0;31m             \u001b[0;32mreturn\u001b[0m \u001b[0;34m{\u001b[0m\u001b[0mname\u001b[0m\u001b[0;34m:\u001b[0m \u001b[0mself\u001b[0m\u001b[0;34m.\u001b[0m\u001b[0m_ensure_tensor_on_device\u001b[0m\u001b[0;34m(\u001b[0m\u001b[0mtensor\u001b[0m\u001b[0;34m,\u001b[0m \u001b[0mdevice\u001b[0m\u001b[0;34m)\u001b[0m \u001b[0;32mfor\u001b[0m \u001b[0mname\u001b[0m\u001b[0;34m,\u001b[0m \u001b[0mtensor\u001b[0m \u001b[0;32min\u001b[0m \u001b[0minputs\u001b[0m\u001b[0;34m.\u001b[0m\u001b[0mitems\u001b[0m\u001b[0;34m(\u001b[0m\u001b[0;34m)\u001b[0m\u001b[0;34m}\u001b[0m\u001b[0;34m\u001b[0m\u001b[0;34m\u001b[0m\u001b[0m\n\u001b[0m\u001b[1;32m    852\u001b[0m         \u001b[0;32melif\u001b[0m \u001b[0misinstance\u001b[0m\u001b[0;34m(\u001b[0m\u001b[0minputs\u001b[0m\u001b[0;34m,\u001b[0m \u001b[0mUserDict\u001b[0m\u001b[0;34m)\u001b[0m\u001b[0;34m:\u001b[0m\u001b[0;34m\u001b[0m\u001b[0;34m\u001b[0m\u001b[0m\n\u001b[1;32m    853\u001b[0m             \u001b[0;32mreturn\u001b[0m \u001b[0mUserDict\u001b[0m\u001b[0;34m(\u001b[0m\u001b[0;34m{\u001b[0m\u001b[0mname\u001b[0m\u001b[0;34m:\u001b[0m \u001b[0mself\u001b[0m\u001b[0;34m.\u001b[0m\u001b[0m_ensure_tensor_on_device\u001b[0m\u001b[0;34m(\u001b[0m\u001b[0mtensor\u001b[0m\u001b[0;34m,\u001b[0m \u001b[0mdevice\u001b[0m\u001b[0;34m)\u001b[0m \u001b[0;32mfor\u001b[0m \u001b[0mname\u001b[0m\u001b[0;34m,\u001b[0m \u001b[0mtensor\u001b[0m \u001b[0;32min\u001b[0m \u001b[0minputs\u001b[0m\u001b[0;34m.\u001b[0m\u001b[0mitems\u001b[0m\u001b[0;34m(\u001b[0m\u001b[0;34m)\u001b[0m\u001b[0;34m}\u001b[0m\u001b[0;34m)\u001b[0m\u001b[0;34m\u001b[0m\u001b[0;34m\u001b[0m\u001b[0m\n",
            "\u001b[0;32m/anaconda/envs/azureml_py38/lib/python3.8/site-packages/transformers/pipelines/base.py\u001b[0m in \u001b[0;36m<dictcomp>\u001b[0;34m(.0)\u001b[0m\n\u001b[1;32m    849\u001b[0m             )\n\u001b[1;32m    850\u001b[0m         \u001b[0;32melif\u001b[0m \u001b[0misinstance\u001b[0m\u001b[0;34m(\u001b[0m\u001b[0minputs\u001b[0m\u001b[0;34m,\u001b[0m \u001b[0mdict\u001b[0m\u001b[0;34m)\u001b[0m\u001b[0;34m:\u001b[0m\u001b[0;34m\u001b[0m\u001b[0;34m\u001b[0m\u001b[0m\n\u001b[0;32m--> 851\u001b[0;31m             \u001b[0;32mreturn\u001b[0m \u001b[0;34m{\u001b[0m\u001b[0mname\u001b[0m\u001b[0;34m:\u001b[0m \u001b[0mself\u001b[0m\u001b[0;34m.\u001b[0m\u001b[0m_ensure_tensor_on_device\u001b[0m\u001b[0;34m(\u001b[0m\u001b[0mtensor\u001b[0m\u001b[0;34m,\u001b[0m \u001b[0mdevice\u001b[0m\u001b[0;34m)\u001b[0m \u001b[0;32mfor\u001b[0m \u001b[0mname\u001b[0m\u001b[0;34m,\u001b[0m \u001b[0mtensor\u001b[0m \u001b[0;32min\u001b[0m \u001b[0minputs\u001b[0m\u001b[0;34m.\u001b[0m\u001b[0mitems\u001b[0m\u001b[0;34m(\u001b[0m\u001b[0;34m)\u001b[0m\u001b[0;34m}\u001b[0m\u001b[0;34m\u001b[0m\u001b[0;34m\u001b[0m\u001b[0m\n\u001b[0m\u001b[1;32m    852\u001b[0m         \u001b[0;32melif\u001b[0m \u001b[0misinstance\u001b[0m\u001b[0;34m(\u001b[0m\u001b[0minputs\u001b[0m\u001b[0;34m,\u001b[0m \u001b[0mUserDict\u001b[0m\u001b[0;34m)\u001b[0m\u001b[0;34m:\u001b[0m\u001b[0;34m\u001b[0m\u001b[0;34m\u001b[0m\u001b[0m\n\u001b[1;32m    853\u001b[0m             \u001b[0;32mreturn\u001b[0m \u001b[0mUserDict\u001b[0m\u001b[0;34m(\u001b[0m\u001b[0;34m{\u001b[0m\u001b[0mname\u001b[0m\u001b[0;34m:\u001b[0m \u001b[0mself\u001b[0m\u001b[0;34m.\u001b[0m\u001b[0m_ensure_tensor_on_device\u001b[0m\u001b[0;34m(\u001b[0m\u001b[0mtensor\u001b[0m\u001b[0;34m,\u001b[0m \u001b[0mdevice\u001b[0m\u001b[0;34m)\u001b[0m \u001b[0;32mfor\u001b[0m \u001b[0mname\u001b[0m\u001b[0;34m,\u001b[0m \u001b[0mtensor\u001b[0m \u001b[0;32min\u001b[0m \u001b[0minputs\u001b[0m\u001b[0;34m.\u001b[0m\u001b[0mitems\u001b[0m\u001b[0;34m(\u001b[0m\u001b[0;34m)\u001b[0m\u001b[0;34m}\u001b[0m\u001b[0;34m)\u001b[0m\u001b[0;34m\u001b[0m\u001b[0;34m\u001b[0m\u001b[0m\n",
            "\u001b[0;32m/anaconda/envs/azureml_py38/lib/python3.8/site-packages/transformers/pipelines/base.py\u001b[0m in \u001b[0;36m_ensure_tensor_on_device\u001b[0;34m(self, inputs, device)\u001b[0m\n\u001b[1;32m    857\u001b[0m             \u001b[0;32mreturn\u001b[0m \u001b[0mtuple\u001b[0m\u001b[0;34m(\u001b[0m\u001b[0;34m[\u001b[0m\u001b[0mself\u001b[0m\u001b[0;34m.\u001b[0m\u001b[0m_ensure_tensor_on_device\u001b[0m\u001b[0;34m(\u001b[0m\u001b[0mitem\u001b[0m\u001b[0;34m,\u001b[0m \u001b[0mdevice\u001b[0m\u001b[0;34m)\u001b[0m \u001b[0;32mfor\u001b[0m \u001b[0mitem\u001b[0m \u001b[0;32min\u001b[0m \u001b[0minputs\u001b[0m\u001b[0;34m]\u001b[0m\u001b[0;34m)\u001b[0m\u001b[0;34m\u001b[0m\u001b[0;34m\u001b[0m\u001b[0m\n\u001b[1;32m    858\u001b[0m         \u001b[0;32melif\u001b[0m \u001b[0misinstance\u001b[0m\u001b[0;34m(\u001b[0m\u001b[0minputs\u001b[0m\u001b[0;34m,\u001b[0m \u001b[0mtorch\u001b[0m\u001b[0;34m.\u001b[0m\u001b[0mTensor\u001b[0m\u001b[0;34m)\u001b[0m\u001b[0;34m:\u001b[0m\u001b[0;34m\u001b[0m\u001b[0;34m\u001b[0m\u001b[0m\n\u001b[0;32m--> 859\u001b[0;31m             \u001b[0;32mreturn\u001b[0m \u001b[0minputs\u001b[0m\u001b[0;34m.\u001b[0m\u001b[0mto\u001b[0m\u001b[0;34m(\u001b[0m\u001b[0mdevice\u001b[0m\u001b[0;34m)\u001b[0m\u001b[0;34m\u001b[0m\u001b[0;34m\u001b[0m\u001b[0m\n\u001b[0m\u001b[1;32m    860\u001b[0m         \u001b[0;32melse\u001b[0m\u001b[0;34m:\u001b[0m\u001b[0;34m\u001b[0m\u001b[0;34m\u001b[0m\u001b[0m\n\u001b[1;32m    861\u001b[0m             \u001b[0;32mreturn\u001b[0m \u001b[0minputs\u001b[0m\u001b[0;34m\u001b[0m\u001b[0;34m\u001b[0m\u001b[0m\n",
            "\u001b[0;31mKeyboardInterrupt\u001b[0m: "
          ]
        }
      ],
      "execution_count": 13,
      "metadata": {
        "jupyter": {
          "source_hidden": false,
          "outputs_hidden": false
        },
        "nteract": {
          "transient": {
            "deleting": false
          }
        },
        "gather": {
          "logged": 1652164252198
        }
      }
    },
    {
      "cell_type": "code",
      "source": [],
      "outputs": [],
      "execution_count": null,
      "metadata": {}
    }
  ],
  "metadata": {
    "interpreter": {
      "hash": "6d65a8c07f5b6469e0fc613f182488c0dccce05038bbda39e5ac9075c0454d11"
    },
    "kernelspec": {
      "name": "python3",
      "language": "python",
      "display_name": "Python 3"
    },
    "language_info": {
      "name": "python",
      "version": "3.8.5",
      "mimetype": "text/x-python",
      "codemirror_mode": {
        "name": "ipython",
        "version": 3
      },
      "pygments_lexer": "ipython3",
      "nbconvert_exporter": "python",
      "file_extension": ".py"
    },
    "orig_nbformat": 4,
    "kernel_info": {
      "name": "python3"
    },
    "nteract": {
      "version": "nteract-front-end@1.0.0"
    },
    "microsoft": {
      "host": {
        "AzureML": {
          "notebookHasBeenCompleted": true
        }
      }
    }
  },
  "nbformat": 4,
  "nbformat_minor": 2
}