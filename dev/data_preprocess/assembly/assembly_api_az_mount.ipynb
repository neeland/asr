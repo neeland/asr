{
  "cells": [
    {
      "cell_type": "markdown",
      "source": [
        "![Bilby Stampede](https://www.assemblyai.com/_next/static/image/src/modules/layout/branding/logo/assets/default.a451cfb665ce63899754f3d832630ece.svg)\n",
        "   \n",
        "Note book tests [assembly ai api](https://docs.assemblyai.com/#introduction) for transcription uploaded directly from Azure Blob Storage\n",
        "\n",
        "\n",
        "[Review of assembly API](https://nordicapis.com/review-of-assemblyai-speech-to-text-api/)"
      ],
      "metadata": {},
      "id": "ea8aeb05"
    },
    {
      "cell_type": "code",
      "source": [
        "############################################################################\n",
        "###################### installing needed packages ##########################\n",
        "############################################################################\n",
        "#%%capture\n",
        "\n",
        "### uncomment, install one-by-one\n",
        "\n",
        "#!pip install requests\n",
        "\n",
        "#%pip uninstall numpy --yes\n",
        "#%pip install numpy==1.21\n",
        "\n",
        "\n",
        "#!sudo apt install ffmpeg --yes #may need to install via terminal\n",
        "#!conda install -c conda-forge librosa --yes\n",
        "#%pip install librosa\n",
        "#!sudo apt-get install blobfuse fuse\n"
      ],
      "outputs": [],
      "execution_count": 70,
      "metadata": {
        "gather": {
          "logged": 1646888233775
        }
      },
      "id": "8dd2931b"
    },
    {
      "cell_type": "code",
      "source": [
        "%%sh\n",
        "############################################################################\n",
        "###################### checking driver versions  ###########################\n",
        "############################################################################\n",
        "which ffmpeg\n",
        "which blobfuse\n"
      ],
      "outputs": [
        {
          "output_type": "stream",
          "name": "stdout",
          "text": "/usr/bin/ffmpeg\n/usr/bin/blobfuse\n"
        }
      ],
      "execution_count": 71,
      "metadata": {
        "jupyter": {
          "source_hidden": false,
          "outputs_hidden": false
        },
        "nteract": {
          "transient": {
            "deleting": false
          }
        },
        "gather": {
          "logged": 1646831952285
        }
      },
      "id": "8e21b2f1-8d95-4499-a89d-6632fb977359"
    },
    {
      "cell_type": "code",
      "source": [
        "############################################################################\n",
        "###################### importing needed packages ###########################\n",
        "############################################################################\n",
        "\n",
        "# basics\n",
        "import os # to handle local files\n",
        "import numpy as np\n",
        "np.__version__\n",
        "import pandas as pd\n",
        "import glob # unix style pathname pattern expansion -- whatever that means 🙈\n",
        "import requests # to handle apis\n",
        "from datetime import datetime as dt # timers \n",
        "import IPython # interactive components\n",
        "\n",
        "import matplotlib.pyplot as plt # plots\n",
        "%matplotlib inline\n",
        "\n",
        "\n",
        "\n",
        "# sound\n",
        "import librosa # sound utility \n",
        "import librosa.display # plots\n",
        "from matplotlib.pyplot import specgram # plots\n",
        "\n",
        "# azure\n",
        "import azureml.core, os\n",
        "from azureml.core import Workspace, Datastore, Dataset, Run\n",
        "from azureml.data.datapath  import DataPath\n",
        "from azureml.data.data_reference import DataReference\n",
        "from azureml.exceptions import UserErrorException\n",
        "\n",
        "# load subscription info from config.json\n",
        "ws = Workspace.from_config()\n",
        "\n",
        "# to be able to write on mounted datastore\n",
        "import fuse"
      ],
      "outputs": [],
      "execution_count": 17,
      "metadata": {
        "gather": {
          "logged": 1646851777903
        }
      },
      "id": "86862a00"
    },
    {
      "cell_type": "code",
      "source": [
        "\n",
        "!export AZURE_STORAGE_ACCOUNT=\"callcentrerecordings\""
      ],
      "outputs": [],
      "execution_count": 15,
      "metadata": {
        "jupyter": {
          "source_hidden": false,
          "outputs_hidden": false
        },
        "nteract": {
          "transient": {
            "deleting": false
          }
        }
      },
      "id": "7b1e4e6d-1429-4785-9897-f131163442ae"
    },
    {
      "cell_type": "code",
      "source": [
        "!export AZURE_STORAGE_ACCESS_KEY=\"KDxWNJYwT00yQd1AhYU0H5vIZjDTHYB4zN4V+Fvhufv/2e/8Dy1MtzWh8AUMU5uF3f7OmT9T5VRV+ASt+XFaoA==\""
      ],
      "outputs": [],
      "execution_count": 16,
      "metadata": {
        "jupyter": {
          "source_hidden": false,
          "outputs_hidden": false
        },
        "nteract": {
          "transient": {
            "deleting": false
          }
        }
      },
      "id": "0aba6e36-9106-423a-8bfa-57b411c7cfc8"
    },
    {
      "cell_type": "code",
      "source": [
        "user = os.popen('whoami').read()[:-1]\n",
        "#mount_path must be empty\n",
        "mount_path   = \"/home/azureuser/cloudfiles/data/mount\"\n",
        "if not os.path.exists(mount_path): os.mkdir(mount_path)\n",
        "if os.listdir(mount_path) != []:\n",
        "    print(\"mount_path not empty\")\n",
        "\n",
        "#make sure user has write access to cache_path - if not, create & chown to your user.\n",
        "cache_path   = \"/home/azureuser/cloudfiles/data/tmp\"\n",
        "if not os.path.exists(cache_path): os.mkdir(cache_path)\n",
        "\n",
        "config_path  = \"/home/azureuser/cloudfiles/code/Users/neelan/asr/pipeline/connection.cfg\"\n",
        "if not os.path.exists(cache_path):\n",
        "    print(\"get connection file from https://github.com/elucidate-ai/asr/blob/main/pipeline/connection.cfg\")"
      ],
      "outputs": [],
      "execution_count": 4,
      "metadata": {
        "jupyter": {
          "source_hidden": false,
          "outputs_hidden": false
        },
        "nteract": {
          "transient": {
            "deleting": false
          }
        },
        "gather": {
          "logged": 1646851580981
        }
      },
      "id": "d3ba7939-d220-4515-be60-f7147510afb7"
    },
    {
      "cell_type": "code",
      "source": [
        "def check_access(folder):\n",
        "    if os.access(folder, os.R_OK):\n",
        "        print(f\"{folder} has read access\")\n",
        "    if os.access(folder, os.W_OK):\n",
        "        print(f\"{folder} has write access\")\n",
        "    if os.access(folder, os.X_OK):\n",
        "        print(f\"{folder} has execution access!\")\n",
        "    if os.access(folder, os.X_OK | os.W_OK):\n",
        "        print(f\"{folder}  can write file to the directory\")\n",
        "    print()"
      ],
      "outputs": [],
      "execution_count": 10,
      "metadata": {
        "jupyter": {
          "source_hidden": false,
          "outputs_hidden": false
        },
        "nteract": {
          "transient": {
            "deleting": false
          }
        },
        "gather": {
          "logged": 1646851730825
        }
      },
      "id": "b0fc6f80-a8ef-4a55-87cc-0db1408b8338"
    },
    {
      "cell_type": "code",
      "source": [
        "for i in [mount_path, cache_path]:\n",
        "    check_access(i)"
      ],
      "outputs": [
        {
          "output_type": "stream",
          "name": "stdout",
          "text": "/home/azureuser/cloudfiles/data/mount has read access\n/home/azureuser/cloudfiles/data/mount has write access\n/home/azureuser/cloudfiles/data/mount has execution access!\n/home/azureuser/cloudfiles/data/mount  can write file to the directory\n\n/home/azureuser/cloudfiles/data/tmp has read access\n/home/azureuser/cloudfiles/data/tmp has write access\n/home/azureuser/cloudfiles/data/tmp has execution access!\n/home/azureuser/cloudfiles/data/tmp  can write file to the directory\n\n"
        }
      ],
      "execution_count": 11,
      "metadata": {
        "jupyter": {
          "source_hidden": false,
          "outputs_hidden": false
        },
        "nteract": {
          "transient": {
            "deleting": false
          }
        },
        "gather": {
          "logged": 1646851735414
        }
      },
      "id": "e5e0c39f-1cb1-4034-a50c-b063ab9cd7e8"
    },
    {
      "cell_type": "code",
      "source": [
        "!chown $user $cache_path"
      ],
      "outputs": [],
      "execution_count": 12,
      "metadata": {
        "jupyter": {
          "source_hidden": false,
          "outputs_hidden": false
        },
        "nteract": {
          "transient": {
            "deleting": false
          }
        }
      },
      "id": "1c124166-ad38-4df0-8bf8-31be24196469"
    },
    {
      "cell_type": "code",
      "source": [
        "!chown $user $mount_path"
      ],
      "outputs": [],
      "execution_count": 13,
      "metadata": {
        "jupyter": {
          "source_hidden": false,
          "outputs_hidden": false
        },
        "nteract": {
          "transient": {
            "deleting": false
          }
        }
      },
      "id": "9cbcb378-3722-47de-99ba-74ef88dadd50"
    },
    {
      "cell_type": "code",
      "source": [
        "!blobfuse /home/azureuser/cloudfiles/data/mount --tmp-path=/home/azureuser/cloudfiles/data/tmp  --config-file=/home/azureuser/cloudfiles/code/Users/neelan/asr/pipeline/connection.cfg\n"
      ],
      "outputs": [],
      "execution_count": 14,
      "metadata": {
        "jupyter": {
          "source_hidden": false,
          "outputs_hidden": false
        },
        "nteract": {
          "transient": {
            "deleting": false
          }
        },
        "gather": {
          "logged": 1646825868456
        }
      },
      "id": "2f2d16ba-cc74-4fc5-beb9-58154c7465c7"
    },
    {
      "cell_type": "code",
      "source": [
        "# testing write capacity of mount\n",
        "ASSEMBLY_OUT = os.path.join(mount_path,'assembly_ai')\n",
        "if not os.path.exists(ASSEMBLY_OUT):\n",
        "    os.mkdir(ASSEMBLY_OUT)"
      ],
      "outputs": [],
      "execution_count": 18,
      "metadata": {
        "jupyter": {
          "source_hidden": false,
          "outputs_hidden": false
        },
        "nteract": {
          "transient": {
            "deleting": false
          }
        },
        "gather": {
          "logged": 1646851795185
        }
      },
      "id": "55dab9ec-9cef-4a18-94f0-716cad4bdead"
    },
    {
      "cell_type": "code",
      "source": [
        "# testing read capacity of mount\n",
        "os.chdir(mount_path)\n",
        "os.listdir()[:3]"
      ],
      "outputs": [
        {
          "output_type": "execute_result",
          "execution_count": 19,
          "data": {
            "text/plain": "['0291506962#-10505#SITHATIL#TCRCBD-E45#20220215135504102.wav',\n '029512090788#-10541#JERRYL#TCR-TOSH420#20220215072323987.wav',\n '0301269833#-10505#BUSISIWEM26#TCR4-254782#20220215145030457.wav']"
          },
          "metadata": {}
        }
      ],
      "execution_count": 19,
      "metadata": {
        "jupyter": {
          "source_hidden": false,
          "outputs_hidden": false
        },
        "nteract": {
          "transient": {
            "deleting": false
          }
        },
        "gather": {
          "logged": 1646851801101
        }
      },
      "id": "a4bfbc19-356d-419a-9ded-8d6f7b9da4a1"
    },
    {
      "cell_type": "code",
      "source": [
        "FILES=os.listdir(mount_path)\n",
        "NAMES=[]\n",
        "FILE_PATHS=[]\n",
        "for F in FILES:\n",
        "    NAMES.append(str(F))\n",
        "    FILE_PATHS.append(os.path.join(mount_path,F))"
      ],
      "outputs": [],
      "execution_count": 43,
      "metadata": {
        "jupyter": {
          "source_hidden": false,
          "outputs_hidden": false
        },
        "nteract": {
          "transient": {
            "deleting": false
          }
        },
        "gather": {
          "logged": 1646831396566
        }
      },
      "id": "eb3a29ed-867f-4d7c-9f85-7a25933203ce"
    },
    {
      "cell_type": "code",
      "source": [
        "FILE_PATHS[:3]"
      ],
      "outputs": [
        {
          "output_type": "execute_result",
          "execution_count": 56,
          "data": {
            "text/plain": "['/home/azureuser/cloudfiles/data/mount/0291506962#-10505#SITHATIL#TCRCBD-E45#20220215135504102.wav',\n '/home/azureuser/cloudfiles/data/mount/029512090788#-10541#JERRYL#TCR-TOSH420#20220215072323987.wav',\n '/home/azureuser/cloudfiles/data/mount/0301269833#-10505#BUSISIWEM26#TCR4-254782#20220215145030457.wav']"
          },
          "metadata": {}
        }
      ],
      "execution_count": 56,
      "metadata": {
        "jupyter": {
          "source_hidden": false,
          "outputs_hidden": false
        },
        "nteract": {
          "transient": {
            "deleting": false
          }
        },
        "gather": {
          "logged": 1646832061876
        }
      },
      "id": "0ad82d9e-d7d8-44ca-8ca4-fa98a1f1a656"
    },
    {
      "cell_type": "markdown",
      "source": [
        "# Azure storage concepts\n",
        "[Primer for azure storage concepts](https://k21academy.com/microsoft-azure/dp-100/datastores-and-datasets-in-azure/?utm_source=youtube&utm_medium=referral&utm_campaign=dp10019_december21) to create dataset from Azure datastore\n",
        "\n",
        "[Moving data into and between ML pipeline steps](https://github.com/MicrosoftDocs/azure-docs/blob/main/articles/machine-learning/how-to-move-data-in-out-of-pipelines.md)\n",
        "\n",
        "The idea is that a workspace can have many registered datasets that can be accessed\n",
        "\n",
        "* `Datastores` objects store connection information to azure data services eg: blob container \n",
        "\n",
        "* `Datasets` objects are references to data source w/ schema: preferred way to ingest data into a pipeline\n",
        "    * `FileDataset()` - unstructured data\n",
        "    * `TabularDataset()` - easy conversion to `pd.DF`\n",
        "    \n",
        "* `DatasetConsumptionConfig` objects to transfer data to the next pipeline step & dictate how registered Dataset delivered to compute target\n",
        "    * `.as_download`\n",
        "    * `.as_hdfs`\n",
        "    * `.as_mount`\n",
        "\n",
        "### How to use data in a pipeline:\n",
        "*  To pass `Dataset` to pipeline:\n",
        "\n",
        "    * Use `TabularDataset.as_named_input()` or `FileDataset.as_named_input()` (no 's' at end) to create a DatasetConsumptionConfig object\n",
        "    * Use `as_mount()` or `as_download()` to set the access mode\n",
        "    * Pass the datasets to your pipeline steps using either the `arguments` or the inputs argument\n",
        "    \n",
        "\n",
        "Both the Datastores and Datasets must be registered to be exposed to the workspace\n"
      ],
      "metadata": {},
      "id": "510195ce"
    },
    {
      "cell_type": "markdown",
      "source": [
        "### Details of `Azure Blob Storage` where client call recording files are uploaded"
      ],
      "metadata": {
        "nteract": {
          "transient": {
            "deleting": false
          }
        }
      },
      "id": "46b986a6-c140-4942-99d7-acc5c637ffa5"
    },
    {
      "cell_type": "code",
      "source": [
        "############################################################################\n",
        "###################### Details of Azure Blob Storage #######################\n",
        "############################################################################\n",
        "\n",
        "\n",
        "# name of datastore to ws\n",
        "blob_datastore_name='elucidate_recordings'\n",
        "# name of az blob container\n",
        "container_name=os.getenv(\"BLOB_CONTAINER\", \"recordings\")\n",
        "# storage account name\n",
        "account_name=os.getenv(\"BLOB_ACCOUNTNAME\", \"callcentrerecordings\")\n",
        "# storage account access key\n",
        "account_key=os.getenv(\"BLOB_ACCOUNT_KEY\", \"KDxWNJYwT00yQd1AhYU0H5vIZjDTHYB4zN4V+Fvhufv/2e/8Dy1MtzWh8AUMU5uF3f7OmT9T5VRV+ASt+XFaoA==\")\n",
        "\n"
      ],
      "outputs": [],
      "execution_count": 11,
      "metadata": {
        "jupyter": {
          "source_hidden": false,
          "outputs_hidden": false
        },
        "nteract": {
          "transient": {
            "deleting": false
          }
        },
        "gather": {
          "logged": 1646826678549
        }
      },
      "id": "5919b0a8-aee9-4e71-b614-84b199b78185"
    },
    {
      "cell_type": "markdown",
      "source": [
        "### Registering `Datastore` to workspace (if not already done)"
      ],
      "metadata": {
        "nteract": {
          "transient": {
            "deleting": false
          }
        }
      },
      "id": "4a4bf4de-ac07-4da6-9ad1-cd44c5297544"
    },
    {
      "cell_type": "code",
      "source": [
        "################################################\n",
        "### REGISTER DATASTORE (if not already done) ###\n",
        "################################################\n",
        "\n",
        "try:\n",
        "    blob_datastore = Datastore.get(ws, blob_datastore_name)\n",
        "    print(\"Found Blob Datastore registered to ws with name: %s\" % blob_datastore_name)\n",
        "except UserErrorException:\n",
        "    blob_datastore = Datastore.register_azure_blob_container(\n",
        "        workspace=ws,\n",
        "        datastore_name=blob_datastore_name,\n",
        "        account_name=account_name, \n",
        "        container_name=container_name, \n",
        "        account_key=account_key) \n",
        "    print(\"Registered blob datastore with name: %s\" % blob_datastore_name)\n",
        "\n",
        "blob_data_ref = DataReference(\n",
        "    datastore=blob_datastore,\n",
        "    data_reference_name=\"recordings\",\n",
        "    path_on_datastore=\"/\",\n",
        "    mode='mount', \n",
        "    path_on_compute='/recordings', \n",
        "    overwrite=False)\n",
        "\n",
        "datastore_path = DataPath(blob_datastore, '/*.wav')\n"
      ],
      "outputs": [
        {
          "output_type": "stream",
          "name": "stdout",
          "text": "Found Blob Datastore registered to ws with name: elucidate_recordings\n"
        }
      ],
      "execution_count": 12,
      "metadata": {
        "jupyter": {
          "source_hidden": false,
          "outputs_hidden": false
        },
        "nteract": {
          "transient": {
            "deleting": false
          }
        },
        "gather": {
          "logged": 1646826680686
        }
      },
      "id": "6cf5f0d2-17d3-4e69-86b8-dc557446cf61"
    },
    {
      "cell_type": "markdown",
      "source": [
        "### Registering `Dataset` (if not already done)\n",
        "\n",
        "Here we specify what files in `Datastore` we want to make into `Dataset`"
      ],
      "metadata": {
        "nteract": {
          "transient": {
            "deleting": false
          }
        }
      },
      "id": "e15fbb9f-8f60-4600-b453-046ee5a4e435"
    },
    {
      "cell_type": "code",
      "source": [
        "blob_dataset = 'wav_recordings'\n",
        "\n",
        "ws_datastore = ws.get_default_datastore()\n",
        "\n",
        "################################################\n",
        "### REGISTER DATASET (if not already done) #####\n",
        "################################################\n",
        "\n",
        "try:\n",
        "    # retrieve registered dataset\n",
        "    dataset = Dataset.get_by_name(ws, blob_dataset)\n",
        "    print(\"Found Dataset with name: %s\" % blob_dataset)\n",
        "except UserErrorException:\n",
        "    # register dataset w/ ws \n",
        "    ### DATA LOCATION ON BLOB\n",
        "    dataset = Dataset.File.from_files(path=datastore_path)\n",
        "    dataset = dataset.register(workspace=ws, name=blob_dataset)\n",
        "    print(\"Registered dataset with name: %s\" % blob_dataset)"
      ],
      "outputs": [
        {
          "output_type": "stream",
          "name": "stdout",
          "text": "Found Dataset with name: wav_recordings\n"
        }
      ],
      "execution_count": 13,
      "metadata": {
        "jupyter": {
          "source_hidden": false,
          "outputs_hidden": false
        },
        "nteract": {
          "transient": {
            "deleting": false
          }
        },
        "gather": {
          "logged": 1646826682305
        }
      },
      "id": "0a560810-fea0-43f9-be39-9bbe9ae48e1d"
    },
    {
      "cell_type": "markdown",
      "source": [
        "### Mounting `Dataset` to compute\n",
        "\n",
        "Follow [this](https://stackoverflow.com/questions/67504900/cant-access-mounted-dataset-on-azure-machine-learning-service-notebook) to mount dataset & start context afterward\n",
        "\n",
        "[more context on mounting](https://social.msdn.microsoft.com/Forums/azure/en-US/7e5f3ff4-5981-4d37-8450-5b7bb7bdeedc/mounting-an-azuremldatafiledataset?forum=AzureMachineLearningService)\n",
        "\n",
        "    * Note: Where you mount blob matters! Incorrect location can confuse Azure SDK"
      ],
      "metadata": {
        "nteract": {
          "transient": {
            "deleting": false
          }
        }
      },
      "id": "b6dff3b9-948c-4626-af6c-a6d46956c742"
    },
    {
      "cell_type": "code",
      "source": [
        "os.getcwd()"
      ],
      "outputs": [],
      "execution_count": null,
      "metadata": {
        "jupyter": {
          "source_hidden": false,
          "outputs_hidden": false
        },
        "nteract": {
          "transient": {
            "deleting": false
          }
        }
      },
      "id": "98fb6ac6-1f21-4f05-b982-216a85eee758"
    },
    {
      "cell_type": "code",
      "source": [
        "\n",
        "mount_path = '/mnt/batch/tasks/shared/LS_root/mounts/clusters/asr-compute/code/Users/neelan/asr/pipeline/mnt'\n",
        "if not os.path.exists(mount_path): os.mkdir(mount_path)\n",
        "if os.listdir(mount_path) != []:\n",
        "    print(\"mount_path not empty\")"
      ],
      "outputs": [],
      "execution_count": 21,
      "metadata": {
        "jupyter": {
          "source_hidden": false,
          "outputs_hidden": false
        },
        "nteract": {
          "transient": {
            "deleting": false
          }
        },
        "gather": {
          "logged": 1646827299153
        }
      },
      "id": "e12f31c0-5dcb-4393-9f6c-035bcdd12179"
    },
    {
      "cell_type": "code",
      "source": [
        "\n",
        "# mount dataset onto mount_path of Linux-based compute\n",
        "mount_context = dataset.mount(mount_path)"
      ],
      "outputs": [],
      "execution_count": null,
      "metadata": {
        "jupyter": {
          "source_hidden": false,
          "outputs_hidden": false
        },
        "nteract": {
          "transient": {
            "deleting": false
          }
        }
      },
      "id": "dd522579-78d1-455d-826c-7229c62b4f0a"
    },
    {
      "cell_type": "code",
      "source": [
        "# context manager will be returned to manage the lifecycle of the mount. \n",
        "# mount only supported on Unix or Unix-like operating systems \n",
        "# libfuse must be present\n",
        "\n",
        "mount_context.start()"
      ],
      "outputs": [],
      "execution_count": 8,
      "metadata": {
        "jupyter": {
          "source_hidden": false,
          "outputs_hidden": false
        },
        "nteract": {
          "transient": {
            "deleting": false
          }
        },
        "gather": {
          "logged": 1646809218693
        }
      },
      "id": "01b97bc7-b754-4160-86ff-f155df38bf97"
    },
    {
      "cell_type": "markdown",
      "source": [
        "### Resources to understand how to mount blob as file system\n",
        "\n",
        "[More on `mount_context`](https://azure.github.io/azureml-sdk-for-r/reference/mount_file_dataset.html)\n",
        "\n",
        "[How to mount Blob storage as a file system with blobfuse](https://docs.microsoft.com/en-us/azure/storage/blobs/storage-how-to-mount-container-linux)\n",
        "\n",
        "[Add Linux software repo for MS products](https://docs.microsoft.com/en-us/windows-server/administration/Linux-Package-Repository-for-Microsoft-Software)"
      ],
      "metadata": {
        "nteract": {
          "transient": {
            "deleting": false
          }
        }
      },
      "id": "9cf398ed-7ee2-4045-9491-370554d7c0d6"
    },
    {
      "cell_type": "code",
      "source": [
        "# get linux version of compute\n",
        "!lsb_release -a"
      ],
      "outputs": [
        {
          "output_type": "stream",
          "name": "stdout",
          "text": "No LSB modules are available.\r\nDistributor ID:\tUbuntu\r\nDescription:\tUbuntu 18.04.6 LTS\r\nRelease:\t18.04\r\nCodename:\tbionic\r\n"
        }
      ],
      "execution_count": 20,
      "metadata": {
        "jupyter": {
          "source_hidden": false,
          "outputs_hidden": false
        },
        "nteract": {
          "transient": {
            "deleting": false
          }
        },
        "gather": {
          "logged": 1646811830415
        }
      },
      "id": "fd47efa9-1b99-4be3-a424-124067ec58ee"
    },
    {
      "cell_type": "code",
      "source": [
        "################################################\n",
        "### Add Linux software repo for MS products ####\n",
        "################################################\n",
        "\n",
        "# (probably better to do in terminal w/o `!`)\n",
        "\n",
        "#!curl -sSL https://packages.microsoft.com/keys/microsoft.asc | sudo apt-key add -\n",
        "\n",
        "#!sudo apt-add-repository https://packages.microsoft.com/ubuntu/18.04/prod\n",
        "\n",
        "#!sudo apt-get update"
      ],
      "outputs": [],
      "execution_count": 9,
      "metadata": {
        "jupyter": {
          "source_hidden": false,
          "outputs_hidden": false
        },
        "nteract": {
          "transient": {
            "deleting": false
          }
        },
        "gather": {
          "logged": 1646809226445
        }
      },
      "id": "b9d02ce5-3b11-40bc-b199-a8f72dfdeee2"
    },
    {
      "cell_type": "code",
      "source": [
        "################################################\n",
        "######### Configure MS products repo ###########\n",
        "################################################\n",
        "\n",
        "#!wget https://packages.microsoft.com/config/ubuntu/16.04/packages-microsoft-prod.deb\n",
        "#!sudo dpkg -i packages-microsoft-prod.deb\n",
        "#!sudo apt-get update"
      ],
      "outputs": [],
      "execution_count": 22,
      "metadata": {
        "jupyter": {
          "source_hidden": false,
          "outputs_hidden": false
        },
        "nteract": {
          "transient": {
            "deleting": false
          }
        },
        "gather": {
          "logged": 1646811908265
        }
      },
      "id": "5c8ec664-40da-4643-bd67-2052de3e1f45"
    },
    {
      "cell_type": "code",
      "source": [
        "#################################################\n",
        "######### Configure storage account credentials #\n",
        "#################################################\n",
        "\n",
        "# save following in: ~/fuse_connection.cfg\n",
        "# then run: chmod 600 ~/fuse_connection.cfg  (restrict access so no other users can read it)\n",
        "\n",
        "accountName callcentrerecordings\n",
        "accountKey KDxWNJYwT00yQd1AhYU0H5vIZjDTHYB4zN4V+Fvhufv/2e/8Dy1MtzWh8AUMU5uF3f7OmT9T5VRV+ASt+XFaoA==\n",
        "authType Key\n",
        "containerName recordings"
      ],
      "outputs": [],
      "execution_count": null,
      "metadata": {
        "jupyter": {
          "source_hidden": false,
          "outputs_hidden": false
        },
        "nteract": {
          "transient": {
            "deleting": false
          }
        }
      },
      "id": "2b98fe54-1977-4570-9614-cb13c51c0b17"
    },
    {
      "cell_type": "code",
      "source": [
        "# create empty directory for mounting\n"
      ],
      "outputs": [],
      "execution_count": null,
      "metadata": {
        "jupyter": {
          "source_hidden": false,
          "outputs_hidden": false
        },
        "nteract": {
          "transient": {
            "deleting": false
          }
        }
      },
      "id": "537b767c-dbc6-40af-a7e4-613b2e9524c2"
    },
    {
      "cell_type": "markdown",
      "source": [
        "Importantly note differnce in current dir outfile from inside Notebook (seems like is inside compute) vs. from Terminal"
      ],
      "metadata": {
        "nteract": {
          "transient": {
            "deleting": false
          }
        }
      },
      "id": "b4ea80ce-e6e2-4569-b148-4e8f1d8442a0"
    },
    {
      "cell_type": "code",
      "source": [
        "user = os.popen('whoami').read()[:-1]\n",
        "#mount_path must be empty\n",
        "mount_path   = \"/home/azureuser/cloudfiles/code/Users/neelan/data/mycontainer\"\n",
        "if os.listdir(mount_path) != []:\n",
        "    print(\"mount_path not empty\")\n",
        "\n",
        "#make sure user has write access to cache_path - if not, create & chown to your user.\n",
        "cache_path   = \"/home/azureuser/cloudfiles/code/Users/neelan/mnt/resource/blobfusetmp\"\n",
        "config_path  = \"./connection.cfg\" #/home/azureuser/cloudfiles/code/Users/neelan/asr/pipeline/connection.cfg\""
      ],
      "outputs": [],
      "execution_count": 27,
      "metadata": {
        "jupyter": {
          "source_hidden": false,
          "outputs_hidden": false
        },
        "nteract": {
          "transient": {
            "deleting": false
          }
        },
        "gather": {
          "logged": 1646821528170
        }
      },
      "id": "35d3b791-39e7-45e4-b062-98ce0a5e3665"
    },
    {
      "cell_type": "code",
      "source": [
        "\n",
        "!chown $user $cache_path"
      ],
      "outputs": [],
      "execution_count": 24,
      "metadata": {
        "jupyter": {
          "source_hidden": false,
          "outputs_hidden": false
        },
        "nteract": {
          "transient": {
            "deleting": false
          }
        },
        "gather": {
          "logged": 1646820821929
        }
      },
      "id": "1bcf7590-dfd6-4bd8-8cc7-1f1fed9b262f"
    },
    {
      "cell_type": "markdown",
      "source": [
        "from Terminal `/home/azureuser/cloudfiles/code/Users/neelan/asr/pipeline`\n",
        "\n",
        "from Notebook `/mnt/batch/tasks/shared/LS_root/mounts/clusters/asr-compute/code/Users/neelan/asr/pipeline`"
      ],
      "metadata": {
        "nteract": {
          "transient": {
            "deleting": false
          }
        }
      },
      "id": "88b2ac51-2f2a-4012-a505-fe8b66247a28"
    },
    {
      "cell_type": "code",
      "source": [
        "\n",
        "# user must have access to mount_path cache_path & have full-access to those otherwise it will not work.\n",
        "!sudo blobfuse $mount_point --tmp-path=$cache_path  --config-file=../connection.cfg #-o attr_timeout=240 -o entry_timeout=240 -o negative_timeout=120"
      ],
      "outputs": [
        {
          "output_type": "stream",
          "name": "stdout",
          "text": "No config file found at ../connection.cfg.\r\n"
        }
      ],
      "execution_count": 33,
      "metadata": {
        "jupyter": {
          "source_hidden": false,
          "outputs_hidden": false
        },
        "nteract": {
          "transient": {
            "deleting": false
          }
        },
        "gather": {
          "logged": 1646821752805
        }
      },
      "id": "0076d2c7-e565-4ff9-956c-4aff074367aa"
    },
    {
      "cell_type": "code",
      "source": [
        "!sudo blobfuse /home/azureuser/cloudfiles/code/Users/neelan/data/mycontainer"
      ],
      "outputs": [],
      "execution_count": null,
      "metadata": {
        "jupyter": {
          "source_hidden": false,
          "outputs_hidden": false
        },
        "nteract": {
          "transient": {
            "deleting": false
          }
        }
      },
      "id": "b81e568c-2f72-4081-855d-4f1a526104d8"
    },
    {
      "cell_type": "code",
      "source": [
        "#!sudo apt-get install blobfuse fuse --yes"
      ],
      "outputs": [],
      "execution_count": null,
      "metadata": {
        "jupyter": {
          "source_hidden": false,
          "outputs_hidden": false
        },
        "nteract": {
          "transient": {
            "deleting": false
          }
        }
      },
      "id": "175eb9ce-5d6d-4c94-a364-9e53b1a65d93"
    },
    {
      "cell_type": "code",
      "source": [
        "os.listdir(mount_path)[:3]"
      ],
      "outputs": [
        {
          "output_type": "execute_result",
          "execution_count": 10,
          "data": {
            "text/plain": "['0000000229520431#-10569#MAGANYAM#LPT-MAGANYAM#20220209100209148.wav',\n '0000000528184405#-10557#PORTIAM13#TCRAMDA6-295#20220209071824490.wav',\n '0000003034735115#-10365#ZANDISWAM#TCRAMDA6-329#20220215075100132.wav']"
          },
          "metadata": {}
        }
      ],
      "execution_count": 10,
      "metadata": {
        "jupyter": {
          "source_hidden": false,
          "outputs_hidden": false
        },
        "nteract": {
          "transient": {
            "deleting": false
          }
        },
        "gather": {
          "logged": 1646809254565
        }
      },
      "id": "8a6eed38-0ee6-455a-bc3c-fbe71555ae08"
    },
    {
      "cell_type": "markdown",
      "source": [
        "### \"Environment\" variables"
      ],
      "metadata": {
        "nteract": {
          "transient": {
            "deleting": false
          }
        }
      },
      "id": "5808b426-9f6b-4093-92e8-e80289e3de92"
    },
    {
      "cell_type": "code",
      "source": [
        "# from old .as_download() code\n",
        "\"\"\"\n",
        "# environment variables\n",
        "FILE_PATHS = []\n",
        "\n",
        "for f in os.listdir(data_folder)[:50]:\n",
        "    if '.wav' in f:\n",
        "        FILE_PATHS.append(os.path.join(data_folder,f))\n",
        "\"\"\"\n",
        "\n",
        "# get file references, names\n",
        "FILES = []\n",
        "NAMES = []\n",
        "MOUNTS = []\n",
        "# checking that mounted files are available\n",
        "os.listdir(mount_path)\n",
        "\n",
        "for f in os.listdir(mount_path):\n",
        "    path = os.path.join(mount_path,f)\n",
        "    FILES.append(path)\n",
        "    MOUNTS.append(f)\n",
        "    NAMES.append(str(f))\n",
        "\n",
        "\n",
        "TOKEN='291224eea5ab48a4ae5b3a6f1ba92250' # to access assembly ai SaaS\n",
        "\n",
        "\n",
        "# from old .as_download() code\n",
        "\n",
        "# chunking for bulk processing\n",
        "CHUNK_SIZE = 50\n",
        "MOUNT_CHUNKS = [MOUNTS[x:x+CHUNK_SIZE] for x in range(0, len(MOUNTS), CHUNK_SIZE)]\n",
        "\n",
        "\"\"\"\n",
        "if not os.path.exists(os.path.join(data_folder,'sound_eye')):\n",
        "     os.mkdir(os.path.join(data_folder,'sound_eye'))\n",
        "\n",
        "SAVE_PATH = os.path.join(data_folder,'sound_eye')\n",
        "\n",
        "\n",
        "if not os.path.exists(os.path.join(data_folder,'sound_eye')):\n",
        "     os.mkdir(os.path.join(mount_path,'sound_eye'))\n",
        "\n",
        "SAVE_PATH = os.path.join(mount_path,'sound_eye')\n",
        "\n",
        "DPI = 200\n",
        "\n",
        "if not os.path.exists(os.path.join(mount_path, 'sound_eye')):\n",
        "    os.mkdir(os.path.join(mount_path, 'sound_eye'))\n",
        "\n",
        "\n",
        "ROOT=data_folder\n",
        "\n",
        "FILE = os.path.join(data_folder +'/1.wav') # our test file\n",
        "\n",
        "# listening to test file \n",
        "print(FILE)\n",
        "y, sr = librosa.load(FILE)\n",
        "print(sr)\n",
        "plt.figure(figsize=(14, 5))\n",
        "IPython.display.Audio(y, rate=sr)\n",
        "\"\"\""
      ],
      "outputs": [
        {
          "output_type": "execute_result",
          "execution_count": 55,
          "data": {
            "text/plain": "\"\\nif not os.path.exists(os.path.join(data_folder,'sound_eye')):\\n     os.mkdir(os.path.join(data_folder,'sound_eye'))\\n\\nSAVE_PATH = os.path.join(data_folder,'sound_eye')\\n\\n\\nif not os.path.exists(os.path.join(data_folder,'sound_eye')):\\n     os.mkdir(os.path.join(mount_path,'sound_eye'))\\n\\nSAVE_PATH = os.path.join(mount_path,'sound_eye')\\n\\nDPI = 200\\n\\nif not os.path.exists(os.path.join(mount_path, 'sound_eye')):\\n    os.mkdir(os.path.join(mount_path, 'sound_eye'))\\n\\n\\nROOT=data_folder\\n\\nFILE = os.path.join(data_folder +'/1.wav') # our test file\\n\\n# listening to test file \\nprint(FILE)\\ny, sr = librosa.load(FILE)\\nprint(sr)\\nplt.figure(figsize=(14, 5))\\nIPython.display.Audio(y, rate=sr)\\n\""
          },
          "metadata": {}
        }
      ],
      "execution_count": 55,
      "metadata": {
        "jupyter": {
          "source_hidden": false,
          "outputs_hidden": false
        },
        "nteract": {
          "transient": {
            "deleting": false
          }
        },
        "gather": {
          "logged": 1646854383539
        }
      },
      "id": "8905d65c-7dfc-469e-8a02-697ac808f4f9"
    },
    {
      "cell_type": "markdown",
      "source": [
        "## Using API with `requests`\n",
        "\n",
        "[Functions largely from this blog](https://towardsdatascience.com/how-to-build-a-web-app-to-transcribe-audio-using-python-and-assemblyai-18f197253fd8)\n",
        "\n",
        "The AssemblyAI model expects the file to be accessible via a URL. Therefore, we will need to upload the audio file to blob storage to make it accessible via a URL. Fortunately, AssemblyAI provides a quick and easy way to do this.\n",
        "\n",
        "We need to make a `POST request` to the following AssemblyAI API endpoint: `https://api.assemblyai.com/v2/upload`\n",
        "\n",
        "The response will contain a temporary URL to the file, we can pass this URL to the back to the AssemblyAI `transcript` API endpoint. The URL is a private URL accessible only to the AssemblyAI servers. All the uploads are immediately deleted after transcription and never stored.\n",
        "\n",
        "We will use Python’s request library that we installed earlier to make the `POST request`"
      ],
      "metadata": {},
      "id": "9cfa37f6"
    },
    {
      "cell_type": "code",
      "source": [
        "def get_url(token, data):\n",
        "    \"\"\"\n",
        "    Helper Function 1: Uploading a local audio file to AssemblyAI\n",
        "    Adapted from: https://towardsdatascience.com/how-to-build-a-web-app-to-transcribe-audio-using-python-and-assemblyai-18f197253fd8\n",
        "    \n",
        "    -Args:\n",
        "    - token: The API key\n",
        "    - data : The File Object to upload\n",
        "    \n",
        "    ***Returns:\n",
        "    url : url to uploaded file\n",
        "    \"\"\"\n",
        "    \n",
        "    def read_file(filename, chunk_size=5242880):\n",
        "        \"\"\"\n",
        "        Helper function to read file onto server\n",
        "        \"\"\"\n",
        "        with open(filename, 'rb') as _file:\n",
        "            while True:\n",
        "                data = _file.read(chunk_size)\n",
        "                if not data:\n",
        "                    break\n",
        "                yield data\n",
        "\n",
        "    \n",
        "    headers = {\"authorization\": token}\n",
        "    response = requests.post(\"https://api.assemblyai.com/v2/upload\", headers=headers, data=read_file(data))\n",
        "    url = response.json()[\"upload_url\"]\n",
        "    print(\"Uploaded File and got temporary URL to file\")\n",
        "     \n",
        "    return url\n",
        "\n",
        "# getting temporary url\n",
        "URL = get_url(TOKEN, MOUNTS[0])\n",
        "URL\n",
        "\n"
      ],
      "outputs": [
        {
          "output_type": "stream",
          "name": "stdout",
          "text": "Uploaded File and got temporary URL to file\n"
        },
        {
          "output_type": "execute_result",
          "execution_count": 44,
          "data": {
            "text/plain": "'https://cdn.assemblyai.com/upload/b684be30-439f-4b0f-b2f2-2c2954a516c0'"
          },
          "metadata": {}
        }
      ],
      "execution_count": 44,
      "metadata": {
        "scrolled": true,
        "gather": {
          "logged": 1646852853125
        }
      },
      "id": "6d107c65"
    },
    {
      "cell_type": "markdown",
      "source": [
        "\n",
        "Now that we have a function to get a URL for our audio file, we will use this URL and make a request to the endpoint which will actually transcribe the file. \n",
        "\n",
        "We  make a request to the Transcription Endpoint along with the URL to the file. We need to make a request to the following AssemblyAI API endpoint\n"
      ],
      "metadata": {},
      "id": "87a9be1a"
    },
    {
      "cell_type": "code",
      "source": [
        "def get_transcribe_id(token, url):\n",
        "    \"\"\"\n",
        "    Helper Function 2: Uploading a file for transcription\n",
        "    Adapted from: https://towardsdatascience.com/how-to-build-a-web-app-to-transcribe-audio-using-python-and-assemblyai-18f197253fd8\n",
        "    \n",
        "    \n",
        "    ***Args:\n",
        "    - token: The API key\n",
        "    - url : Url to uploaded file\n",
        "    \n",
        "    ***Returna:\n",
        "    - id : file transcribe id\n",
        "    \"\"\"\n",
        "    endpoint = \"https://api.assemblyai.com/v2/transcript\"\n",
        "    json = {\n",
        "    \"audio_url\": url\n",
        "    }\n",
        "    headers = {\n",
        "    \"authorization\": token,\n",
        "    \"content-type\": \"application/json\"\n",
        "    }\n",
        "    response = requests.post(endpoint, json=json, headers=headers)\n",
        "    id_ = response.json()[\"id\"]\n",
        "    print(\"Made request and file is currently queued\")\n",
        "    \n",
        "    return id_\n",
        "\n",
        "ID = get_transcribe_id(TOKEN, URL)\n",
        "ID"
      ],
      "outputs": [
        {
          "output_type": "stream",
          "name": "stdout",
          "text": "Made request and file is currently queued\n"
        },
        {
          "output_type": "execute_result",
          "execution_count": 45,
          "data": {
            "text/plain": "'ozy4pkc108-01eb-48b8-9411-8995509e4631'"
          },
          "metadata": {}
        }
      ],
      "execution_count": 45,
      "metadata": {
        "gather": {
          "logged": 1646852865917
        }
      },
      "id": "17350f0e"
    },
    {
      "cell_type": "markdown",
      "source": [
        "Once we have the transcription ID of our audio file, we can make a `GET request` to the following AssemblyAI API endpoint to check the status of the transcription:"
      ],
      "metadata": {},
      "id": "15141b59"
    },
    {
      "cell_type": "code",
      "source": [
        "def get_status(token, transcribe_id):\n",
        "    \"\"\"\n",
        "    Helper Function 3: Get transcription status\n",
        "    Adapted from: https://towardsdatascience.com/how-to-build-a-web-app-to-transcribe-audio-using-python-and-assemblyai-18f197253fd8\n",
        "    \n",
        "\n",
        "    ***Args:\n",
        "    - token: The API key\n",
        "    - transcribe_id: The ID of the file which is being\n",
        "\n",
        "    ***Returns:\n",
        "    result : The response object\n",
        "    \"\"\" \n",
        "    endpoint= f\"https://api.assemblyai.com/v2/transcript/{transcribe_id}\"\n",
        "    headers = {\n",
        "    \"authorization\": token\n",
        "               }\n",
        "    result = requests.get(endpoint, headers=headers).json()\n",
        "     \n",
        "    return result\n",
        "\n",
        "STATUS = get_status(TOKEN, ID)\n",
        "print(STATUS['status'])\n",
        "#while STATUS['status'] != 'completed':\n",
        "#    STATUS = get_status(TOKEN, ID)\n",
        "#print(STATUS['text'])   "
      ],
      "outputs": [
        {
          "output_type": "stream",
          "name": "stdout",
          "text": "processing\n"
        }
      ],
      "execution_count": 46,
      "metadata": {
        "scrolled": true,
        "gather": {
          "logged": 1646852881890
        }
      },
      "id": "5d6d323f"
    },
    {
      "cell_type": "markdown",
      "source": [
        "## Creating bulk loops ⏳"
      ],
      "metadata": {},
      "id": "a70e1c1e"
    },
    {
      "cell_type": "code",
      "source": [
        "def bulk_uploader(token: str, file_paths: str):\n",
        "    \"\"\"\n",
        "    Helper function to upload all files in folder to Assembly AI server\n",
        "    \"\"\"\n",
        "    urls = []\n",
        "    done = []\n",
        "    for i, f in enumerate(file_paths):\n",
        "        print(i)\n",
        "        \n",
        "        if f.endswith('.wav') is not True:\n",
        "            print(f\"{f} not .wav\")\n",
        "            break\n",
        "        else:\n",
        "            urls.append(get_url(token,f))\n",
        "            done.append(f)\n",
        "    print(\"files uploaded to following urls\")        \n",
        "    return urls, done\n",
        "            \n",
        "            \n",
        "URLS, DONE = bulk_uploader(TOKEN, MOUNT_CHUNKS[0])\n",
        "REF = zip(DONE,URLS)\n",
        "ref_df = pd.DataFrame(REF)\n",
        "ref_df.to_csv('MOUNT_CHUNKS_0.csv')\n",
        "\n",
        "    "
      ],
      "outputs": [
        {
          "output_type": "stream",
          "name": "stdout",
          "text": "0\nUploaded File and got temporary URL to file\n1\nUploaded File and got temporary URL to file\n2\nUploaded File and got temporary URL to file\n3\nUploaded File and got temporary URL to file\n4\nUploaded File and got temporary URL to file\n5\nUploaded File and got temporary URL to file\n6\nUploaded File and got temporary URL to file\n7\nUploaded File and got temporary URL to file\n8\nUploaded File and got temporary URL to file\n9\nUploaded File and got temporary URL to file\n10\nUploaded File and got temporary URL to file\n11\nUploaded File and got temporary URL to file\n12\nUploaded File and got temporary URL to file\n13\nUploaded File and got temporary URL to file\n14\nUploaded File and got temporary URL to file\n15\nUploaded File and got temporary URL to file\n16\nUploaded File and got temporary URL to file\n17\nUploaded File and got temporary URL to file\n18\nUploaded File and got temporary URL to file\n19\nUploaded File and got temporary URL to file\n20\nUploaded File and got temporary URL to file\n21\nUploaded File and got temporary URL to file\n22\nUploaded File and got temporary URL to file\n23\nUploaded File and got temporary URL to file\n24\nUploaded File and got temporary URL to file\n25\nUploaded File and got temporary URL to file\n26\nUploaded File and got temporary URL to file\n27\nUploaded File and got temporary URL to file\n28\nUploaded File and got temporary URL to file\n29\nUploaded File and got temporary URL to file\n30\nUploaded File and got temporary URL to file\n31\nUploaded File and got temporary URL to file\n32\nUploaded File and got temporary URL to file\n33\nUploaded File and got temporary URL to file\n34\nUploaded File and got temporary URL to file\n35\nUploaded File and got temporary URL to file\n36\nUploaded File and got temporary URL to file\n37\nUploaded File and got temporary URL to file\n38\nUploaded File and got temporary URL to file\n39\nUploaded File and got temporary URL to file\n40\nUploaded File and got temporary URL to file\n41\nUploaded File and got temporary URL to file\n42\nUploaded File and got temporary URL to file\n43\nUploaded File and got temporary URL to file\n44\nUploaded File and got temporary URL to file\n45\nUploaded File and got temporary URL to file\n46\nUploaded File and got temporary URL to file\n47\nUploaded File and got temporary URL to file\n48\nUploaded File and got temporary URL to file\n49\nUploaded File and got temporary URL to file\nfiles uploaded to following urls\n"
        }
      ],
      "execution_count": 62,
      "metadata": {
        "gather": {
          "logged": 1646854705179
        }
      },
      "id": "6c1cd538"
    },
    {
      "cell_type": "code",
      "source": [
        "def bulk_get_ids(token: str, urls: list):\n",
        "    ids = []\n",
        "    for url in urls:\n",
        "        ids.append(get_transcribe_id(token, url))\n",
        "    return ids\n",
        "\n",
        "IDS = bulk_get_ids(TOKEN, URLS)\n",
        "IDS"
      ],
      "outputs": [
        {
          "output_type": "stream",
          "name": "stdout",
          "text": "Made request and file is currently queued\nMade request and file is currently queued\nMade request and file is currently queued\nMade request and file is currently queued\nMade request and file is currently queued\nMade request and file is currently queued\nMade request and file is currently queued\nMade request and file is currently queued\nMade request and file is currently queued\nMade request and file is currently queued\nMade request and file is currently queued\nMade request and file is currently queued\nMade request and file is currently queued\nMade request and file is currently queued\nMade request and file is currently queued\nMade request and file is currently queued\nMade request and file is currently queued\nMade request and file is currently queued\nMade request and file is currently queued\nMade request and file is currently queued\nMade request and file is currently queued\nMade request and file is currently queued\nMade request and file is currently queued\nMade request and file is currently queued\nMade request and file is currently queued\nMade request and file is currently queued\nMade request and file is currently queued\nMade request and file is currently queued\nMade request and file is currently queued\nMade request and file is currently queued\nMade request and file is currently queued\nMade request and file is currently queued\nMade request and file is currently queued\nMade request and file is currently queued\nMade request and file is currently queued\nMade request and file is currently queued\nMade request and file is currently queued\nMade request and file is currently queued\nMade request and file is currently queued\nMade request and file is currently queued\nMade request and file is currently queued\nMade request and file is currently queued\nMade request and file is currently queued\nMade request and file is currently queued\nMade request and file is currently queued\nMade request and file is currently queued\nMade request and file is currently queued\nMade request and file is currently queued\nMade request and file is currently queued\nMade request and file is currently queued\n"
        },
        {
          "output_type": "execute_result",
          "execution_count": 63,
          "data": {
            "text/plain": "['ozytiz4h8l-9773-4106-87f4-53ad9d68b0ea',\n 'ozyti4ekxj-8ad8-4bf5-a875-b8dcd357bb3d',\n 'ozyti1kt1w-d7a2-431d-a751-d5ed629f2040',\n 'ozyti1wb2y-71ae-492e-ad7a-914e4801853f',\n 'ozytiy7hwd-184c-4125-b279-0f56f26e9a94',\n 'ozytixnuy5-db63-48f6-b452-6280670ac02a',\n 'ozyti71kwo-7463-4a3b-9e29-8b4b35c50534',\n 'ozytilsmgv-2f2b-4e85-b233-e2f58fd8106b',\n 'ozytii9s5r-0af7-422a-aaf1-9bc0b942c283',\n 'ozytitlgxx-df53-4c6c-8855-21e5942bb314',\n 'ozyti8881j-5a93-4b81-922d-9046a5f790d5',\n 'ozyti39ijv-274e-498a-8693-7e6957d24239',\n 'ozytijfdk8-56af-4468-bb7c-720037fac02d',\n 'ozytihvx00-d10c-4781-ba9d-bb5f01521d02',\n 'ozyticbjqa-f45e-4541-a572-849d40790c9f',\n 'ozytidx4pj-4b21-4a89-a689-0034f82af148',\n 'ozytipmz6v-9dfc-4b68-9a26-4fcdb8eb4118',\n 'ozytias6qk-600d-4482-9fb0-355103e34853',\n 'ozytinkx5a-1507-47e9-90c2-c1e5994f7c82',\n 'ozytifsbgw-18ac-4824-ad63-51e2496cd449',\n 'ozytiw5a5k-45fe-4f35-9923-fc23cbc42f79',\n 'ozyti5mhqq-1f6b-457d-995f-99b2d6569c1f',\n 'ozytqes3np-63ef-408c-82a2-12d14c4bd064',\n 'ozytqox52o-1d14-4133-804d-0f0ddb86d1eb',\n 'ozytqrk2b7-d2cd-4df1-a67e-b548cb64ec8e',\n 'ozytqgzla0-f6d9-4619-b3a3-6ec33e878cbf',\n 'ozytqg2tj1-c251-4c36-a8b2-517592dc530d',\n 'ozytqzwf33-6e4c-4dfd-b99f-c1a412cd5f95',\n 'ozytq4d0bm-92bc-41e9-8497-f90e918818ce',\n 'ozytq1h9uu-638b-4051-bdb0-eb050b8532cb',\n 'ozytqygype-b1c9-4efc-947c-7994d0d47064',\n 'ozytqy5g10-6cbe-41f7-aa78-e70690d3755a',\n 'ozytqxu461-8120-4d07-8d17-9068044dd090',\n 'ozytqb4ywg-1778-497a-a4a5-afcb0f88e210',\n 'ozytq0bcvi-faa4-4c63-ba83-0dd8140ba1e9',\n 'ozytq7qr2m-00de-4327-9c17-3094ce14d018',\n 'ozytq7505z-574e-4435-bc47-2761d43e885f',\n 'ozytqqo7gx-cebd-468e-a9d7-acefa2019a34',\n 'ozytqqci9s-9031-41c9-aa26-8e50f215ff02',\n 'ozytqth64o-1494-4068-af99-1c55674fabec',\n 'ozytq8k7bi-dbbc-4355-87aa-c9b037a33a55',\n 'ozytq33xdd-483c-47f8-b432-241c81713c44',\n 'ozytqunq0q-4f72-4443-bf17-fd730c17b51d',\n 'ozytqj26jx-de0c-4aab-9206-caec9b17026a',\n 'ozytqhwq3j-e1b6-43c4-a903-a0be12e1fef9',\n 'ozytqd07wv-43b0-4554-baad-70a34fd8bd46',\n 'ozytqmilge-4eda-48a7-9673-4853fa95c4fb',\n 'ozytqa6q5f-d74b-47a5-8948-b8a380787497',\n 'ozytq2n5m6-622d-418b-8872-caa4dccc304f',\n 'ozytqvjl8y-24b9-4a99-ba73-6ffe2f8640db']"
          },
          "metadata": {}
        }
      ],
      "execution_count": 63,
      "metadata": {
        "scrolled": true,
        "gather": {
          "logged": 1646855589789
        }
      },
      "id": "0090eac6"
    },
    {
      "cell_type": "code",
      "source": [],
      "outputs": [],
      "execution_count": null,
      "metadata": {
        "jupyter": {
          "source_hidden": false,
          "outputs_hidden": false
        },
        "nteract": {
          "transient": {
            "deleting": false
          }
        }
      },
      "id": "0584ef7d-4e7d-436e-8db7-a7ac28474c73"
    },
    {
      "cell_type": "code",
      "source": [
        "REF = zip(DONE,URLS, IDS)\n",
        "ref_df = pd.DataFrame(REF, columns=['file_name', 'url', 'id'])\n",
        "ref_df.to_csv()"
      ],
      "outputs": [
        {
          "output_type": "execute_result",
          "execution_count": 67,
          "data": {
            "text/plain": "',file_name,url,id\\n0,0291506962#-10505#SITHATIL#TCRCBD-E45#20220215135504102.wav,https://cdn.assemblyai.com/upload/5627a41b-1462-42f8-a1de-407943a14419,ozytiz4h8l-9773-4106-87f4-53ad9d68b0ea\\n1,029512090788#-10541#JERRYL#TCR-TOSH420#20220215072323987.wav,https://cdn.assemblyai.com/upload/c103d95c-ecc1-40da-9836-87a806f3ff02,ozyti4ekxj-8ad8-4bf5-a875-b8dcd357bb3d\\n2,0301269833#-10505#BUSISIWEM26#TCR4-254782#20220215145030457.wav,https://cdn.assemblyai.com/upload/7fa1dc5e-de44-4cbb-8ec5-7853419a8382,ozyti1kt1w-d7a2-431d-a751-d5ed629f2040\\n3,030136911B08#-10530#TSWALANEM#TCRLASUS-125#20220215114704654.wav,https://cdn.assemblyai.com/upload/c8b2c850-3317-4359-a619-5bfc7abd6ef4,ozyti1wb2y-71ae-492e-ad7a-914e4801853f\\n4,0301758082#-10505#KHANYAM2#TCRCBD3-E40#20220215145548064.wav,https://cdn.assemblyai.com/upload/48a7d8c4-26f1-4b70-bd0b-2f1588c15510,ozytiy7hwd-184c-4125-b279-0f56f26e9a94\\n5,0301786778#-10505#BUSISIWEM24#LPTP-BUSIM24#20220215074645058.wav,https://cdn.assemblyai.com/upload/55609efa-5141-4c78-8091-7b3727a2ec31,ozytixnuy5-db63-48f6-b452-6280670ac02a\\n6,0301908430#-10505#PULANEL#TCRLENA-156#20220215071400101.wav,https://cdn.assemblyai.com/upload/fcf8fbb3-8206-409f-b4f0-615b116a8a3e,ozyti71kwo-7463-4a3b-9e29-8b4b35c50534\\n7,0303115455#-10479#SIYAMUKELAY#TCRCBD4-B12#20220215140205970.wav,https://cdn.assemblyai.com/upload/59716b2e-7011-47b6-922e-1640eb5bba67,ozytilsmgv-2f2b-4e85-b233-e2f58fd8106b\\n8,0303226708#-10505#KARABOS2#TCRCBD3-F08#20220215073718529.wav,https://cdn.assemblyai.com/upload/86c3ef61-69d4-4e80-9407-f462fbedf788,ozytii9s5r-0af7-422a-aaf1-9bc0b942c283\\n9,0307160945#-10505#KHANYAM2#TCRCBD3-E40#20220215073435419.wav,https://cdn.assemblyai.com/upload/59ea26b8-2a57-4f78-8a7f-14f4f66f2fe9,ozytitlgxx-df53-4c6c-8855-21e5942bb314\\n10,032197411B15#-10570#BENJAMINL1#TCRLENA-80#20220215071553760.wav,https://cdn.assemblyai.com/upload/2b83db78-87c6-4736-9f2b-07aa4f069b93,ozyti8881j-5a93-4b81-922d-9046a5f790d5\\n11,032522090314#-10541#YANDAM#TCRCBD2-WFO124#20220215132859951.wav,https://cdn.assemblyai.com/upload/536315e6-a7c7-4a9b-b680-cb6b04a62ecd,ozyti39ijv-274e-498a-8693-7e6957d24239\\n12,033218242B12#-10221#MADISEBOM#TCRLASUS-160#20220215111446914.wav,https://cdn.assemblyai.com/upload/a6ab4796-9eed-4ac9-a83d-cf723e552fbd,ozytijfdk8-56af-4468-bb7c-720037fac02d\\n13,033589096667#-10538#KEATLARETSEM#TCR-CBDVPN03#20220215074607062.wav,https://cdn.assemblyai.com/upload/8b144996-426a-464e-bbf4-7be17968ca50,ozytihvx00-d10c-4781-ba9d-bb5f01521d02\\n14,033670088350#-10541#JERRYL#TCR-TOSH420#20220215091233330.wav,https://cdn.assemblyai.com/upload/f8327656-34a2-4a2b-8ae7-5464256bef23,ozyticbjqa-f45e-4541-a572-849d40790c9f\\n15,038095048141#-10512#MMAPASEKAB#TCRCBD2-WFO127#20220215075231222.wav,https://cdn.assemblyai.com/upload/21a88b5e-e296-4c08-84f2-fd362f906ea6,ozytidx4pj-4b21-4a89-a689-0034f82af148\\n16,038220094336#-10541#VIRGINIAK#LPTP-VIGINIAK#20220215090028879.wav,https://cdn.assemblyai.com/upload/6b427cce-d6d3-4e66-95ce-30048f23d0e8,ozytipmz6v-9dfc-4b68-9a26-4fcdb8eb4118\\n17,039802113054#-10541#YANDAM#TCRCBD2-WFO124#20220215092816150.wav,https://cdn.assemblyai.com/upload/5a52b3dd-4bbf-4df6-82b5-8abdade74ff5,ozytias6qk-600d-4482-9fb0-355103e34853\\n18,039908100967#-10541#NTSEKISENGL#TCRCBD2-10#20220215102547324.wav,https://cdn.assemblyai.com/upload/22c77ce1-f419-4b35-83eb-59bbe7f34b9c,ozytinkx5a-1507-47e9-90c2-c1e5994f7c82\\n19,040022137B12#-10221#ELARDEV#LPTP-ELARDEV#20220215092408352.wav,https://cdn.assemblyai.com/upload/886ad9c5-5ea4-4b4c-89f6-a64852531b68,ozytifsbgw-18ac-4824-ad63-51e2496cd449\\n20,040399419B16#-10430#NTSHAMISEKON#TCRAMDA689#20220215110119446.wav,https://cdn.assemblyai.com/upload/332bcf74-567d-47ce-a935-381ebfcb3f5d,ozytiw5a5k-45fe-4f35-9923-fc23cbc42f79\\n21,040525090777#-10541#VIRGINIAK#LPTP-VIGINIAK#20220215104058833.wav,https://cdn.assemblyai.com/upload/12ce6fc3-c3f1-42be-9602-ea539ceeef4d,ozyti5mhqq-1f6b-457d-995f-99b2d6569c1f\\n22,040599061319#-10512#MMAPASEKAB#TCRCBD2-WFO127#20220215133808183.wav,https://cdn.assemblyai.com/upload/cddddaaa-391b-45cb-ad3c-8fdd3ccca424,ozytqes3np-63ef-408c-82a2-12d14c4bd064\\n23,045655082021#-10541#JERRYL#TCR-TOSH420#20220215151020400.wav,https://cdn.assemblyai.com/upload/c36c6d9d-ff4f-42b6-82db-c82d559ef07c,ozytqox52o-1d14-4133-804d-0f0ddb86d1eb\\n24,046879079739#-10541#MOLIKUOAL#TCRAMDA6-351#20220215081358952.wav,https://cdn.assemblyai.com/upload/3036fad1-f27b-45d0-9d92-50b66bfc159e,ozytqrk2b7-d2cd-4df1-a67e-b548cb64ec8e\\n25,047338070733#-10541#JERRYL#TCR-TOSH420#20220215131320135.wav,https://cdn.assemblyai.com/upload/20ed2b8e-0fc2-44e6-9b34-3aae9f418687,ozytqgzla0-f6d9-4619-b3a3-6ec33e878cbf\\n26,050353083402#-10541#AUBREYMP#TCRAMDA6-373#20220215093534058.wav,https://cdn.assemblyai.com/upload/82ffcda4-9769-451a-a164-687542b03d48,ozytqg2tj1-c251-4c36-a8b2-517592dc530d\\n27,050487868B04#989#NESTAM#TCRAMDA6-40#20220215124031989.wav,https://cdn.assemblyai.com/upload/cee5ceb8-91f0-4e89-a44a-59f1494a7f0b,ozytqzwf33-6e4c-4dfd-b99f-c1a412cd5f95\\n28,050565729B07#-10485#ANDILET#TCRALENA178#20220215114358078.wav,https://cdn.assemblyai.com/upload/6904c1b1-928b-40ba-b60b-2c774200b846,ozytq4d0bm-92bc-41e9-8497-f90e918818ce\\n29,053235371B19#-10570#MEGANP1#LPTP-MEGANP1#20220215073621665.wav,https://cdn.assemblyai.com/upload/58ba3603-20b4-4849-b2da-c3152e7b15b7,ozytq1h9uu-638b-4051-bdb0-eb050b8532cb\\n30,058841079123#-10541#NTSEKISENGL#TCRCBD2-10#20220215072829380.wav,https://cdn.assemblyai.com/upload/51e5e52a-ea9d-4575-b365-8e7f1b62eae1,ozytqygype-b1c9-4efc-947c-7994d0d47064\\n31,060940058411#-10512#MMAPASEKAB#TCRCBD2-WFO127#20220215110103145.wav,https://cdn.assemblyai.com/upload/e52e486f-2ecc-4208-8fde-f00697403201,ozytqy5g10-6cbe-41f7-aa78-e70690d3755a\\n32,061089184B18#-10570#PRUDENCEN1#TCRAMDA6-113#20220215075412842.wav,https://cdn.assemblyai.com/upload/f0f51cf7-67ac-4d21-bf04-653ac78d9515,ozytqxu461-8120-4d07-8d17-9068044dd090\\n33,061409058667#-10512#TIISETSOM3#TCRAMDA6-377#20220215074842468.wav,https://cdn.assemblyai.com/upload/f7ae1f0c-33c7-4d32-b83b-819333b054f9,ozytqb4ywg-1778-497a-a4a5-afcb0f88e210\\n34,063103737B11#-10221#TINTSWALOC#TCRCBD4-B06#20220215124954097.wav,https://cdn.assemblyai.com/upload/69882257-e9ad-49e8-a85e-1b839686e7bf,ozytq0bcvi-faa4-4c63-ba83-0dd8140ba1e9\\n35,063379759B11#-10221#LINDOKUHLEM7#TCR-TOSH621#20220215151208611.wav,https://cdn.assemblyai.com/upload/d1546095-c349-41e6-b052-e940f9fc5e74,ozytq7qr2m-00de-4327-9c17-3094ce14d018\\n36,065852061083#-10512#TIISETSOM3#TCRAMDA6-377#20220215105945346.wav,https://cdn.assemblyai.com/upload/b79b80a7-f660-408e-87d6-b22d90ffbea3,ozytq7505z-574e-4435-bc47-2761d43e885f\\n37,066651061514#-10541#SELLOMAJ#TCRCBD5-WFO02#20220215124004188.wav,https://cdn.assemblyai.com/upload/0bfecc8b-143b-4055-b17c-b45878fcf67b,ozytqqo7gx-cebd-468e-a9d7-acefa2019a34\\n38,067240078577#-10541#NTSEKISENGL#TCRCBD2-10#20220215134614819.wav,https://cdn.assemblyai.com/upload/130792e3-364a-4e90-859d-3fef5f74944f,ozytqqci9s-9031-41c9-aa26-8e50f215ff02\\n39,067240078577#-10541#NTSEKISENGL#TCRCBD2-10#20220215135435787.wav,https://cdn.assemblyai.com/upload/81b007ad-cc3d-48cf-881f-1e2b5b50dde5,ozytqth64o-1494-4068-af99-1c55674fabec\\n40,070-28617517#-10396#SAMANTHAW#TCRCBD2-WFO108#20220215133802958.wav,https://cdn.assemblyai.com/upload/c89703c4-a7b9-4534-be47-815212bbfe65,ozytq8k7bi-dbbc-4355-87aa-c9b037a33a55\\n41,072247064562#-10512#MMAPASEKAB#TCRCBD2-WFO127#20220215102352019.wav,https://cdn.assemblyai.com/upload/72df5929-18b7-45ff-a9a4-6e82ae5352a5,ozytq33xdd-483c-47f8-b432-241c81713c44\\n42,075671098470#-10541#THABANAR#TCRAMDA6-372#20220215121146509.wav,https://cdn.assemblyai.com/upload/64247d85-95a6-4ae5-a186-8b1b45c5586b,ozytqunq0q-4f72-4443-bf17-fd730c17b51d\\n43,075975103073#-10541#AMANDAM11#CBD-VPN46#20220215080950804.wav,https://cdn.assemblyai.com/upload/e559395a-d6f4-4eb0-af72-6b435a440ea0,ozytqj26jx-de0c-4aab-9206-caec9b17026a\\n44,085073078586#-10512#TIISETSOM3#TCRAMDA6-377#20220215104027917.wav,https://cdn.assemblyai.com/upload/56d6254a-656c-46c9-9f82-30e1ce433615,ozytqhwq3j-e1b6-43c4-a903-a0be12e1fef9\\n45,086642074616#-10541#NTSEKISENGL#TCRCBD2-10#20220215115325498.wav,https://cdn.assemblyai.com/upload/67c24752-8df7-4c30-8bc1-620745ccb803,ozytqd07wv-43b0-4554-baad-70a34fd8bd46\\n46,090829077430#-10512#MMAPASEKAB#TCRCBD2-WFO127#20220215102942801.wav,https://cdn.assemblyai.com/upload/b2616053-58f6-472a-891a-1e356639524a,ozytqmilge-4eda-48a7-9673-4853fa95c4fb\\n47,094004079492#-10541#ZUKDON#TCRCBD-WFO37#20220215103309842.wav,https://cdn.assemblyai.com/upload/6eb8b736-c2da-4f14-960a-dba9a98b9b4a,ozytqa6q5f-d74b-47a5-8948-b8a380787497\\n48,094523087722#-10541#SELLOMAJ#TCRCBD5-WFO02#20220215101706447.wav,https://cdn.assemblyai.com/upload/4b046a0b-1684-442d-b8b8-93844c0ef264,ozytq2n5m6-622d-418b-8872-caa4dccc304f\\n49,095048080570#-10541#JERRYL#TCR-TOSH420#20220215080755935.wav,https://cdn.assemblyai.com/upload/d6c92558-2039-48b1-adca-214484cc7e80,ozytqvjl8y-24b9-4a99-ba73-6ffe2f8640db\\n'"
          },
          "metadata": {}
        }
      ],
      "execution_count": 67,
      "metadata": {
        "jupyter": {
          "source_hidden": false,
          "outputs_hidden": false
        },
        "nteract": {
          "transient": {
            "deleting": false
          }
        },
        "gather": {
          "logged": 1646855756751
        }
      },
      "id": "464fa29d-af31-472b-90b2-96234051648f"
    },
    {
      "cell_type": "code",
      "source": [
        "ref_df"
      ],
      "outputs": [
        {
          "output_type": "execute_result",
          "execution_count": 72,
          "data": {
            "text/plain": "                                            file_name  \\\n0   0291506962#-10505#SITHATIL#TCRCBD-E45#20220215...   \n1   029512090788#-10541#JERRYL#TCR-TOSH420#2022021...   \n2   0301269833#-10505#BUSISIWEM26#TCR4-254782#2022...   \n3   030136911B08#-10530#TSWALANEM#TCRLASUS-125#202...   \n4   0301758082#-10505#KHANYAM2#TCRCBD3-E40#2022021...   \n5   0301786778#-10505#BUSISIWEM24#LPTP-BUSIM24#202...   \n6   0301908430#-10505#PULANEL#TCRLENA-156#20220215...   \n7   0303115455#-10479#SIYAMUKELAY#TCRCBD4-B12#2022...   \n8   0303226708#-10505#KARABOS2#TCRCBD3-F08#2022021...   \n9   0307160945#-10505#KHANYAM2#TCRCBD3-E40#2022021...   \n10  032197411B15#-10570#BENJAMINL1#TCRLENA-80#2022...   \n11  032522090314#-10541#YANDAM#TCRCBD2-WFO124#2022...   \n12  033218242B12#-10221#MADISEBOM#TCRLASUS-160#202...   \n13  033589096667#-10538#KEATLARETSEM#TCR-CBDVPN03#...   \n14  033670088350#-10541#JERRYL#TCR-TOSH420#2022021...   \n15  038095048141#-10512#MMAPASEKAB#TCRCBD2-WFO127#...   \n16  038220094336#-10541#VIRGINIAK#LPTP-VIGINIAK#20...   \n17  039802113054#-10541#YANDAM#TCRCBD2-WFO124#2022...   \n18  039908100967#-10541#NTSEKISENGL#TCRCBD2-10#202...   \n19  040022137B12#-10221#ELARDEV#LPTP-ELARDEV#20220...   \n20  040399419B16#-10430#NTSHAMISEKON#TCRAMDA689#20...   \n21  040525090777#-10541#VIRGINIAK#LPTP-VIGINIAK#20...   \n22  040599061319#-10512#MMAPASEKAB#TCRCBD2-WFO127#...   \n23  045655082021#-10541#JERRYL#TCR-TOSH420#2022021...   \n24  046879079739#-10541#MOLIKUOAL#TCRAMDA6-351#202...   \n25  047338070733#-10541#JERRYL#TCR-TOSH420#2022021...   \n26  050353083402#-10541#AUBREYMP#TCRAMDA6-373#2022...   \n27  050487868B04#989#NESTAM#TCRAMDA6-40#2022021512...   \n28  050565729B07#-10485#ANDILET#TCRALENA178#202202...   \n29  053235371B19#-10570#MEGANP1#LPTP-MEGANP1#20220...   \n30  058841079123#-10541#NTSEKISENGL#TCRCBD2-10#202...   \n31  060940058411#-10512#MMAPASEKAB#TCRCBD2-WFO127#...   \n32  061089184B18#-10570#PRUDENCEN1#TCRAMDA6-113#20...   \n33  061409058667#-10512#TIISETSOM3#TCRAMDA6-377#20...   \n34  063103737B11#-10221#TINTSWALOC#TCRCBD4-B06#202...   \n35  063379759B11#-10221#LINDOKUHLEM7#TCR-TOSH621#2...   \n36  065852061083#-10512#TIISETSOM3#TCRAMDA6-377#20...   \n37  066651061514#-10541#SELLOMAJ#TCRCBD5-WFO02#202...   \n38  067240078577#-10541#NTSEKISENGL#TCRCBD2-10#202...   \n39  067240078577#-10541#NTSEKISENGL#TCRCBD2-10#202...   \n40  070-28617517#-10396#SAMANTHAW#TCRCBD2-WFO108#2...   \n41  072247064562#-10512#MMAPASEKAB#TCRCBD2-WFO127#...   \n42  075671098470#-10541#THABANAR#TCRAMDA6-372#2022...   \n43  075975103073#-10541#AMANDAM11#CBD-VPN46#202202...   \n44  085073078586#-10512#TIISETSOM3#TCRAMDA6-377#20...   \n45  086642074616#-10541#NTSEKISENGL#TCRCBD2-10#202...   \n46  090829077430#-10512#MMAPASEKAB#TCRCBD2-WFO127#...   \n47  094004079492#-10541#ZUKDON#TCRCBD-WFO37#202202...   \n48  094523087722#-10541#SELLOMAJ#TCRCBD5-WFO02#202...   \n49  095048080570#-10541#JERRYL#TCR-TOSH420#2022021...   \n\n                                                  url  \\\n0   https://cdn.assemblyai.com/upload/5627a41b-146...   \n1   https://cdn.assemblyai.com/upload/c103d95c-ecc...   \n2   https://cdn.assemblyai.com/upload/7fa1dc5e-de4...   \n3   https://cdn.assemblyai.com/upload/c8b2c850-331...   \n4   https://cdn.assemblyai.com/upload/48a7d8c4-26f...   \n5   https://cdn.assemblyai.com/upload/55609efa-514...   \n6   https://cdn.assemblyai.com/upload/fcf8fbb3-820...   \n7   https://cdn.assemblyai.com/upload/59716b2e-701...   \n8   https://cdn.assemblyai.com/upload/86c3ef61-69d...   \n9   https://cdn.assemblyai.com/upload/59ea26b8-2a5...   \n10  https://cdn.assemblyai.com/upload/2b83db78-87c...   \n11  https://cdn.assemblyai.com/upload/536315e6-a7c...   \n12  https://cdn.assemblyai.com/upload/a6ab4796-9ee...   \n13  https://cdn.assemblyai.com/upload/8b144996-426...   \n14  https://cdn.assemblyai.com/upload/f8327656-34a...   \n15  https://cdn.assemblyai.com/upload/21a88b5e-e29...   \n16  https://cdn.assemblyai.com/upload/6b427cce-d6d...   \n17  https://cdn.assemblyai.com/upload/5a52b3dd-4bb...   \n18  https://cdn.assemblyai.com/upload/22c77ce1-f41...   \n19  https://cdn.assemblyai.com/upload/886ad9c5-5ea...   \n20  https://cdn.assemblyai.com/upload/332bcf74-567...   \n21  https://cdn.assemblyai.com/upload/12ce6fc3-c3f...   \n22  https://cdn.assemblyai.com/upload/cddddaaa-391...   \n23  https://cdn.assemblyai.com/upload/c36c6d9d-ff4...   \n24  https://cdn.assemblyai.com/upload/3036fad1-f27...   \n25  https://cdn.assemblyai.com/upload/20ed2b8e-0fc...   \n26  https://cdn.assemblyai.com/upload/82ffcda4-976...   \n27  https://cdn.assemblyai.com/upload/cee5ceb8-91f...   \n28  https://cdn.assemblyai.com/upload/6904c1b1-928...   \n29  https://cdn.assemblyai.com/upload/58ba3603-20b...   \n30  https://cdn.assemblyai.com/upload/51e5e52a-ea9...   \n31  https://cdn.assemblyai.com/upload/e52e486f-2ec...   \n32  https://cdn.assemblyai.com/upload/f0f51cf7-67a...   \n33  https://cdn.assemblyai.com/upload/f7ae1f0c-33c...   \n34  https://cdn.assemblyai.com/upload/69882257-e9a...   \n35  https://cdn.assemblyai.com/upload/d1546095-c34...   \n36  https://cdn.assemblyai.com/upload/b79b80a7-f66...   \n37  https://cdn.assemblyai.com/upload/0bfecc8b-143...   \n38  https://cdn.assemblyai.com/upload/130792e3-364...   \n39  https://cdn.assemblyai.com/upload/81b007ad-cc3...   \n40  https://cdn.assemblyai.com/upload/c89703c4-a7b...   \n41  https://cdn.assemblyai.com/upload/72df5929-18b...   \n42  https://cdn.assemblyai.com/upload/64247d85-95a...   \n43  https://cdn.assemblyai.com/upload/e559395a-d6f...   \n44  https://cdn.assemblyai.com/upload/56d6254a-656...   \n45  https://cdn.assemblyai.com/upload/67c24752-8df...   \n46  https://cdn.assemblyai.com/upload/b2616053-58f...   \n47  https://cdn.assemblyai.com/upload/6eb8b736-c2d...   \n48  https://cdn.assemblyai.com/upload/4b046a0b-168...   \n49  https://cdn.assemblyai.com/upload/d6c92558-203...   \n\n                                        id  \n0   ozytiz4h8l-9773-4106-87f4-53ad9d68b0ea  \n1   ozyti4ekxj-8ad8-4bf5-a875-b8dcd357bb3d  \n2   ozyti1kt1w-d7a2-431d-a751-d5ed629f2040  \n3   ozyti1wb2y-71ae-492e-ad7a-914e4801853f  \n4   ozytiy7hwd-184c-4125-b279-0f56f26e9a94  \n5   ozytixnuy5-db63-48f6-b452-6280670ac02a  \n6   ozyti71kwo-7463-4a3b-9e29-8b4b35c50534  \n7   ozytilsmgv-2f2b-4e85-b233-e2f58fd8106b  \n8   ozytii9s5r-0af7-422a-aaf1-9bc0b942c283  \n9   ozytitlgxx-df53-4c6c-8855-21e5942bb314  \n10  ozyti8881j-5a93-4b81-922d-9046a5f790d5  \n11  ozyti39ijv-274e-498a-8693-7e6957d24239  \n12  ozytijfdk8-56af-4468-bb7c-720037fac02d  \n13  ozytihvx00-d10c-4781-ba9d-bb5f01521d02  \n14  ozyticbjqa-f45e-4541-a572-849d40790c9f  \n15  ozytidx4pj-4b21-4a89-a689-0034f82af148  \n16  ozytipmz6v-9dfc-4b68-9a26-4fcdb8eb4118  \n17  ozytias6qk-600d-4482-9fb0-355103e34853  \n18  ozytinkx5a-1507-47e9-90c2-c1e5994f7c82  \n19  ozytifsbgw-18ac-4824-ad63-51e2496cd449  \n20  ozytiw5a5k-45fe-4f35-9923-fc23cbc42f79  \n21  ozyti5mhqq-1f6b-457d-995f-99b2d6569c1f  \n22  ozytqes3np-63ef-408c-82a2-12d14c4bd064  \n23  ozytqox52o-1d14-4133-804d-0f0ddb86d1eb  \n24  ozytqrk2b7-d2cd-4df1-a67e-b548cb64ec8e  \n25  ozytqgzla0-f6d9-4619-b3a3-6ec33e878cbf  \n26  ozytqg2tj1-c251-4c36-a8b2-517592dc530d  \n27  ozytqzwf33-6e4c-4dfd-b99f-c1a412cd5f95  \n28  ozytq4d0bm-92bc-41e9-8497-f90e918818ce  \n29  ozytq1h9uu-638b-4051-bdb0-eb050b8532cb  \n30  ozytqygype-b1c9-4efc-947c-7994d0d47064  \n31  ozytqy5g10-6cbe-41f7-aa78-e70690d3755a  \n32  ozytqxu461-8120-4d07-8d17-9068044dd090  \n33  ozytqb4ywg-1778-497a-a4a5-afcb0f88e210  \n34  ozytq0bcvi-faa4-4c63-ba83-0dd8140ba1e9  \n35  ozytq7qr2m-00de-4327-9c17-3094ce14d018  \n36  ozytq7505z-574e-4435-bc47-2761d43e885f  \n37  ozytqqo7gx-cebd-468e-a9d7-acefa2019a34  \n38  ozytqqci9s-9031-41c9-aa26-8e50f215ff02  \n39  ozytqth64o-1494-4068-af99-1c55674fabec  \n40  ozytq8k7bi-dbbc-4355-87aa-c9b037a33a55  \n41  ozytq33xdd-483c-47f8-b432-241c81713c44  \n42  ozytqunq0q-4f72-4443-bf17-fd730c17b51d  \n43  ozytqj26jx-de0c-4aab-9206-caec9b17026a  \n44  ozytqhwq3j-e1b6-43c4-a903-a0be12e1fef9  \n45  ozytqd07wv-43b0-4554-baad-70a34fd8bd46  \n46  ozytqmilge-4eda-48a7-9673-4853fa95c4fb  \n47  ozytqa6q5f-d74b-47a5-8948-b8a380787497  \n48  ozytq2n5m6-622d-418b-8872-caa4dccc304f  \n49  ozytqvjl8y-24b9-4a99-ba73-6ffe2f8640db  ",
            "text/html": "<div>\n<style scoped>\n    .dataframe tbody tr th:only-of-type {\n        vertical-align: middle;\n    }\n\n    .dataframe tbody tr th {\n        vertical-align: top;\n    }\n\n    .dataframe thead th {\n        text-align: right;\n    }\n</style>\n<table border=\"1\" class=\"dataframe\">\n  <thead>\n    <tr style=\"text-align: right;\">\n      <th></th>\n      <th>file_name</th>\n      <th>url</th>\n      <th>id</th>\n    </tr>\n  </thead>\n  <tbody>\n    <tr>\n      <th>0</th>\n      <td>0291506962#-10505#SITHATIL#TCRCBD-E45#20220215...</td>\n      <td>https://cdn.assemblyai.com/upload/5627a41b-146...</td>\n      <td>ozytiz4h8l-9773-4106-87f4-53ad9d68b0ea</td>\n    </tr>\n    <tr>\n      <th>1</th>\n      <td>029512090788#-10541#JERRYL#TCR-TOSH420#2022021...</td>\n      <td>https://cdn.assemblyai.com/upload/c103d95c-ecc...</td>\n      <td>ozyti4ekxj-8ad8-4bf5-a875-b8dcd357bb3d</td>\n    </tr>\n    <tr>\n      <th>2</th>\n      <td>0301269833#-10505#BUSISIWEM26#TCR4-254782#2022...</td>\n      <td>https://cdn.assemblyai.com/upload/7fa1dc5e-de4...</td>\n      <td>ozyti1kt1w-d7a2-431d-a751-d5ed629f2040</td>\n    </tr>\n    <tr>\n      <th>3</th>\n      <td>030136911B08#-10530#TSWALANEM#TCRLASUS-125#202...</td>\n      <td>https://cdn.assemblyai.com/upload/c8b2c850-331...</td>\n      <td>ozyti1wb2y-71ae-492e-ad7a-914e4801853f</td>\n    </tr>\n    <tr>\n      <th>4</th>\n      <td>0301758082#-10505#KHANYAM2#TCRCBD3-E40#2022021...</td>\n      <td>https://cdn.assemblyai.com/upload/48a7d8c4-26f...</td>\n      <td>ozytiy7hwd-184c-4125-b279-0f56f26e9a94</td>\n    </tr>\n    <tr>\n      <th>5</th>\n      <td>0301786778#-10505#BUSISIWEM24#LPTP-BUSIM24#202...</td>\n      <td>https://cdn.assemblyai.com/upload/55609efa-514...</td>\n      <td>ozytixnuy5-db63-48f6-b452-6280670ac02a</td>\n    </tr>\n    <tr>\n      <th>6</th>\n      <td>0301908430#-10505#PULANEL#TCRLENA-156#20220215...</td>\n      <td>https://cdn.assemblyai.com/upload/fcf8fbb3-820...</td>\n      <td>ozyti71kwo-7463-4a3b-9e29-8b4b35c50534</td>\n    </tr>\n    <tr>\n      <th>7</th>\n      <td>0303115455#-10479#SIYAMUKELAY#TCRCBD4-B12#2022...</td>\n      <td>https://cdn.assemblyai.com/upload/59716b2e-701...</td>\n      <td>ozytilsmgv-2f2b-4e85-b233-e2f58fd8106b</td>\n    </tr>\n    <tr>\n      <th>8</th>\n      <td>0303226708#-10505#KARABOS2#TCRCBD3-F08#2022021...</td>\n      <td>https://cdn.assemblyai.com/upload/86c3ef61-69d...</td>\n      <td>ozytii9s5r-0af7-422a-aaf1-9bc0b942c283</td>\n    </tr>\n    <tr>\n      <th>9</th>\n      <td>0307160945#-10505#KHANYAM2#TCRCBD3-E40#2022021...</td>\n      <td>https://cdn.assemblyai.com/upload/59ea26b8-2a5...</td>\n      <td>ozytitlgxx-df53-4c6c-8855-21e5942bb314</td>\n    </tr>\n    <tr>\n      <th>10</th>\n      <td>032197411B15#-10570#BENJAMINL1#TCRLENA-80#2022...</td>\n      <td>https://cdn.assemblyai.com/upload/2b83db78-87c...</td>\n      <td>ozyti8881j-5a93-4b81-922d-9046a5f790d5</td>\n    </tr>\n    <tr>\n      <th>11</th>\n      <td>032522090314#-10541#YANDAM#TCRCBD2-WFO124#2022...</td>\n      <td>https://cdn.assemblyai.com/upload/536315e6-a7c...</td>\n      <td>ozyti39ijv-274e-498a-8693-7e6957d24239</td>\n    </tr>\n    <tr>\n      <th>12</th>\n      <td>033218242B12#-10221#MADISEBOM#TCRLASUS-160#202...</td>\n      <td>https://cdn.assemblyai.com/upload/a6ab4796-9ee...</td>\n      <td>ozytijfdk8-56af-4468-bb7c-720037fac02d</td>\n    </tr>\n    <tr>\n      <th>13</th>\n      <td>033589096667#-10538#KEATLARETSEM#TCR-CBDVPN03#...</td>\n      <td>https://cdn.assemblyai.com/upload/8b144996-426...</td>\n      <td>ozytihvx00-d10c-4781-ba9d-bb5f01521d02</td>\n    </tr>\n    <tr>\n      <th>14</th>\n      <td>033670088350#-10541#JERRYL#TCR-TOSH420#2022021...</td>\n      <td>https://cdn.assemblyai.com/upload/f8327656-34a...</td>\n      <td>ozyticbjqa-f45e-4541-a572-849d40790c9f</td>\n    </tr>\n    <tr>\n      <th>15</th>\n      <td>038095048141#-10512#MMAPASEKAB#TCRCBD2-WFO127#...</td>\n      <td>https://cdn.assemblyai.com/upload/21a88b5e-e29...</td>\n      <td>ozytidx4pj-4b21-4a89-a689-0034f82af148</td>\n    </tr>\n    <tr>\n      <th>16</th>\n      <td>038220094336#-10541#VIRGINIAK#LPTP-VIGINIAK#20...</td>\n      <td>https://cdn.assemblyai.com/upload/6b427cce-d6d...</td>\n      <td>ozytipmz6v-9dfc-4b68-9a26-4fcdb8eb4118</td>\n    </tr>\n    <tr>\n      <th>17</th>\n      <td>039802113054#-10541#YANDAM#TCRCBD2-WFO124#2022...</td>\n      <td>https://cdn.assemblyai.com/upload/5a52b3dd-4bb...</td>\n      <td>ozytias6qk-600d-4482-9fb0-355103e34853</td>\n    </tr>\n    <tr>\n      <th>18</th>\n      <td>039908100967#-10541#NTSEKISENGL#TCRCBD2-10#202...</td>\n      <td>https://cdn.assemblyai.com/upload/22c77ce1-f41...</td>\n      <td>ozytinkx5a-1507-47e9-90c2-c1e5994f7c82</td>\n    </tr>\n    <tr>\n      <th>19</th>\n      <td>040022137B12#-10221#ELARDEV#LPTP-ELARDEV#20220...</td>\n      <td>https://cdn.assemblyai.com/upload/886ad9c5-5ea...</td>\n      <td>ozytifsbgw-18ac-4824-ad63-51e2496cd449</td>\n    </tr>\n    <tr>\n      <th>20</th>\n      <td>040399419B16#-10430#NTSHAMISEKON#TCRAMDA689#20...</td>\n      <td>https://cdn.assemblyai.com/upload/332bcf74-567...</td>\n      <td>ozytiw5a5k-45fe-4f35-9923-fc23cbc42f79</td>\n    </tr>\n    <tr>\n      <th>21</th>\n      <td>040525090777#-10541#VIRGINIAK#LPTP-VIGINIAK#20...</td>\n      <td>https://cdn.assemblyai.com/upload/12ce6fc3-c3f...</td>\n      <td>ozyti5mhqq-1f6b-457d-995f-99b2d6569c1f</td>\n    </tr>\n    <tr>\n      <th>22</th>\n      <td>040599061319#-10512#MMAPASEKAB#TCRCBD2-WFO127#...</td>\n      <td>https://cdn.assemblyai.com/upload/cddddaaa-391...</td>\n      <td>ozytqes3np-63ef-408c-82a2-12d14c4bd064</td>\n    </tr>\n    <tr>\n      <th>23</th>\n      <td>045655082021#-10541#JERRYL#TCR-TOSH420#2022021...</td>\n      <td>https://cdn.assemblyai.com/upload/c36c6d9d-ff4...</td>\n      <td>ozytqox52o-1d14-4133-804d-0f0ddb86d1eb</td>\n    </tr>\n    <tr>\n      <th>24</th>\n      <td>046879079739#-10541#MOLIKUOAL#TCRAMDA6-351#202...</td>\n      <td>https://cdn.assemblyai.com/upload/3036fad1-f27...</td>\n      <td>ozytqrk2b7-d2cd-4df1-a67e-b548cb64ec8e</td>\n    </tr>\n    <tr>\n      <th>25</th>\n      <td>047338070733#-10541#JERRYL#TCR-TOSH420#2022021...</td>\n      <td>https://cdn.assemblyai.com/upload/20ed2b8e-0fc...</td>\n      <td>ozytqgzla0-f6d9-4619-b3a3-6ec33e878cbf</td>\n    </tr>\n    <tr>\n      <th>26</th>\n      <td>050353083402#-10541#AUBREYMP#TCRAMDA6-373#2022...</td>\n      <td>https://cdn.assemblyai.com/upload/82ffcda4-976...</td>\n      <td>ozytqg2tj1-c251-4c36-a8b2-517592dc530d</td>\n    </tr>\n    <tr>\n      <th>27</th>\n      <td>050487868B04#989#NESTAM#TCRAMDA6-40#2022021512...</td>\n      <td>https://cdn.assemblyai.com/upload/cee5ceb8-91f...</td>\n      <td>ozytqzwf33-6e4c-4dfd-b99f-c1a412cd5f95</td>\n    </tr>\n    <tr>\n      <th>28</th>\n      <td>050565729B07#-10485#ANDILET#TCRALENA178#202202...</td>\n      <td>https://cdn.assemblyai.com/upload/6904c1b1-928...</td>\n      <td>ozytq4d0bm-92bc-41e9-8497-f90e918818ce</td>\n    </tr>\n    <tr>\n      <th>29</th>\n      <td>053235371B19#-10570#MEGANP1#LPTP-MEGANP1#20220...</td>\n      <td>https://cdn.assemblyai.com/upload/58ba3603-20b...</td>\n      <td>ozytq1h9uu-638b-4051-bdb0-eb050b8532cb</td>\n    </tr>\n    <tr>\n      <th>30</th>\n      <td>058841079123#-10541#NTSEKISENGL#TCRCBD2-10#202...</td>\n      <td>https://cdn.assemblyai.com/upload/51e5e52a-ea9...</td>\n      <td>ozytqygype-b1c9-4efc-947c-7994d0d47064</td>\n    </tr>\n    <tr>\n      <th>31</th>\n      <td>060940058411#-10512#MMAPASEKAB#TCRCBD2-WFO127#...</td>\n      <td>https://cdn.assemblyai.com/upload/e52e486f-2ec...</td>\n      <td>ozytqy5g10-6cbe-41f7-aa78-e70690d3755a</td>\n    </tr>\n    <tr>\n      <th>32</th>\n      <td>061089184B18#-10570#PRUDENCEN1#TCRAMDA6-113#20...</td>\n      <td>https://cdn.assemblyai.com/upload/f0f51cf7-67a...</td>\n      <td>ozytqxu461-8120-4d07-8d17-9068044dd090</td>\n    </tr>\n    <tr>\n      <th>33</th>\n      <td>061409058667#-10512#TIISETSOM3#TCRAMDA6-377#20...</td>\n      <td>https://cdn.assemblyai.com/upload/f7ae1f0c-33c...</td>\n      <td>ozytqb4ywg-1778-497a-a4a5-afcb0f88e210</td>\n    </tr>\n    <tr>\n      <th>34</th>\n      <td>063103737B11#-10221#TINTSWALOC#TCRCBD4-B06#202...</td>\n      <td>https://cdn.assemblyai.com/upload/69882257-e9a...</td>\n      <td>ozytq0bcvi-faa4-4c63-ba83-0dd8140ba1e9</td>\n    </tr>\n    <tr>\n      <th>35</th>\n      <td>063379759B11#-10221#LINDOKUHLEM7#TCR-TOSH621#2...</td>\n      <td>https://cdn.assemblyai.com/upload/d1546095-c34...</td>\n      <td>ozytq7qr2m-00de-4327-9c17-3094ce14d018</td>\n    </tr>\n    <tr>\n      <th>36</th>\n      <td>065852061083#-10512#TIISETSOM3#TCRAMDA6-377#20...</td>\n      <td>https://cdn.assemblyai.com/upload/b79b80a7-f66...</td>\n      <td>ozytq7505z-574e-4435-bc47-2761d43e885f</td>\n    </tr>\n    <tr>\n      <th>37</th>\n      <td>066651061514#-10541#SELLOMAJ#TCRCBD5-WFO02#202...</td>\n      <td>https://cdn.assemblyai.com/upload/0bfecc8b-143...</td>\n      <td>ozytqqo7gx-cebd-468e-a9d7-acefa2019a34</td>\n    </tr>\n    <tr>\n      <th>38</th>\n      <td>067240078577#-10541#NTSEKISENGL#TCRCBD2-10#202...</td>\n      <td>https://cdn.assemblyai.com/upload/130792e3-364...</td>\n      <td>ozytqqci9s-9031-41c9-aa26-8e50f215ff02</td>\n    </tr>\n    <tr>\n      <th>39</th>\n      <td>067240078577#-10541#NTSEKISENGL#TCRCBD2-10#202...</td>\n      <td>https://cdn.assemblyai.com/upload/81b007ad-cc3...</td>\n      <td>ozytqth64o-1494-4068-af99-1c55674fabec</td>\n    </tr>\n    <tr>\n      <th>40</th>\n      <td>070-28617517#-10396#SAMANTHAW#TCRCBD2-WFO108#2...</td>\n      <td>https://cdn.assemblyai.com/upload/c89703c4-a7b...</td>\n      <td>ozytq8k7bi-dbbc-4355-87aa-c9b037a33a55</td>\n    </tr>\n    <tr>\n      <th>41</th>\n      <td>072247064562#-10512#MMAPASEKAB#TCRCBD2-WFO127#...</td>\n      <td>https://cdn.assemblyai.com/upload/72df5929-18b...</td>\n      <td>ozytq33xdd-483c-47f8-b432-241c81713c44</td>\n    </tr>\n    <tr>\n      <th>42</th>\n      <td>075671098470#-10541#THABANAR#TCRAMDA6-372#2022...</td>\n      <td>https://cdn.assemblyai.com/upload/64247d85-95a...</td>\n      <td>ozytqunq0q-4f72-4443-bf17-fd730c17b51d</td>\n    </tr>\n    <tr>\n      <th>43</th>\n      <td>075975103073#-10541#AMANDAM11#CBD-VPN46#202202...</td>\n      <td>https://cdn.assemblyai.com/upload/e559395a-d6f...</td>\n      <td>ozytqj26jx-de0c-4aab-9206-caec9b17026a</td>\n    </tr>\n    <tr>\n      <th>44</th>\n      <td>085073078586#-10512#TIISETSOM3#TCRAMDA6-377#20...</td>\n      <td>https://cdn.assemblyai.com/upload/56d6254a-656...</td>\n      <td>ozytqhwq3j-e1b6-43c4-a903-a0be12e1fef9</td>\n    </tr>\n    <tr>\n      <th>45</th>\n      <td>086642074616#-10541#NTSEKISENGL#TCRCBD2-10#202...</td>\n      <td>https://cdn.assemblyai.com/upload/67c24752-8df...</td>\n      <td>ozytqd07wv-43b0-4554-baad-70a34fd8bd46</td>\n    </tr>\n    <tr>\n      <th>46</th>\n      <td>090829077430#-10512#MMAPASEKAB#TCRCBD2-WFO127#...</td>\n      <td>https://cdn.assemblyai.com/upload/b2616053-58f...</td>\n      <td>ozytqmilge-4eda-48a7-9673-4853fa95c4fb</td>\n    </tr>\n    <tr>\n      <th>47</th>\n      <td>094004079492#-10541#ZUKDON#TCRCBD-WFO37#202202...</td>\n      <td>https://cdn.assemblyai.com/upload/6eb8b736-c2d...</td>\n      <td>ozytqa6q5f-d74b-47a5-8948-b8a380787497</td>\n    </tr>\n    <tr>\n      <th>48</th>\n      <td>094523087722#-10541#SELLOMAJ#TCRCBD5-WFO02#202...</td>\n      <td>https://cdn.assemblyai.com/upload/4b046a0b-168...</td>\n      <td>ozytq2n5m6-622d-418b-8872-caa4dccc304f</td>\n    </tr>\n    <tr>\n      <th>49</th>\n      <td>095048080570#-10541#JERRYL#TCR-TOSH420#2022021...</td>\n      <td>https://cdn.assemblyai.com/upload/d6c92558-203...</td>\n      <td>ozytqvjl8y-24b9-4a99-ba73-6ffe2f8640db</td>\n    </tr>\n  </tbody>\n</table>\n</div>"
          },
          "metadata": {}
        }
      ],
      "execution_count": 72,
      "metadata": {
        "jupyter": {
          "source_hidden": false,
          "outputs_hidden": false
        },
        "nteract": {
          "transient": {
            "deleting": false
          }
        },
        "gather": {
          "logged": 1646890436595
        }
      },
      "id": "c0df1363-3d35-47f0-9bd0-646dd4c4a344"
    },
    {
      "cell_type": "code",
      "source": [
        "def bulk_get_status(token: str, ids: list):\n",
        "    status = []\n",
        "    for id in ids:\n",
        "        status.append(get_status(token, id))\n",
        "    return status\n",
        "\n",
        "STATUS = bulk_get_status(TOKEN, IDS)\n"
      ],
      "outputs": [],
      "execution_count": 74,
      "metadata": {
        "gather": {
          "logged": 1646890544161
        }
      },
      "id": "94f329e1"
    },
    {
      "cell_type": "code",
      "source": [
        "ASSEMBLY_OUT = '/mnt/batch/tasks/shared/LS_root/mounts/clusters/asr-compute/data/transcripts/assembly_ai'\n",
        "os.mkdir(ASSEMBLY_OUT)"
      ],
      "outputs": [
        {
          "output_type": "execute_result",
          "execution_count": 80,
          "data": {
            "text/plain": "'/mnt/batch/tasks/shared/LS_root/mounts/clusters/asr-compute/data/mount'"
          },
          "metadata": {}
        }
      ],
      "execution_count": 80,
      "metadata": {
        "jupyter": {
          "source_hidden": false,
          "outputs_hidden": false
        },
        "nteract": {
          "transient": {
            "deleting": false
          }
        },
        "gather": {
          "logged": 1646890839121
        }
      },
      "id": "e7832a45-db86-4a95-8580-6cc08db8be6f"
    },
    {
      "cell_type": "code",
      "source": [
        "os.chdir('/mnt/batch/tasks/shared/LS_root/mounts/clusters/asr-compute/')"
      ],
      "outputs": [],
      "execution_count": 84,
      "metadata": {
        "jupyter": {
          "source_hidden": false,
          "outputs_hidden": false
        },
        "nteract": {
          "transient": {
            "deleting": false
          }
        },
        "gather": {
          "logged": 1646891322504
        }
      },
      "id": "2bbbba41-c9c1-47be-92b4-184889b899c1"
    },
    {
      "cell_type": "code",
      "source": [
        "os.listdir()"
      ],
      "outputs": [
        {
          "output_type": "execute_result",
          "execution_count": 85,
          "data": {
            "text/plain": "['data', 'code', '.nbvm']"
          },
          "metadata": {}
        }
      ],
      "execution_count": 85,
      "metadata": {
        "jupyter": {
          "source_hidden": false,
          "outputs_hidden": false
        },
        "nteract": {
          "transient": {
            "deleting": false
          }
        },
        "gather": {
          "logged": 1646891337885
        }
      },
      "id": "026f88f5-9ff2-4461-9e66-04b75a740e00"
    },
    {
      "cell_type": "code",
      "source": [
        "os.chdir(ASSEMBLY_OUT)\n",
        "for i, json in enumerate(STATUS):\n",
        "    print(i)\n",
        "    with open(NAMES[i]+'.txt', 'w') as f:\n",
        "        f.write(json['text'])\n",
        "    "
      ],
      "outputs": [
        {
          "output_type": "stream",
          "name": "stdout",
          "text": "0\n1\n2\n3\n4\n5\n6\n7\n8\n9\n10\n11\n12\n13\n14\n15\n16\n17\n18\n19\n20\n21\n22\n23\n24\n25\n26\n27\n28\n29\n30\n31\n32\n33\n34\n35\n36\n37\n38\n39\n40\n41\n42\n43\n44\n45\n46\n47\n48\n49\n"
        }
      ],
      "execution_count": 81,
      "metadata": {
        "jupyter": {
          "source_hidden": false,
          "outputs_hidden": false
        },
        "nteract": {
          "transient": {
            "deleting": false
          }
        },
        "gather": {
          "logged": 1646891001658
        }
      },
      "id": "47d78ff6-ea32-4e80-88a9-a2ff9555bac0"
    },
    {
      "cell_type": "markdown",
      "source": [
        "### Understanding Assembly AI API\n",
        "\n",
        "The status of transcription changes from “queued” to “processing” to “completed” as long as no errors are encountered.\n",
        "\n",
        "We will need to poll this endpoint until we get a response object with the status “completed”.\n",
        "\n",
        "We can make use of a while loop to continuously make requests to the endpoint. During each iteration of the loop, we will check the status of the transcription. The loop will keep on running till the status is “completed”. This process of making requests and waiting till the status is complete is known as polling"
      ],
      "metadata": {},
      "id": "b8e5365d"
    },
    {
      "cell_type": "code",
      "source": [
        "while get_status(TOKEN, ID)['status'] != 'completed':\n",
        "    transcript = get_status(TOKEN, ID)\n",
        "\n",
        "text = transcript.text"
      ],
      "outputs": [],
      "execution_count": null,
      "metadata": {},
      "id": "b040ea66"
    },
    {
      "cell_type": "markdown",
      "source": [
        "### Workin with api reponse `dict`"
      ],
      "metadata": {},
      "id": "69c88952"
    }
  ],
  "metadata": {
    "interpreter": {
      "hash": "e1cafa120292fdbb9c68c7334b775a744012d9c950a6bd8c0fe865d6686c2309"
    },
    "kernelspec": {
      "name": "python3",
      "language": "python",
      "display_name": "Python 3"
    },
    "language_info": {
      "name": "python",
      "version": "3.8.1",
      "mimetype": "text/x-python",
      "codemirror_mode": {
        "name": "ipython",
        "version": 3
      },
      "pygments_lexer": "ipython3",
      "nbconvert_exporter": "python",
      "file_extension": ".py"
    },
    "kernel_info": {
      "name": "python3"
    },
    "nteract": {
      "version": "nteract-front-end@1.0.0"
    },
    "microsoft": {
      "host": {
        "AzureML": {
          "notebookHasBeenCompleted": true
        }
      }
    }
  },
  "nbformat": 4,
  "nbformat_minor": 5
}