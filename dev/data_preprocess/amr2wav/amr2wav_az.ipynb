{
  "cells": [
    {
      "cell_type": "markdown",
      "source": [
        "## Introduction\n",
        "\n",
        "Workbook contains loop to convert all `.amr` files in selected folder to `.wav` files.\n",
        "\n",
        "Adapted from [this](https://gist.github.com/Kronopath/c94c93d8279e3bac19f2) process\n",
        "\n",
        "[Primer for azure storage concepts](https://k21academy.com/microsoft-azure/dp-100/datastores-and-datasets-in-azure/?utm_source=youtube&utm_medium=referral&utm_campaign=dp10019_december21) to create dataset from Azure datastore"
      ],
      "metadata": {},
      "id": "b2c14750"
    },
    {
      "cell_type": "markdown",
      "source": [
        "# Azure storage concepts\n",
        "\n",
        "The idea is that a workspace can have many registered datasets that can be accessed\n",
        "\n",
        "* `Datastores` store connection information to azure data services eg: blob container \n",
        "\n",
        "* `Datasets` are references to data source w/ schema\n",
        "    * `FileDataset()` - unstructured data\n",
        "    * `TabularDataset()` - easy conversion to `pd.DF`\n",
        "    \n",
        "* `DatasetConsumptionConfig` dictate how registered Dataset delivered to compute target\n",
        "    * `.as_download`\n",
        "    * `.as_hdfs`\n",
        "    * `.as_mount`\n",
        "    \n",
        "\n",
        "Both the Datastores and Datasets must be registered to be explosed to the workspace\n"
      ],
      "metadata": {
        "nteract": {
          "transient": {
            "deleting": false
          }
        }
      },
      "id": "2baf5d6e-a8e7-4f54-8fba-375ab9a59722"
    },
    {
      "cell_type": "code",
      "source": [
        "import azureml.core, os\n",
        "from azureml.core import Workspace, Datastore, Dataset\n",
        "from azureml.data.data_reference import DataReference\n",
        "from azureml.exceptions import UserErrorException\n",
        "\n",
        "# load subscription info from config.json\n",
        "ws = Workspace.from_config()"
      ],
      "outputs": [],
      "execution_count": 33,
      "metadata": {
        "jupyter": {
          "source_hidden": false,
          "outputs_hidden": false
        },
        "nteract": {
          "transient": {
            "deleting": false
          }
        },
        "gather": {
          "logged": 1645627082651
        }
      },
      "id": "43a363c8-bd99-4586-a4bc-e1a1e9894a2e"
    },
    {
      "cell_type": "markdown",
      "source": [
        "### Registering datastore"
      ],
      "metadata": {
        "nteract": {
          "transient": {
            "deleting": false
          }
        }
      },
      "id": "22cb9109-2156-4d3e-b1e0-d97c218b81aa"
    },
    {
      "cell_type": "code",
      "source": [
        "# name of datastore to ws\n",
        "blob_datastore_name='recordings'\n",
        "# name of az blob container\n",
        "container_name=os.getenv(\"BLOB_CONTAINER\", \"recordings\")\n",
        "# storage account name\n",
        "account_name=os.getenv(\"BLOB_ACCOUNTNAME\", \"callcentrerecordings\")\n",
        "# storage account access key\n",
        "account_key=os.getenv(\"BLOB_ACCOUNT_KEY\", \"KDxWNJYwT00yQd1AhYU0H5vIZjDTHYB4zN4V+Fvhufv/2e/8Dy1MtzWh8AUMU5uF3f7OmT9T5VRV+ASt+XFaoA==\")\n",
        "\n",
        "################################################\n",
        "### REGISTER DATASTORE (if not already done) ###\n",
        "################################################\n",
        "\n",
        "try:\n",
        "    blob_datastore = Datastore.get(ws, blob_datastore_name)\n",
        "    print(\"Found Blob Datastore with name: %s\" % blob_datastore_name)\n",
        "except UserErrorException:\n",
        "    blob_datastore = Datastore.register_azure_blob_container(\n",
        "        workspace=ws,\n",
        "        datastore_name=blob_datastore_name,\n",
        "        account_name=account_name, \n",
        "        container_name=container_name, \n",
        "        account_key=account_key) \n",
        "    print(\"Registered blob datastore with name: %s\" % blob_datastore_name)\n",
        "\n",
        "blob_data_ref = DataReference(\n",
        "    datastore=blob_datastore,\n",
        "    data_reference_name=\"recordings\",\n",
        "    path_on_datastore=\"1\",\n",
        "    mode='mount', \n",
        "    path_on_compute='/recordings', \n",
        "    overwrite=False)"
      ],
      "outputs": [
        {
          "output_type": "stream",
          "name": "stdout",
          "text": "Found Blob Datastore with name: recordings\n"
        }
      ],
      "execution_count": 11,
      "metadata": {
        "jupyter": {
          "source_hidden": false,
          "outputs_hidden": false
        },
        "nteract": {
          "transient": {
            "deleting": false
          }
        },
        "gather": {
          "logged": 1645626184713
        }
      },
      "id": "f4ee5182-f344-48d4-bd43-64984ae81ddd"
    },
    {
      "cell_type": "markdown",
      "source": [
        "### Registering Dataset"
      ],
      "metadata": {
        "nteract": {
          "transient": {
            "deleting": false
          }
        }
      },
      "id": "8b3027bd-56c2-48e4-b240-63906fd72075"
    },
    {
      "cell_type": "code",
      "source": [
        "blob_dataset = 'recordings'\n",
        "\n",
        "default_datastore = ws.get_default_datastore()\n",
        "\n",
        "################################################\n",
        "### REGISTER DATASET (if not already done) #####\n",
        "################################################\n",
        "\n",
        "try:\n",
        "    # retrieve registered dataset\n",
        "    dataset = Dataset.get_by_name(ws, blob_dataset)\n",
        "    print(\"Found Dataset with name: %s\" % blob_dataset)\n",
        "except UserErrorException:\n",
        "    # register dataset w/ ws\n",
        "    dataset = Dataset.File.from_files(path=(blob_datastore,'/1/*.amr'))\n",
        "    dataset = dataset.register(workspace=ws, name=blob_dataset)\n",
        "    print(\"Registered dataset with name: %s\" % blob_dataset)"
      ],
      "outputs": [
        {
          "output_type": "stream",
          "name": "stdout",
          "text": "Found Dataset with name: recordings\n"
        }
      ],
      "execution_count": 12,
      "metadata": {
        "jupyter": {
          "source_hidden": false,
          "outputs_hidden": false
        },
        "nteract": {
          "transient": {
            "deleting": false
          }
        },
        "gather": {
          "logged": 1645626188943
        }
      },
      "id": "1e362e64-4e82-4f9e-aaab-96d241ab88db"
    },
    {
      "cell_type": "code",
      "source": [
        "# listing files in our dataset\n",
        "FILES = []\n",
        "for path in dataset.to_path():\n",
        "    print(path)\n",
        "    FILES.append(path)"
      ],
      "outputs": [
        {
          "output_type": "stream",
          "name": "stdout",
          "text": "/0000000229520431#-10569#MAGANYAM#LPT-MAGANYAM#20220209100209148.amr\n/0000000528184405#-10557#PORTIAM13#TCRAMDA6-295#20220209071824490.amr\n/1.amr\n/2.amr\n/3.amr\n/4.amr\n/5.amr\n/6.amr\n/amr1.amr\n/amr2.amr\n"
        }
      ],
      "execution_count": 16,
      "metadata": {
        "jupyter": {
          "source_hidden": false,
          "outputs_hidden": false
        },
        "nteract": {
          "transient": {
            "deleting": false
          }
        },
        "gather": {
          "logged": 1645626228183
        }
      },
      "id": "675a950c-724d-442a-89f5-63e46e07894a"
    },
    {
      "cell_type": "markdown",
      "source": [
        "### Consuming registered dataset via [`DatasetConsumptionConfig` object](https://docs.microsoft.com/en-us/python/api/azureml-core/azureml.data.dataset_consumption_config.datasetconsumptionconfig?view=azure-ml-py)\n",
        "\n",
        "TODO: Downloading this is almost definitely the best way to do this, but for right now it works 🙈"
      ],
      "metadata": {
        "nteract": {
          "transient": {
            "deleting": false
          }
        }
      },
      "id": "e0175292-c96e-4e11-a576-fa232edc2519"
    },
    {
      "cell_type": "code",
      "source": [
        "data_folder = os.path.join(os.getcwd(), 'data')\n",
        "os.makedirs(data_folder, exist_ok=True)\n",
        "dataset.download(data_folder, overwrite=True)"
      ],
      "outputs": [
        {
          "output_type": "execute_result",
          "execution_count": 18,
          "data": {
            "text/plain": "['/mnt/batch/tasks/shared/LS_root/mounts/clusters/neelan-compute/code/Users/neelan/asr/data-pre-processing/data/0000000229520431#-10569#MAGANYAM#LPT-MAGANYAM#20220209100209148.amr',\n '/mnt/batch/tasks/shared/LS_root/mounts/clusters/neelan-compute/code/Users/neelan/asr/data-pre-processing/data/3.amr',\n '/mnt/batch/tasks/shared/LS_root/mounts/clusters/neelan-compute/code/Users/neelan/asr/data-pre-processing/data/amr1.amr',\n '/mnt/batch/tasks/shared/LS_root/mounts/clusters/neelan-compute/code/Users/neelan/asr/data-pre-processing/data/0000000528184405#-10557#PORTIAM13#TCRAMDA6-295#20220209071824490.amr',\n '/mnt/batch/tasks/shared/LS_root/mounts/clusters/neelan-compute/code/Users/neelan/asr/data-pre-processing/data/4.amr',\n '/mnt/batch/tasks/shared/LS_root/mounts/clusters/neelan-compute/code/Users/neelan/asr/data-pre-processing/data/amr2.amr',\n '/mnt/batch/tasks/shared/LS_root/mounts/clusters/neelan-compute/code/Users/neelan/asr/data-pre-processing/data/1.amr',\n '/mnt/batch/tasks/shared/LS_root/mounts/clusters/neelan-compute/code/Users/neelan/asr/data-pre-processing/data/5.amr',\n '/mnt/batch/tasks/shared/LS_root/mounts/clusters/neelan-compute/code/Users/neelan/asr/data-pre-processing/data/2.amr',\n '/mnt/batch/tasks/shared/LS_root/mounts/clusters/neelan-compute/code/Users/neelan/asr/data-pre-processing/data/6.amr']"
          },
          "metadata": {}
        }
      ],
      "execution_count": 18,
      "metadata": {
        "jupyter": {
          "source_hidden": false,
          "outputs_hidden": false
        },
        "nteract": {
          "transient": {
            "deleting": false
          }
        },
        "gather": {
          "logged": 1645626343621
        }
      },
      "id": "a30cdc93-4184-4bb7-a7c4-5d0dc8aca990"
    },
    {
      "cell_type": "markdown",
      "source": [
        "Cofirming that ffmpeg drivers are avaialable on the compute"
      ],
      "metadata": {
        "nteract": {
          "transient": {
            "deleting": false
          }
        }
      },
      "id": "d04fafb4-4476-4118-94c0-dc2e3c7aeac0"
    },
    {
      "cell_type": "code",
      "source": [
        "!which ffmpeg"
      ],
      "outputs": [
        {
          "output_type": "stream",
          "name": "stdout",
          "text": "/usr/bin/ffmpeg\r\n"
        }
      ],
      "execution_count": 9,
      "metadata": {
        "jupyter": {
          "source_hidden": false,
          "outputs_hidden": false
        },
        "nteract": {
          "transient": {
            "deleting": false
          }
        }
      },
      "id": "4f94d33f-3e6a-4f3f-89bc-4073c6ae8425"
    },
    {
      "cell_type": "code",
      "source": [
        "import os, argparse, subprocess\n",
        "from datetime import datetime\n",
        "\n",
        "\n",
        "def convert_amr_file(input_dir, input_file_name, verbose=True, remove_intermediate=False):\n",
        "    \n",
        "    \"\"\"\n",
        "    converts single to intermediate .aud file before converting to .wav\n",
        "    \n",
        "    \"\"\"\n",
        "    # Create an additional folder to stored the converted .wav files\n",
        "    output_dir = os.path.join(input_dir, 'converted' )\n",
        "    if not os.path.isdir(output_dir): os.mkdir(output_dir)\n",
        "        \n",
        "    # Find the absolute file path and append the .amr file to this path\n",
        "    input_file_path = os.path.join(input_dir, input_file_name)\n",
        "    if verbose: print(input_file_path)\n",
        "    \n",
        "    # Open this input .amr file\n",
        "    input_file = open(input_file_path, 'rb')\n",
        "    if verbose: print(input_file)\n",
        "        \n",
        "    # Replace the input .amr file name with an intermediatiary .aud file\n",
        "    intermediate_file_name = input_file_name.replace(\".amr\",\".aud\")\n",
        "    if verbose: print(intermediate_file_name)\n",
        "    \n",
        "    # Create a path for the .aud file in the \"/converted\" folder space\n",
        "    intermediate_file_path = os.path.join(output_dir, intermediate_file_name)\n",
        "    if verbose: print(intermediate_file_path)\n",
        "    \n",
        "    # Open the intermediate file\n",
        "    intermediate_file = open(intermediate_file_path, 'wb')\n",
        "    if verbose: print(intermediate_file)\n",
        "    \n",
        "    # Write the input file to the intermediate file and close both\n",
        "    intermediate_file.write(input_file.read())\n",
        "    input_file.close()\n",
        "    intermediate_file.close()\n",
        "    \n",
        "    # Replace .amr with .wav naming\n",
        "    output_file_name = input_file_name.replace(\".amr\", \".wav\")\n",
        "    if verbose: print(output_file_name)\n",
        "        \n",
        "    # Join this .wav file path to the autput directory path\n",
        "    output_file_path = os.path.join(output_dir, output_file_name)\n",
        "    if verbose: print(output_file_path)\n",
        "\n",
        "    # Create a file to dump the .aud files\n",
        "    black_hole_file = open(\"black_hole\", \"w\")\n",
        "    \n",
        "    # Convert the .aud files to .wav files with a specific sampling rate\n",
        "    \n",
        "    # sampling rate alteration follows this method: https://stackoverflow.com/questions/63793137/convert-mp3-to-wav-with-custom-sampling-rate\n",
        "    subprocess.call([ \"ffmpeg\", \"-i\", intermediate_file_path, \"-ar\", \"16k\", output_file_path],\n",
        "                    stdout = black_hole_file, stderr = black_hole_file)\n",
        "    \n",
        "    # Close the dump file\n",
        "    black_hole_file.close()\n",
        "\n",
        "    if remove_intermediate:\n",
        "        # Delete the junk files\n",
        "        os.remove(\"black_hole\")\n",
        "        os.remove(intermediate_file_path)\n",
        "        \n",
        "        ###~\n",
        "###~        \n",
        "\n",
        "\n"
      ],
      "outputs": [],
      "execution_count": 22,
      "metadata": {
        "scrolled": false,
        "gather": {
          "logged": 1645626486312
        }
      },
      "id": "33ac8f32"
    },
    {
      "cell_type": "code",
      "source": [
        "#'/mnt/batch/tasks/shared/LS_root/mounts/clusters/neelan-compute/code/Users/neelan/asr/data-pre-processing/data/'\n",
        "data_folder"
      ],
      "outputs": [
        {
          "output_type": "execute_result",
          "execution_count": 26,
          "data": {
            "text/plain": "'/mnt/batch/tasks/shared/LS_root/mounts/clusters/neelan-compute/code/Users/neelan/asr/data-pre-processing/data'"
          },
          "metadata": {}
        }
      ],
      "execution_count": 26,
      "metadata": {
        "jupyter": {
          "source_hidden": false,
          "outputs_hidden": false
        },
        "nteract": {
          "transient": {
            "deleting": false
          }
        },
        "gather": {
          "logged": 1645626806623
        }
      },
      "id": "85875861-1e0d-4b71-a97c-202c87341f39"
    },
    {
      "cell_type": "markdown",
      "source": [
        "Testing single conversion"
      ],
      "metadata": {
        "nteract": {
          "transient": {
            "deleting": false
          }
        }
      },
      "id": "90802bbb-2665-4d2c-924b-4ef2dea833a4"
    },
    {
      "cell_type": "code",
      "source": [
        "convert_amr_file(data_folder,'amr1.amr', verbose=True, remove_intermediate=False)"
      ],
      "outputs": [
        {
          "output_type": "stream",
          "name": "stdout",
          "text": "/mnt/batch/tasks/shared/LS_root/mounts/clusters/neelan-compute/code/Users/neelan/asr/data-pre-processing/data/amr1.amr\n<_io.BufferedReader name='/mnt/batch/tasks/shared/LS_root/mounts/clusters/neelan-compute/code/Users/neelan/asr/data-pre-processing/data/amr1.amr'>\namr1.aud\n/mnt/batch/tasks/shared/LS_root/mounts/clusters/neelan-compute/code/Users/neelan/asr/data-pre-processing/data/converted/amr1.aud\n<_io.BufferedWriter name='/mnt/batch/tasks/shared/LS_root/mounts/clusters/neelan-compute/code/Users/neelan/asr/data-pre-processing/data/converted/amr1.aud'>\namr1.wav\n/mnt/batch/tasks/shared/LS_root/mounts/clusters/neelan-compute/code/Users/neelan/asr/data-pre-processing/data/converted/amr1.wav\n"
        }
      ],
      "execution_count": 27,
      "metadata": {
        "jupyter": {
          "source_hidden": false,
          "outputs_hidden": false
        },
        "nteract": {
          "transient": {
            "deleting": false
          }
        },
        "gather": {
          "logged": 1645626812572
        }
      },
      "id": "00d31097-a4ea-4da3-8fe1-99c5f4aed2ed"
    },
    {
      "cell_type": "code",
      "source": [
        "os.chdir(data_folder+'/converted')\n",
        "os.listdir()"
      ],
      "outputs": [
        {
          "output_type": "execute_result",
          "execution_count": 38,
          "data": {
            "text/plain": "['0000000229520431#-10569#MAGANYAM#LPT-MAGANYAM#20220209100209148.aud',\n '0000000229520431#-10569#MAGANYAM#LPT-MAGANYAM#20220209100209148.wav',\n '0000000528184405#-10557#PORTIAM13#TCRAMDA6-295#20220209071824490.aud',\n '0000000528184405#-10557#PORTIAM13#TCRAMDA6-295#20220209071824490.wav',\n '1.aud',\n '1.wav',\n '2.aud',\n '2.wav',\n '3.aud',\n '3.wav',\n '4.aud',\n '4.wav',\n '5.aud',\n '5.wav',\n '6.aud',\n '6.wav',\n 'amr1.aud',\n 'amr1.wav',\n 'amr2.aud',\n 'amr2.wav',\n 'converted']"
          },
          "metadata": {}
        }
      ],
      "execution_count": 38,
      "metadata": {
        "jupyter": {
          "source_hidden": false,
          "outputs_hidden": false
        },
        "nteract": {
          "transient": {
            "deleting": false
          }
        },
        "gather": {
          "logged": 1645627208216
        }
      },
      "id": "fb492b15-1483-4437-934d-4ce926ebcff3"
    },
    {
      "cell_type": "markdown",
      "source": [
        "# Bulk conversion"
      ],
      "metadata": {
        "nteract": {
          "transient": {
            "deleting": false
          }
        }
      },
      "id": "d7390b23-6552-49df-bfa3-6c4300cce7ce"
    },
    {
      "cell_type": "code",
      "source": [
        "def bulk_convert(audio_src=data_folder, verbose=True, remove_intermediate=True):\n",
        "    \"\"\"\n",
        "    converts all .amr file is audio_src to intermediate .aud file before converting to .wav in audio_src/converted\n",
        "    \n",
        "    ***Args:\n",
        "    - audio_src: folder containing .amr files that need conversion\n",
        "               : assumes this is in same folder as workbook\n",
        "    - verbose: will print progress if True\n",
        "    - remove_intermediate: will remove intermediate .aud if True\n",
        "    \n",
        "    ***Returns:\n",
        "    - folder audio_src/converted: contains converted .wav versions of the .amr files in audio_src\n",
        "    \n",
        "    \"\"\"\n",
        "    # Find the absolute file path to your audio files\n",
        "    audio_src = os.path.join(os.getcwd(), audio_src)\n",
        "    \n",
        "    # Loop over each file in the directory and convert to .wav\n",
        "    for dirname, dirnames, filenames in os.walk(audio_src):\n",
        "        for filename in filenames:\n",
        "            input_path = os.path.join(dirname, filename)\n",
        "            if verbose: print(f'input_path: {input_path}')\n",
        "            try: \n",
        "                convert_amr_file(dirname, filename,verbose=verbose)\n",
        "                if verbose: print(f\"Done converting {filename}!\")\n",
        "            except:\n",
        "                if verbose:  print(f\"ERROR on {filename}\")\n",
        "                    \n",
        "                    \n",
        "bulk_convert(audio_src=data_folder, verbose=True, remove_intermediate=False)"
      ],
      "outputs": [
        {
          "output_type": "stream",
          "name": "stdout",
          "text": "input_path: /mnt/batch/tasks/shared/LS_root/mounts/clusters/neelan-compute/code/Users/neelan/asr/data-pre-processing/data/0000000229520431#-10569#MAGANYAM#LPT-MAGANYAM#20220209100209148.amr\n/mnt/batch/tasks/shared/LS_root/mounts/clusters/neelan-compute/code/Users/neelan/asr/data-pre-processing/data/0000000229520431#-10569#MAGANYAM#LPT-MAGANYAM#20220209100209148.amr\n<_io.BufferedReader name='/mnt/batch/tasks/shared/LS_root/mounts/clusters/neelan-compute/code/Users/neelan/asr/data-pre-processing/data/0000000229520431#-10569#MAGANYAM#LPT-MAGANYAM#20220209100209148.amr'>\n0000000229520431#-10569#MAGANYAM#LPT-MAGANYAM#20220209100209148.aud\n/mnt/batch/tasks/shared/LS_root/mounts/clusters/neelan-compute/code/Users/neelan/asr/data-pre-processing/data/converted/0000000229520431#-10569#MAGANYAM#LPT-MAGANYAM#20220209100209148.aud\n<_io.BufferedWriter name='/mnt/batch/tasks/shared/LS_root/mounts/clusters/neelan-compute/code/Users/neelan/asr/data-pre-processing/data/converted/0000000229520431#-10569#MAGANYAM#LPT-MAGANYAM#20220209100209148.aud'>\n0000000229520431#-10569#MAGANYAM#LPT-MAGANYAM#20220209100209148.wav\n/mnt/batch/tasks/shared/LS_root/mounts/clusters/neelan-compute/code/Users/neelan/asr/data-pre-processing/data/converted/0000000229520431#-10569#MAGANYAM#LPT-MAGANYAM#20220209100209148.wav\nDone converting 0000000229520431#-10569#MAGANYAM#LPT-MAGANYAM#20220209100209148.amr!\ninput_path: /mnt/batch/tasks/shared/LS_root/mounts/clusters/neelan-compute/code/Users/neelan/asr/data-pre-processing/data/0000000528184405#-10557#PORTIAM13#TCRAMDA6-295#20220209071824490.amr\n/mnt/batch/tasks/shared/LS_root/mounts/clusters/neelan-compute/code/Users/neelan/asr/data-pre-processing/data/0000000528184405#-10557#PORTIAM13#TCRAMDA6-295#20220209071824490.amr\n<_io.BufferedReader name='/mnt/batch/tasks/shared/LS_root/mounts/clusters/neelan-compute/code/Users/neelan/asr/data-pre-processing/data/0000000528184405#-10557#PORTIAM13#TCRAMDA6-295#20220209071824490.amr'>\n0000000528184405#-10557#PORTIAM13#TCRAMDA6-295#20220209071824490.aud\n/mnt/batch/tasks/shared/LS_root/mounts/clusters/neelan-compute/code/Users/neelan/asr/data-pre-processing/data/converted/0000000528184405#-10557#PORTIAM13#TCRAMDA6-295#20220209071824490.aud\n<_io.BufferedWriter name='/mnt/batch/tasks/shared/LS_root/mounts/clusters/neelan-compute/code/Users/neelan/asr/data-pre-processing/data/converted/0000000528184405#-10557#PORTIAM13#TCRAMDA6-295#20220209071824490.aud'>\n0000000528184405#-10557#PORTIAM13#TCRAMDA6-295#20220209071824490.wav\n/mnt/batch/tasks/shared/LS_root/mounts/clusters/neelan-compute/code/Users/neelan/asr/data-pre-processing/data/converted/0000000528184405#-10557#PORTIAM13#TCRAMDA6-295#20220209071824490.wav\nDone converting 0000000528184405#-10557#PORTIAM13#TCRAMDA6-295#20220209071824490.amr!\ninput_path: /mnt/batch/tasks/shared/LS_root/mounts/clusters/neelan-compute/code/Users/neelan/asr/data-pre-processing/data/1.amr\n/mnt/batch/tasks/shared/LS_root/mounts/clusters/neelan-compute/code/Users/neelan/asr/data-pre-processing/data/1.amr\n<_io.BufferedReader name='/mnt/batch/tasks/shared/LS_root/mounts/clusters/neelan-compute/code/Users/neelan/asr/data-pre-processing/data/1.amr'>\n1.aud\n/mnt/batch/tasks/shared/LS_root/mounts/clusters/neelan-compute/code/Users/neelan/asr/data-pre-processing/data/converted/1.aud\n<_io.BufferedWriter name='/mnt/batch/tasks/shared/LS_root/mounts/clusters/neelan-compute/code/Users/neelan/asr/data-pre-processing/data/converted/1.aud'>\n1.wav\n/mnt/batch/tasks/shared/LS_root/mounts/clusters/neelan-compute/code/Users/neelan/asr/data-pre-processing/data/converted/1.wav\nDone converting 1.amr!\ninput_path: /mnt/batch/tasks/shared/LS_root/mounts/clusters/neelan-compute/code/Users/neelan/asr/data-pre-processing/data/2.amr\n/mnt/batch/tasks/shared/LS_root/mounts/clusters/neelan-compute/code/Users/neelan/asr/data-pre-processing/data/2.amr\n<_io.BufferedReader name='/mnt/batch/tasks/shared/LS_root/mounts/clusters/neelan-compute/code/Users/neelan/asr/data-pre-processing/data/2.amr'>\n2.aud\n/mnt/batch/tasks/shared/LS_root/mounts/clusters/neelan-compute/code/Users/neelan/asr/data-pre-processing/data/converted/2.aud\n<_io.BufferedWriter name='/mnt/batch/tasks/shared/LS_root/mounts/clusters/neelan-compute/code/Users/neelan/asr/data-pre-processing/data/converted/2.aud'>\n2.wav\n/mnt/batch/tasks/shared/LS_root/mounts/clusters/neelan-compute/code/Users/neelan/asr/data-pre-processing/data/converted/2.wav\nDone converting 2.amr!\ninput_path: /mnt/batch/tasks/shared/LS_root/mounts/clusters/neelan-compute/code/Users/neelan/asr/data-pre-processing/data/3.amr\n/mnt/batch/tasks/shared/LS_root/mounts/clusters/neelan-compute/code/Users/neelan/asr/data-pre-processing/data/3.amr\n<_io.BufferedReader name='/mnt/batch/tasks/shared/LS_root/mounts/clusters/neelan-compute/code/Users/neelan/asr/data-pre-processing/data/3.amr'>\n3.aud\n/mnt/batch/tasks/shared/LS_root/mounts/clusters/neelan-compute/code/Users/neelan/asr/data-pre-processing/data/converted/3.aud\n<_io.BufferedWriter name='/mnt/batch/tasks/shared/LS_root/mounts/clusters/neelan-compute/code/Users/neelan/asr/data-pre-processing/data/converted/3.aud'>\n3.wav\n/mnt/batch/tasks/shared/LS_root/mounts/clusters/neelan-compute/code/Users/neelan/asr/data-pre-processing/data/converted/3.wav\nDone converting 3.amr!\ninput_path: /mnt/batch/tasks/shared/LS_root/mounts/clusters/neelan-compute/code/Users/neelan/asr/data-pre-processing/data/4.amr\n/mnt/batch/tasks/shared/LS_root/mounts/clusters/neelan-compute/code/Users/neelan/asr/data-pre-processing/data/4.amr\n<_io.BufferedReader name='/mnt/batch/tasks/shared/LS_root/mounts/clusters/neelan-compute/code/Users/neelan/asr/data-pre-processing/data/4.amr'>\n4.aud\n/mnt/batch/tasks/shared/LS_root/mounts/clusters/neelan-compute/code/Users/neelan/asr/data-pre-processing/data/converted/4.aud\n<_io.BufferedWriter name='/mnt/batch/tasks/shared/LS_root/mounts/clusters/neelan-compute/code/Users/neelan/asr/data-pre-processing/data/converted/4.aud'>\n4.wav\n/mnt/batch/tasks/shared/LS_root/mounts/clusters/neelan-compute/code/Users/neelan/asr/data-pre-processing/data/converted/4.wav\nDone converting 4.amr!\ninput_path: /mnt/batch/tasks/shared/LS_root/mounts/clusters/neelan-compute/code/Users/neelan/asr/data-pre-processing/data/5.amr\n/mnt/batch/tasks/shared/LS_root/mounts/clusters/neelan-compute/code/Users/neelan/asr/data-pre-processing/data/5.amr\n<_io.BufferedReader name='/mnt/batch/tasks/shared/LS_root/mounts/clusters/neelan-compute/code/Users/neelan/asr/data-pre-processing/data/5.amr'>\n5.aud\n/mnt/batch/tasks/shared/LS_root/mounts/clusters/neelan-compute/code/Users/neelan/asr/data-pre-processing/data/converted/5.aud\n<_io.BufferedWriter name='/mnt/batch/tasks/shared/LS_root/mounts/clusters/neelan-compute/code/Users/neelan/asr/data-pre-processing/data/converted/5.aud'>\n5.wav\n/mnt/batch/tasks/shared/LS_root/mounts/clusters/neelan-compute/code/Users/neelan/asr/data-pre-processing/data/converted/5.wav\nDone converting 5.amr!\ninput_path: /mnt/batch/tasks/shared/LS_root/mounts/clusters/neelan-compute/code/Users/neelan/asr/data-pre-processing/data/6.amr\n/mnt/batch/tasks/shared/LS_root/mounts/clusters/neelan-compute/code/Users/neelan/asr/data-pre-processing/data/6.amr\n<_io.BufferedReader name='/mnt/batch/tasks/shared/LS_root/mounts/clusters/neelan-compute/code/Users/neelan/asr/data-pre-processing/data/6.amr'>\n6.aud\n/mnt/batch/tasks/shared/LS_root/mounts/clusters/neelan-compute/code/Users/neelan/asr/data-pre-processing/data/converted/6.aud\n<_io.BufferedWriter name='/mnt/batch/tasks/shared/LS_root/mounts/clusters/neelan-compute/code/Users/neelan/asr/data-pre-processing/data/converted/6.aud'>\n6.wav\n/mnt/batch/tasks/shared/LS_root/mounts/clusters/neelan-compute/code/Users/neelan/asr/data-pre-processing/data/converted/6.wav\nDone converting 6.amr!\ninput_path: /mnt/batch/tasks/shared/LS_root/mounts/clusters/neelan-compute/code/Users/neelan/asr/data-pre-processing/data/amr1.amr\n/mnt/batch/tasks/shared/LS_root/mounts/clusters/neelan-compute/code/Users/neelan/asr/data-pre-processing/data/amr1.amr\n<_io.BufferedReader name='/mnt/batch/tasks/shared/LS_root/mounts/clusters/neelan-compute/code/Users/neelan/asr/data-pre-processing/data/amr1.amr'>\namr1.aud\n/mnt/batch/tasks/shared/LS_root/mounts/clusters/neelan-compute/code/Users/neelan/asr/data-pre-processing/data/converted/amr1.aud\n<_io.BufferedWriter name='/mnt/batch/tasks/shared/LS_root/mounts/clusters/neelan-compute/code/Users/neelan/asr/data-pre-processing/data/converted/amr1.aud'>\namr1.wav\n/mnt/batch/tasks/shared/LS_root/mounts/clusters/neelan-compute/code/Users/neelan/asr/data-pre-processing/data/converted/amr1.wav\nDone converting amr1.amr!\ninput_path: /mnt/batch/tasks/shared/LS_root/mounts/clusters/neelan-compute/code/Users/neelan/asr/data-pre-processing/data/amr2.amr\n/mnt/batch/tasks/shared/LS_root/mounts/clusters/neelan-compute/code/Users/neelan/asr/data-pre-processing/data/amr2.amr\n<_io.BufferedReader name='/mnt/batch/tasks/shared/LS_root/mounts/clusters/neelan-compute/code/Users/neelan/asr/data-pre-processing/data/amr2.amr'>\namr2.aud\n/mnt/batch/tasks/shared/LS_root/mounts/clusters/neelan-compute/code/Users/neelan/asr/data-pre-processing/data/converted/amr2.aud\n<_io.BufferedWriter name='/mnt/batch/tasks/shared/LS_root/mounts/clusters/neelan-compute/code/Users/neelan/asr/data-pre-processing/data/converted/amr2.aud'>\namr2.wav\n/mnt/batch/tasks/shared/LS_root/mounts/clusters/neelan-compute/code/Users/neelan/asr/data-pre-processing/data/converted/amr2.wav\nDone converting amr2.amr!\ninput_path: /mnt/batch/tasks/shared/LS_root/mounts/clusters/neelan-compute/code/Users/neelan/asr/data-pre-processing/data/converted/0000000229520431#-10569#MAGANYAM#LPT-MAGANYAM#20220209100209148.aud\n/mnt/batch/tasks/shared/LS_root/mounts/clusters/neelan-compute/code/Users/neelan/asr/data-pre-processing/data/converted/0000000229520431#-10569#MAGANYAM#LPT-MAGANYAM#20220209100209148.aud\n<_io.BufferedReader name='/mnt/batch/tasks/shared/LS_root/mounts/clusters/neelan-compute/code/Users/neelan/asr/data-pre-processing/data/converted/0000000229520431#-10569#MAGANYAM#LPT-MAGANYAM#20220209100209148.aud'>\n0000000229520431#-10569#MAGANYAM#LPT-MAGANYAM#20220209100209148.aud\n/mnt/batch/tasks/shared/LS_root/mounts/clusters/neelan-compute/code/Users/neelan/asr/data-pre-processing/data/converted/converted/0000000229520431#-10569#MAGANYAM#LPT-MAGANYAM#20220209100209148.aud\n<_io.BufferedWriter name='/mnt/batch/tasks/shared/LS_root/mounts/clusters/neelan-compute/code/Users/neelan/asr/data-pre-processing/data/converted/converted/0000000229520431#-10569#MAGANYAM#LPT-MAGANYAM#20220209100209148.aud'>\n0000000229520431#-10569#MAGANYAM#LPT-MAGANYAM#20220209100209148.aud\n/mnt/batch/tasks/shared/LS_root/mounts/clusters/neelan-compute/code/Users/neelan/asr/data-pre-processing/data/converted/converted/0000000229520431#-10569#MAGANYAM#LPT-MAGANYAM#20220209100209148.aud\nDone converting 0000000229520431#-10569#MAGANYAM#LPT-MAGANYAM#20220209100209148.aud!\ninput_path: /mnt/batch/tasks/shared/LS_root/mounts/clusters/neelan-compute/code/Users/neelan/asr/data-pre-processing/data/converted/0000000229520431#-10569#MAGANYAM#LPT-MAGANYAM#20220209100209148.wav\n/mnt/batch/tasks/shared/LS_root/mounts/clusters/neelan-compute/code/Users/neelan/asr/data-pre-processing/data/converted/0000000229520431#-10569#MAGANYAM#LPT-MAGANYAM#20220209100209148.wav\n<_io.BufferedReader name='/mnt/batch/tasks/shared/LS_root/mounts/clusters/neelan-compute/code/Users/neelan/asr/data-pre-processing/data/converted/0000000229520431#-10569#MAGANYAM#LPT-MAGANYAM#20220209100209148.wav'>\n0000000229520431#-10569#MAGANYAM#LPT-MAGANYAM#20220209100209148.wav\n/mnt/batch/tasks/shared/LS_root/mounts/clusters/neelan-compute/code/Users/neelan/asr/data-pre-processing/data/converted/converted/0000000229520431#-10569#MAGANYAM#LPT-MAGANYAM#20220209100209148.wav\n<_io.BufferedWriter name='/mnt/batch/tasks/shared/LS_root/mounts/clusters/neelan-compute/code/Users/neelan/asr/data-pre-processing/data/converted/converted/0000000229520431#-10569#MAGANYAM#LPT-MAGANYAM#20220209100209148.wav'>\n0000000229520431#-10569#MAGANYAM#LPT-MAGANYAM#20220209100209148.wav\n/mnt/batch/tasks/shared/LS_root/mounts/clusters/neelan-compute/code/Users/neelan/asr/data-pre-processing/data/converted/converted/0000000229520431#-10569#MAGANYAM#LPT-MAGANYAM#20220209100209148.wav\nDone converting 0000000229520431#-10569#MAGANYAM#LPT-MAGANYAM#20220209100209148.wav!\ninput_path: /mnt/batch/tasks/shared/LS_root/mounts/clusters/neelan-compute/code/Users/neelan/asr/data-pre-processing/data/converted/0000000528184405#-10557#PORTIAM13#TCRAMDA6-295#20220209071824490.aud\n/mnt/batch/tasks/shared/LS_root/mounts/clusters/neelan-compute/code/Users/neelan/asr/data-pre-processing/data/converted/0000000528184405#-10557#PORTIAM13#TCRAMDA6-295#20220209071824490.aud\n<_io.BufferedReader name='/mnt/batch/tasks/shared/LS_root/mounts/clusters/neelan-compute/code/Users/neelan/asr/data-pre-processing/data/converted/0000000528184405#-10557#PORTIAM13#TCRAMDA6-295#20220209071824490.aud'>\n0000000528184405#-10557#PORTIAM13#TCRAMDA6-295#20220209071824490.aud\n/mnt/batch/tasks/shared/LS_root/mounts/clusters/neelan-compute/code/Users/neelan/asr/data-pre-processing/data/converted/converted/0000000528184405#-10557#PORTIAM13#TCRAMDA6-295#20220209071824490.aud\n<_io.BufferedWriter name='/mnt/batch/tasks/shared/LS_root/mounts/clusters/neelan-compute/code/Users/neelan/asr/data-pre-processing/data/converted/converted/0000000528184405#-10557#PORTIAM13#TCRAMDA6-295#20220209071824490.aud'>\n0000000528184405#-10557#PORTIAM13#TCRAMDA6-295#20220209071824490.aud\n/mnt/batch/tasks/shared/LS_root/mounts/clusters/neelan-compute/code/Users/neelan/asr/data-pre-processing/data/converted/converted/0000000528184405#-10557#PORTIAM13#TCRAMDA6-295#20220209071824490.aud\nDone converting 0000000528184405#-10557#PORTIAM13#TCRAMDA6-295#20220209071824490.aud!\ninput_path: /mnt/batch/tasks/shared/LS_root/mounts/clusters/neelan-compute/code/Users/neelan/asr/data-pre-processing/data/converted/0000000528184405#-10557#PORTIAM13#TCRAMDA6-295#20220209071824490.wav\n/mnt/batch/tasks/shared/LS_root/mounts/clusters/neelan-compute/code/Users/neelan/asr/data-pre-processing/data/converted/0000000528184405#-10557#PORTIAM13#TCRAMDA6-295#20220209071824490.wav\n<_io.BufferedReader name='/mnt/batch/tasks/shared/LS_root/mounts/clusters/neelan-compute/code/Users/neelan/asr/data-pre-processing/data/converted/0000000528184405#-10557#PORTIAM13#TCRAMDA6-295#20220209071824490.wav'>\n0000000528184405#-10557#PORTIAM13#TCRAMDA6-295#20220209071824490.wav\n/mnt/batch/tasks/shared/LS_root/mounts/clusters/neelan-compute/code/Users/neelan/asr/data-pre-processing/data/converted/converted/0000000528184405#-10557#PORTIAM13#TCRAMDA6-295#20220209071824490.wav\n<_io.BufferedWriter name='/mnt/batch/tasks/shared/LS_root/mounts/clusters/neelan-compute/code/Users/neelan/asr/data-pre-processing/data/converted/converted/0000000528184405#-10557#PORTIAM13#TCRAMDA6-295#20220209071824490.wav'>\n0000000528184405#-10557#PORTIAM13#TCRAMDA6-295#20220209071824490.wav\n/mnt/batch/tasks/shared/LS_root/mounts/clusters/neelan-compute/code/Users/neelan/asr/data-pre-processing/data/converted/converted/0000000528184405#-10557#PORTIAM13#TCRAMDA6-295#20220209071824490.wav\nDone converting 0000000528184405#-10557#PORTIAM13#TCRAMDA6-295#20220209071824490.wav!\ninput_path: /mnt/batch/tasks/shared/LS_root/mounts/clusters/neelan-compute/code/Users/neelan/asr/data-pre-processing/data/converted/1.aud\n/mnt/batch/tasks/shared/LS_root/mounts/clusters/neelan-compute/code/Users/neelan/asr/data-pre-processing/data/converted/1.aud\n<_io.BufferedReader name='/mnt/batch/tasks/shared/LS_root/mounts/clusters/neelan-compute/code/Users/neelan/asr/data-pre-processing/data/converted/1.aud'>\n1.aud\n/mnt/batch/tasks/shared/LS_root/mounts/clusters/neelan-compute/code/Users/neelan/asr/data-pre-processing/data/converted/converted/1.aud\n<_io.BufferedWriter name='/mnt/batch/tasks/shared/LS_root/mounts/clusters/neelan-compute/code/Users/neelan/asr/data-pre-processing/data/converted/converted/1.aud'>\n1.aud\n/mnt/batch/tasks/shared/LS_root/mounts/clusters/neelan-compute/code/Users/neelan/asr/data-pre-processing/data/converted/converted/1.aud\nDone converting 1.aud!\ninput_path: /mnt/batch/tasks/shared/LS_root/mounts/clusters/neelan-compute/code/Users/neelan/asr/data-pre-processing/data/converted/1.wav\n/mnt/batch/tasks/shared/LS_root/mounts/clusters/neelan-compute/code/Users/neelan/asr/data-pre-processing/data/converted/1.wav\n<_io.BufferedReader name='/mnt/batch/tasks/shared/LS_root/mounts/clusters/neelan-compute/code/Users/neelan/asr/data-pre-processing/data/converted/1.wav'>\n1.wav\n/mnt/batch/tasks/shared/LS_root/mounts/clusters/neelan-compute/code/Users/neelan/asr/data-pre-processing/data/converted/converted/1.wav\n<_io.BufferedWriter name='/mnt/batch/tasks/shared/LS_root/mounts/clusters/neelan-compute/code/Users/neelan/asr/data-pre-processing/data/converted/converted/1.wav'>\n1.wav\n/mnt/batch/tasks/shared/LS_root/mounts/clusters/neelan-compute/code/Users/neelan/asr/data-pre-processing/data/converted/converted/1.wav\nDone converting 1.wav!\ninput_path: /mnt/batch/tasks/shared/LS_root/mounts/clusters/neelan-compute/code/Users/neelan/asr/data-pre-processing/data/converted/2.aud\n/mnt/batch/tasks/shared/LS_root/mounts/clusters/neelan-compute/code/Users/neelan/asr/data-pre-processing/data/converted/2.aud\n<_io.BufferedReader name='/mnt/batch/tasks/shared/LS_root/mounts/clusters/neelan-compute/code/Users/neelan/asr/data-pre-processing/data/converted/2.aud'>\n2.aud\n/mnt/batch/tasks/shared/LS_root/mounts/clusters/neelan-compute/code/Users/neelan/asr/data-pre-processing/data/converted/converted/2.aud\n<_io.BufferedWriter name='/mnt/batch/tasks/shared/LS_root/mounts/clusters/neelan-compute/code/Users/neelan/asr/data-pre-processing/data/converted/converted/2.aud'>\n2.aud\n/mnt/batch/tasks/shared/LS_root/mounts/clusters/neelan-compute/code/Users/neelan/asr/data-pre-processing/data/converted/converted/2.aud\nDone converting 2.aud!\ninput_path: /mnt/batch/tasks/shared/LS_root/mounts/clusters/neelan-compute/code/Users/neelan/asr/data-pre-processing/data/converted/2.wav\n/mnt/batch/tasks/shared/LS_root/mounts/clusters/neelan-compute/code/Users/neelan/asr/data-pre-processing/data/converted/2.wav\n<_io.BufferedReader name='/mnt/batch/tasks/shared/LS_root/mounts/clusters/neelan-compute/code/Users/neelan/asr/data-pre-processing/data/converted/2.wav'>\n2.wav\n/mnt/batch/tasks/shared/LS_root/mounts/clusters/neelan-compute/code/Users/neelan/asr/data-pre-processing/data/converted/converted/2.wav\n<_io.BufferedWriter name='/mnt/batch/tasks/shared/LS_root/mounts/clusters/neelan-compute/code/Users/neelan/asr/data-pre-processing/data/converted/converted/2.wav'>\n2.wav\n/mnt/batch/tasks/shared/LS_root/mounts/clusters/neelan-compute/code/Users/neelan/asr/data-pre-processing/data/converted/converted/2.wav\nDone converting 2.wav!\ninput_path: /mnt/batch/tasks/shared/LS_root/mounts/clusters/neelan-compute/code/Users/neelan/asr/data-pre-processing/data/converted/3.aud\n/mnt/batch/tasks/shared/LS_root/mounts/clusters/neelan-compute/code/Users/neelan/asr/data-pre-processing/data/converted/3.aud\n<_io.BufferedReader name='/mnt/batch/tasks/shared/LS_root/mounts/clusters/neelan-compute/code/Users/neelan/asr/data-pre-processing/data/converted/3.aud'>\n3.aud\n/mnt/batch/tasks/shared/LS_root/mounts/clusters/neelan-compute/code/Users/neelan/asr/data-pre-processing/data/converted/converted/3.aud\n<_io.BufferedWriter name='/mnt/batch/tasks/shared/LS_root/mounts/clusters/neelan-compute/code/Users/neelan/asr/data-pre-processing/data/converted/converted/3.aud'>\n3.aud\n/mnt/batch/tasks/shared/LS_root/mounts/clusters/neelan-compute/code/Users/neelan/asr/data-pre-processing/data/converted/converted/3.aud\nDone converting 3.aud!\ninput_path: /mnt/batch/tasks/shared/LS_root/mounts/clusters/neelan-compute/code/Users/neelan/asr/data-pre-processing/data/converted/3.wav\n/mnt/batch/tasks/shared/LS_root/mounts/clusters/neelan-compute/code/Users/neelan/asr/data-pre-processing/data/converted/3.wav\n<_io.BufferedReader name='/mnt/batch/tasks/shared/LS_root/mounts/clusters/neelan-compute/code/Users/neelan/asr/data-pre-processing/data/converted/3.wav'>\n3.wav\n/mnt/batch/tasks/shared/LS_root/mounts/clusters/neelan-compute/code/Users/neelan/asr/data-pre-processing/data/converted/converted/3.wav\n<_io.BufferedWriter name='/mnt/batch/tasks/shared/LS_root/mounts/clusters/neelan-compute/code/Users/neelan/asr/data-pre-processing/data/converted/converted/3.wav'>\n3.wav\n/mnt/batch/tasks/shared/LS_root/mounts/clusters/neelan-compute/code/Users/neelan/asr/data-pre-processing/data/converted/converted/3.wav\nDone converting 3.wav!\ninput_path: /mnt/batch/tasks/shared/LS_root/mounts/clusters/neelan-compute/code/Users/neelan/asr/data-pre-processing/data/converted/4.aud\n/mnt/batch/tasks/shared/LS_root/mounts/clusters/neelan-compute/code/Users/neelan/asr/data-pre-processing/data/converted/4.aud\n<_io.BufferedReader name='/mnt/batch/tasks/shared/LS_root/mounts/clusters/neelan-compute/code/Users/neelan/asr/data-pre-processing/data/converted/4.aud'>\n4.aud\n/mnt/batch/tasks/shared/LS_root/mounts/clusters/neelan-compute/code/Users/neelan/asr/data-pre-processing/data/converted/converted/4.aud\n<_io.BufferedWriter name='/mnt/batch/tasks/shared/LS_root/mounts/clusters/neelan-compute/code/Users/neelan/asr/data-pre-processing/data/converted/converted/4.aud'>\n4.aud\n/mnt/batch/tasks/shared/LS_root/mounts/clusters/neelan-compute/code/Users/neelan/asr/data-pre-processing/data/converted/converted/4.aud\nDone converting 4.aud!\ninput_path: /mnt/batch/tasks/shared/LS_root/mounts/clusters/neelan-compute/code/Users/neelan/asr/data-pre-processing/data/converted/4.wav\n/mnt/batch/tasks/shared/LS_root/mounts/clusters/neelan-compute/code/Users/neelan/asr/data-pre-processing/data/converted/4.wav\n<_io.BufferedReader name='/mnt/batch/tasks/shared/LS_root/mounts/clusters/neelan-compute/code/Users/neelan/asr/data-pre-processing/data/converted/4.wav'>\n4.wav\n/mnt/batch/tasks/shared/LS_root/mounts/clusters/neelan-compute/code/Users/neelan/asr/data-pre-processing/data/converted/converted/4.wav\n<_io.BufferedWriter name='/mnt/batch/tasks/shared/LS_root/mounts/clusters/neelan-compute/code/Users/neelan/asr/data-pre-processing/data/converted/converted/4.wav'>\n4.wav\n/mnt/batch/tasks/shared/LS_root/mounts/clusters/neelan-compute/code/Users/neelan/asr/data-pre-processing/data/converted/converted/4.wav\nDone converting 4.wav!\ninput_path: /mnt/batch/tasks/shared/LS_root/mounts/clusters/neelan-compute/code/Users/neelan/asr/data-pre-processing/data/converted/5.aud\n/mnt/batch/tasks/shared/LS_root/mounts/clusters/neelan-compute/code/Users/neelan/asr/data-pre-processing/data/converted/5.aud\n<_io.BufferedReader name='/mnt/batch/tasks/shared/LS_root/mounts/clusters/neelan-compute/code/Users/neelan/asr/data-pre-processing/data/converted/5.aud'>\n5.aud\n/mnt/batch/tasks/shared/LS_root/mounts/clusters/neelan-compute/code/Users/neelan/asr/data-pre-processing/data/converted/converted/5.aud\n<_io.BufferedWriter name='/mnt/batch/tasks/shared/LS_root/mounts/clusters/neelan-compute/code/Users/neelan/asr/data-pre-processing/data/converted/converted/5.aud'>\n5.aud\n/mnt/batch/tasks/shared/LS_root/mounts/clusters/neelan-compute/code/Users/neelan/asr/data-pre-processing/data/converted/converted/5.aud\nDone converting 5.aud!\ninput_path: /mnt/batch/tasks/shared/LS_root/mounts/clusters/neelan-compute/code/Users/neelan/asr/data-pre-processing/data/converted/5.wav\n/mnt/batch/tasks/shared/LS_root/mounts/clusters/neelan-compute/code/Users/neelan/asr/data-pre-processing/data/converted/5.wav\n<_io.BufferedReader name='/mnt/batch/tasks/shared/LS_root/mounts/clusters/neelan-compute/code/Users/neelan/asr/data-pre-processing/data/converted/5.wav'>\n5.wav\n/mnt/batch/tasks/shared/LS_root/mounts/clusters/neelan-compute/code/Users/neelan/asr/data-pre-processing/data/converted/converted/5.wav\n<_io.BufferedWriter name='/mnt/batch/tasks/shared/LS_root/mounts/clusters/neelan-compute/code/Users/neelan/asr/data-pre-processing/data/converted/converted/5.wav'>\n5.wav\n/mnt/batch/tasks/shared/LS_root/mounts/clusters/neelan-compute/code/Users/neelan/asr/data-pre-processing/data/converted/converted/5.wav\nDone converting 5.wav!\ninput_path: /mnt/batch/tasks/shared/LS_root/mounts/clusters/neelan-compute/code/Users/neelan/asr/data-pre-processing/data/converted/6.aud\n/mnt/batch/tasks/shared/LS_root/mounts/clusters/neelan-compute/code/Users/neelan/asr/data-pre-processing/data/converted/6.aud\n<_io.BufferedReader name='/mnt/batch/tasks/shared/LS_root/mounts/clusters/neelan-compute/code/Users/neelan/asr/data-pre-processing/data/converted/6.aud'>\n6.aud\n/mnt/batch/tasks/shared/LS_root/mounts/clusters/neelan-compute/code/Users/neelan/asr/data-pre-processing/data/converted/converted/6.aud\n<_io.BufferedWriter name='/mnt/batch/tasks/shared/LS_root/mounts/clusters/neelan-compute/code/Users/neelan/asr/data-pre-processing/data/converted/converted/6.aud'>\n6.aud\n/mnt/batch/tasks/shared/LS_root/mounts/clusters/neelan-compute/code/Users/neelan/asr/data-pre-processing/data/converted/converted/6.aud\nDone converting 6.aud!\ninput_path: /mnt/batch/tasks/shared/LS_root/mounts/clusters/neelan-compute/code/Users/neelan/asr/data-pre-processing/data/converted/6.wav\n/mnt/batch/tasks/shared/LS_root/mounts/clusters/neelan-compute/code/Users/neelan/asr/data-pre-processing/data/converted/6.wav\n<_io.BufferedReader name='/mnt/batch/tasks/shared/LS_root/mounts/clusters/neelan-compute/code/Users/neelan/asr/data-pre-processing/data/converted/6.wav'>\n6.wav\n/mnt/batch/tasks/shared/LS_root/mounts/clusters/neelan-compute/code/Users/neelan/asr/data-pre-processing/data/converted/converted/6.wav\n<_io.BufferedWriter name='/mnt/batch/tasks/shared/LS_root/mounts/clusters/neelan-compute/code/Users/neelan/asr/data-pre-processing/data/converted/converted/6.wav'>\n6.wav\n/mnt/batch/tasks/shared/LS_root/mounts/clusters/neelan-compute/code/Users/neelan/asr/data-pre-processing/data/converted/converted/6.wav\nDone converting 6.wav!\ninput_path: /mnt/batch/tasks/shared/LS_root/mounts/clusters/neelan-compute/code/Users/neelan/asr/data-pre-processing/data/converted/amr1.aud\n/mnt/batch/tasks/shared/LS_root/mounts/clusters/neelan-compute/code/Users/neelan/asr/data-pre-processing/data/converted/amr1.aud\n<_io.BufferedReader name='/mnt/batch/tasks/shared/LS_root/mounts/clusters/neelan-compute/code/Users/neelan/asr/data-pre-processing/data/converted/amr1.aud'>\namr1.aud\n/mnt/batch/tasks/shared/LS_root/mounts/clusters/neelan-compute/code/Users/neelan/asr/data-pre-processing/data/converted/converted/amr1.aud\n<_io.BufferedWriter name='/mnt/batch/tasks/shared/LS_root/mounts/clusters/neelan-compute/code/Users/neelan/asr/data-pre-processing/data/converted/converted/amr1.aud'>\namr1.aud\n/mnt/batch/tasks/shared/LS_root/mounts/clusters/neelan-compute/code/Users/neelan/asr/data-pre-processing/data/converted/converted/amr1.aud\nDone converting amr1.aud!\ninput_path: /mnt/batch/tasks/shared/LS_root/mounts/clusters/neelan-compute/code/Users/neelan/asr/data-pre-processing/data/converted/amr1.wav\n/mnt/batch/tasks/shared/LS_root/mounts/clusters/neelan-compute/code/Users/neelan/asr/data-pre-processing/data/converted/amr1.wav\n<_io.BufferedReader name='/mnt/batch/tasks/shared/LS_root/mounts/clusters/neelan-compute/code/Users/neelan/asr/data-pre-processing/data/converted/amr1.wav'>\namr1.wav\n/mnt/batch/tasks/shared/LS_root/mounts/clusters/neelan-compute/code/Users/neelan/asr/data-pre-processing/data/converted/converted/amr1.wav\n<_io.BufferedWriter name='/mnt/batch/tasks/shared/LS_root/mounts/clusters/neelan-compute/code/Users/neelan/asr/data-pre-processing/data/converted/converted/amr1.wav'>\namr1.wav\n/mnt/batch/tasks/shared/LS_root/mounts/clusters/neelan-compute/code/Users/neelan/asr/data-pre-processing/data/converted/converted/amr1.wav\nDone converting amr1.wav!\ninput_path: /mnt/batch/tasks/shared/LS_root/mounts/clusters/neelan-compute/code/Users/neelan/asr/data-pre-processing/data/converted/amr2.aud\n/mnt/batch/tasks/shared/LS_root/mounts/clusters/neelan-compute/code/Users/neelan/asr/data-pre-processing/data/converted/amr2.aud\n<_io.BufferedReader name='/mnt/batch/tasks/shared/LS_root/mounts/clusters/neelan-compute/code/Users/neelan/asr/data-pre-processing/data/converted/amr2.aud'>\namr2.aud\n/mnt/batch/tasks/shared/LS_root/mounts/clusters/neelan-compute/code/Users/neelan/asr/data-pre-processing/data/converted/converted/amr2.aud\n<_io.BufferedWriter name='/mnt/batch/tasks/shared/LS_root/mounts/clusters/neelan-compute/code/Users/neelan/asr/data-pre-processing/data/converted/converted/amr2.aud'>\namr2.aud\n/mnt/batch/tasks/shared/LS_root/mounts/clusters/neelan-compute/code/Users/neelan/asr/data-pre-processing/data/converted/converted/amr2.aud\nDone converting amr2.aud!\ninput_path: /mnt/batch/tasks/shared/LS_root/mounts/clusters/neelan-compute/code/Users/neelan/asr/data-pre-processing/data/converted/amr2.wav\n/mnt/batch/tasks/shared/LS_root/mounts/clusters/neelan-compute/code/Users/neelan/asr/data-pre-processing/data/converted/amr2.wav\n<_io.BufferedReader name='/mnt/batch/tasks/shared/LS_root/mounts/clusters/neelan-compute/code/Users/neelan/asr/data-pre-processing/data/converted/amr2.wav'>\namr2.wav\n/mnt/batch/tasks/shared/LS_root/mounts/clusters/neelan-compute/code/Users/neelan/asr/data-pre-processing/data/converted/converted/amr2.wav\n<_io.BufferedWriter name='/mnt/batch/tasks/shared/LS_root/mounts/clusters/neelan-compute/code/Users/neelan/asr/data-pre-processing/data/converted/converted/amr2.wav'>\namr2.wav\n/mnt/batch/tasks/shared/LS_root/mounts/clusters/neelan-compute/code/Users/neelan/asr/data-pre-processing/data/converted/converted/amr2.wav\nDone converting amr2.wav!\n"
        }
      ],
      "execution_count": 37,
      "metadata": {
        "jupyter": {
          "source_hidden": false,
          "outputs_hidden": false
        },
        "nteract": {
          "transient": {
            "deleting": false
          }
        },
        "gather": {
          "logged": 1645627208145
        }
      },
      "id": "1683a9f6-32a0-448d-a269-1ab4d10ac6df"
    },
    {
      "cell_type": "code",
      "source": [
        "os.chdir(data_folder+'/converted')\n",
        "os.listdir()"
      ],
      "outputs": [
        {
          "output_type": "execute_result",
          "execution_count": 39,
          "data": {
            "text/plain": "['0000000229520431#-10569#MAGANYAM#LPT-MAGANYAM#20220209100209148.aud',\n '0000000229520431#-10569#MAGANYAM#LPT-MAGANYAM#20220209100209148.wav',\n '0000000528184405#-10557#PORTIAM13#TCRAMDA6-295#20220209071824490.aud',\n '0000000528184405#-10557#PORTIAM13#TCRAMDA6-295#20220209071824490.wav',\n '1.aud',\n '1.wav',\n '2.aud',\n '2.wav',\n '3.aud',\n '3.wav',\n '4.aud',\n '4.wav',\n '5.aud',\n '5.wav',\n '6.aud',\n '6.wav',\n 'amr1.aud',\n 'amr1.wav',\n 'amr2.aud',\n 'amr2.wav',\n 'converted']"
          },
          "metadata": {}
        }
      ],
      "execution_count": 39,
      "metadata": {
        "jupyter": {
          "source_hidden": false,
          "outputs_hidden": false
        },
        "nteract": {
          "transient": {
            "deleting": false
          }
        },
        "gather": {
          "logged": 1645627208372
        }
      },
      "id": "c29e53fd-80f5-40e6-8789-bac9845f6b2f"
    },
    {
      "cell_type": "code",
      "source": [
        "converted = data_folder + '/converted'"
      ],
      "outputs": [],
      "execution_count": 43,
      "metadata": {
        "jupyter": {
          "source_hidden": false,
          "outputs_hidden": false
        },
        "nteract": {
          "transient": {
            "deleting": false
          }
        },
        "gather": {
          "logged": 1645631666873
        }
      },
      "id": "c06a1017-9219-4b95-b282-9606c1acc505"
    },
    {
      "cell_type": "code",
      "source": [
        "\n",
        "local_files = [os.path.join(converted,f) for f in os.listdir(converted) if \".wav\" in f ]\n",
        "\n",
        "# get the datastore to upload prepared data\n",
        "blob_datastore.upload_files(files=local_files, target_path=None, show_progress=True)"
      ],
      "outputs": [
        {
          "output_type": "stream",
          "name": "stderr",
          "text": "\"datastore.upload_files\" is deprecated after version 1.0.69. Please use \"FileDatasetFactory.upload_directory\" instead. See Dataset API change notice at https://aka.ms/dataset-deprecation.\n"
        },
        {
          "output_type": "stream",
          "name": "stdout",
          "text": "Uploading an estimated of 10 files\nUploading /mnt/batch/tasks/shared/LS_root/mounts/clusters/neelan-compute/code/Users/neelan/asr/data-pre-processing/data/converted/0000000229520431#-10569#MAGANYAM#LPT-MAGANYAM#20220209100209148.wav\nUploaded /mnt/batch/tasks/shared/LS_root/mounts/clusters/neelan-compute/code/Users/neelan/asr/data-pre-processing/data/converted/0000000229520431#-10569#MAGANYAM#LPT-MAGANYAM#20220209100209148.wav, 1 files out of an estimated total of 10\nUploading /mnt/batch/tasks/shared/LS_root/mounts/clusters/neelan-compute/code/Users/neelan/asr/data-pre-processing/data/converted/1.wav\nUploaded /mnt/batch/tasks/shared/LS_root/mounts/clusters/neelan-compute/code/Users/neelan/asr/data-pre-processing/data/converted/1.wav, 2 files out of an estimated total of 10\nUploading /mnt/batch/tasks/shared/LS_root/mounts/clusters/neelan-compute/code/Users/neelan/asr/data-pre-processing/data/converted/2.wav\nUploaded /mnt/batch/tasks/shared/LS_root/mounts/clusters/neelan-compute/code/Users/neelan/asr/data-pre-processing/data/converted/2.wav, 3 files out of an estimated total of 10\nUploading /mnt/batch/tasks/shared/LS_root/mounts/clusters/neelan-compute/code/Users/neelan/asr/data-pre-processing/data/converted/3.wav\nUploaded /mnt/batch/tasks/shared/LS_root/mounts/clusters/neelan-compute/code/Users/neelan/asr/data-pre-processing/data/converted/3.wav, 4 files out of an estimated total of 10\nUploading /mnt/batch/tasks/shared/LS_root/mounts/clusters/neelan-compute/code/Users/neelan/asr/data-pre-processing/data/converted/4.wav\nUploaded /mnt/batch/tasks/shared/LS_root/mounts/clusters/neelan-compute/code/Users/neelan/asr/data-pre-processing/data/converted/4.wav, 5 files out of an estimated total of 10\nUploading /mnt/batch/tasks/shared/LS_root/mounts/clusters/neelan-compute/code/Users/neelan/asr/data-pre-processing/data/converted/5.wav\nUploaded /mnt/batch/tasks/shared/LS_root/mounts/clusters/neelan-compute/code/Users/neelan/asr/data-pre-processing/data/converted/5.wav, 6 files out of an estimated total of 10\nUploading /mnt/batch/tasks/shared/LS_root/mounts/clusters/neelan-compute/code/Users/neelan/asr/data-pre-processing/data/converted/6.wav\nUploaded /mnt/batch/tasks/shared/LS_root/mounts/clusters/neelan-compute/code/Users/neelan/asr/data-pre-processing/data/converted/6.wav, 7 files out of an estimated total of 10\nUploading /mnt/batch/tasks/shared/LS_root/mounts/clusters/neelan-compute/code/Users/neelan/asr/data-pre-processing/data/converted/0000000528184405#-10557#PORTIAM13#TCRAMDA6-295#20220209071824490.wav\nUploaded /mnt/batch/tasks/shared/LS_root/mounts/clusters/neelan-compute/code/Users/neelan/asr/data-pre-processing/data/converted/0000000528184405#-10557#PORTIAM13#TCRAMDA6-295#20220209071824490.wav, 8 files out of an estimated total of 10\nUploading /mnt/batch/tasks/shared/LS_root/mounts/clusters/neelan-compute/code/Users/neelan/asr/data-pre-processing/data/converted/amr1.wav\nUploaded /mnt/batch/tasks/shared/LS_root/mounts/clusters/neelan-compute/code/Users/neelan/asr/data-pre-processing/data/converted/amr1.wav, 9 files out of an estimated total of 10\nUploading /mnt/batch/tasks/shared/LS_root/mounts/clusters/neelan-compute/code/Users/neelan/asr/data-pre-processing/data/converted/amr2.wav\nUploaded /mnt/batch/tasks/shared/LS_root/mounts/clusters/neelan-compute/code/Users/neelan/asr/data-pre-processing/data/converted/amr2.wav, 10 files out of an estimated total of 10\nUploaded 10 files\n"
        },
        {
          "output_type": "execute_result",
          "execution_count": 49,
          "data": {
            "text/plain": "$AZUREML_DATAREFERENCE_recordings"
          },
          "metadata": {}
        }
      ],
      "execution_count": 49,
      "metadata": {
        "jupyter": {
          "source_hidden": false,
          "outputs_hidden": false
        },
        "nteract": {
          "transient": {
            "deleting": false
          }
        },
        "gather": {
          "logged": 1645631871481
        }
      },
      "id": "148c6cc0-f10a-4d97-906e-a474acf3184d"
    },
    {
      "cell_type": "code",
      "source": [
        "datadir= osjoin(workdir,\"data\")\n",
        " local_files = [ osjoin(datadir,f) for f in listdir(datadir) if \".parquet\" in f ]\n",
        "    \n",
        " # get the datastore to upload prepared data\n",
        " datastore = ws.get_default_datastore()\n",
        " datastore.upload_files(files=local_files, target_path=None, show_progress=True)"
      ],
      "outputs": [],
      "execution_count": null,
      "metadata": {
        "jupyter": {
          "source_hidden": false,
          "outputs_hidden": false
        },
        "nteract": {
          "transient": {
            "deleting": false
          }
        }
      },
      "id": "38ac3b40-f8c0-40e3-b0f8-d582afde8efa"
    }
  ],
  "metadata": {
    "kernelspec": {
      "name": "python3",
      "language": "python",
      "display_name": "Python 3"
    },
    "language_info": {
      "name": "python",
      "version": "3.8.1",
      "mimetype": "text/x-python",
      "codemirror_mode": {
        "name": "ipython",
        "version": 3
      },
      "pygments_lexer": "ipython3",
      "nbconvert_exporter": "python",
      "file_extension": ".py"
    },
    "kernel_info": {
      "name": "python3"
    },
    "microsoft": {
      "host": {
        "AzureML": {
          "notebookHasBeenCompleted": true
        }
      }
    },
    "nteract": {
      "version": "nteract-front-end@1.0.0"
    }
  },
  "nbformat": 4,
  "nbformat_minor": 5
}