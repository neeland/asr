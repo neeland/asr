{
  "cells": [
    {
      "cell_type": "code",
      "source": [
        "import os\n",
        "os.chdir(os.path.join(os.getcwd(), 'asr', 'pipeline'))"
      ],
      "outputs": [],
      "execution_count": null,
      "metadata": {
        "jupyter": {
          "source_hidden": false,
          "outputs_hidden": false
        },
        "nteract": {
          "transient": {
            "deleting": false
          }
        },
        "gather": {
          "logged": 1650799751773
        }
      }
    },
    {
      "cell_type": "code",
      "source": [
        "import pandas as pd\n",
        "data = pd.read_csv('data.csv')\n",
        "#data = data.rename(columns = {'Unnamed: 0':'index'}, inplace = True)\n",
        "data = data.rename(columns={'Unnamed: 0':'index'})\n",
        "data.head(2)"
      ],
      "outputs": [
        {
          "output_type": "execute_result",
          "execution_count": 28,
          "data": {
            "text/plain": "                                               index  \\\n0  0291506962#-10505#SITHATIL#TCRCBD-E45#20220215...   \n1  0301269833#-10505#BUSISIWEM26#TCR4-254782#2022...   \n\n                                           file_path  \\\n0  /home/azureuser/cloudfiles/code/Users/neelan/a...   \n1  /home/azureuser/cloudfiles/code/Users/neelan/a...   \n\n                                               words  word_count  \\\n0  DAY CAN I PLEASE SPEAK TO HALEYSA NIM TAMBO SP...         231   \n1  DAY CAN I PLEASE SPEAK TO MS YVONNE YOUR MR PR...         737   \n\n                spkID  bits_per_sample encoding  num_channels  num_frames  \\\n0  #SITHATIL#TCRCBDE#               16    PCM_S             1     4804160   \n1     #BUSISIWEM#TCR#               16    PCM_S             1     5611200   \n\n   sample_rate  duration_seconds  words_per_second  \n0        16000            300.26          0.769333  \n1        16000            350.70          2.101511  ",
            "text/html": "<div>\n<style scoped>\n    .dataframe tbody tr th:only-of-type {\n        vertical-align: middle;\n    }\n\n    .dataframe tbody tr th {\n        vertical-align: top;\n    }\n\n    .dataframe thead th {\n        text-align: right;\n    }\n</style>\n<table border=\"1\" class=\"dataframe\">\n  <thead>\n    <tr style=\"text-align: right;\">\n      <th></th>\n      <th>index</th>\n      <th>file_path</th>\n      <th>words</th>\n      <th>word_count</th>\n      <th>spkID</th>\n      <th>bits_per_sample</th>\n      <th>encoding</th>\n      <th>num_channels</th>\n      <th>num_frames</th>\n      <th>sample_rate</th>\n      <th>duration_seconds</th>\n      <th>words_per_second</th>\n    </tr>\n  </thead>\n  <tbody>\n    <tr>\n      <th>0</th>\n      <td>0291506962#-10505#SITHATIL#TCRCBD-E45#20220215...</td>\n      <td>/home/azureuser/cloudfiles/code/Users/neelan/a...</td>\n      <td>DAY CAN I PLEASE SPEAK TO HALEYSA NIM TAMBO SP...</td>\n      <td>231</td>\n      <td>#SITHATIL#TCRCBDE#</td>\n      <td>16</td>\n      <td>PCM_S</td>\n      <td>1</td>\n      <td>4804160</td>\n      <td>16000</td>\n      <td>300.26</td>\n      <td>0.769333</td>\n    </tr>\n    <tr>\n      <th>1</th>\n      <td>0301269833#-10505#BUSISIWEM26#TCR4-254782#2022...</td>\n      <td>/home/azureuser/cloudfiles/code/Users/neelan/a...</td>\n      <td>DAY CAN I PLEASE SPEAK TO MS YVONNE YOUR MR PR...</td>\n      <td>737</td>\n      <td>#BUSISIWEM#TCR#</td>\n      <td>16</td>\n      <td>PCM_S</td>\n      <td>1</td>\n      <td>5611200</td>\n      <td>16000</td>\n      <td>350.70</td>\n      <td>2.101511</td>\n    </tr>\n  </tbody>\n</table>\n</div>"
          },
          "metadata": {}
        }
      ],
      "execution_count": 28,
      "metadata": {
        "gather": {
          "logged": 1650800549584
        }
      }
    },
    {
      "cell_type": "code",
      "source": [
        "data.columns"
      ],
      "outputs": [
        {
          "output_type": "execute_result",
          "execution_count": 12,
          "data": {
            "text/plain": "Index(['Unnamed: 0', 'file_path', 'words', 'word_count', 'spkID',\n       'bits_per_sample', 'encoding', 'num_channels', 'num_frames',\n       'sample_rate', 'duration_seconds', 'words_per_second'],\n      dtype='object')"
          },
          "metadata": {}
        }
      ],
      "execution_count": 12,
      "metadata": {
        "jupyter": {
          "source_hidden": false,
          "outputs_hidden": false
        },
        "nteract": {
          "transient": {
            "deleting": false
          }
        },
        "gather": {
          "logged": 1650799785421
        }
      }
    },
    {
      "cell_type": "code",
      "source": [
        "data[['duration_seconds','words_per_second','num_frames']].hist()"
      ],
      "outputs": [
        {
          "output_type": "execute_result",
          "execution_count": 18,
          "data": {
            "text/plain": "array([[<matplotlib.axes._subplots.AxesSubplot object at 0x7fd871427910>,\n        <matplotlib.axes._subplots.AxesSubplot object at 0x7fd8712e5d60>],\n       [<matplotlib.axes._subplots.AxesSubplot object at 0x7fd87131f220>,\n        <matplotlib.axes._subplots.AxesSubplot object at 0x7fd8712ca640>]],\n      dtype=object)"
          },
          "metadata": {}
        },
        {
          "output_type": "display_data",
          "data": {
            "text/plain": "<Figure size 432x288 with 4 Axes>",
            "image/png": "[encoded data removed]"
          },
          "metadata": {
            "needs_background": "light"
          }
        }
      ],
      "execution_count": 18,
      "metadata": {
        "jupyter": {
          "source_hidden": false,
          "outputs_hidden": false
        },
        "nteract": {
          "transient": {
            "deleting": false
          }
        },
        "gather": {
          "logged": 1650799917966
        }
      }
    },
    {
      "cell_type": "code",
      "source": [
        "data_f1 = data[data['words_per_second']> 1]\n",
        "data_f1_dropped = data[data['words_per_second'] <= 1]\n",
        "data_f1.hist(['duration_seconds','words_per_second','num_frames'])"
      ],
      "outputs": [
        {
          "output_type": "execute_result",
          "execution_count": 35,
          "data": {
            "text/plain": "array([[<matplotlib.axes._subplots.AxesSubplot object at 0x7fd870720670>,\n        <matplotlib.axes._subplots.AxesSubplot object at 0x7fd8706883d0>],\n       [<matplotlib.axes._subplots.AxesSubplot object at 0x7fd8706b37f0>,\n        <matplotlib.axes._subplots.AxesSubplot object at 0x7fd870660c10>]],\n      dtype=object)"
          },
          "metadata": {}
        },
        {
          "output_type": "display_data",
          "data": {
            "text/plain": "<Figure size 432x288 with 4 Axes>",
            "image/png": "[encoded data removed]"
          },
          "metadata": {
            "needs_background": "light"
          }
        }
      ],
      "execution_count": 35,
      "metadata": {
        "jupyter": {
          "source_hidden": false,
          "outputs_hidden": false
        },
        "nteract": {
          "transient": {
            "deleting": false
          }
        },
        "gather": {
          "logged": 1650801064350
        }
      }
    },
    {
      "cell_type": "code",
      "source": [
        "data_f1_dropped.hist(['duration_seconds','words_per_second','num_frames'])"
      ],
      "outputs": [
        {
          "output_type": "execute_result",
          "execution_count": 36,
          "data": {
            "text/plain": "array([[<matplotlib.axes._subplots.AxesSubplot object at 0x7fd871203220>,\n        <matplotlib.axes._subplots.AxesSubplot object at 0x7fd8706f1070>],\n       [<matplotlib.axes._subplots.AxesSubplot object at 0x7fd8705e0220>,\n        <matplotlib.axes._subplots.AxesSubplot object at 0x7fd87050fbb0>]],\n      dtype=object)"
          },
          "metadata": {}
        },
        {
          "output_type": "display_data",
          "data": {
            "text/plain": "<Figure size 432x288 with 4 Axes>",
            "image/png": "[encoded data removed]"
          },
          "metadata": {
            "needs_background": "light"
          }
        }
      ],
      "execution_count": 36,
      "metadata": {
        "jupyter": {
          "source_hidden": false,
          "outputs_hidden": false
        },
        "nteract": {
          "transient": {
            "deleting": false
          }
        },
        "gather": {
          "logged": 1650801075932
        }
      }
    },
    {
      "cell_type": "code",
      "source": [
        "# getting indexes for naive split (we manually put these in parse_to_json.py)\n",
        "n = len(data_f1)\n",
        "n_train = n//2\n",
        "n_test = n_train + n//4\n",
        "\n",
        "n_train, n_test, n"
      ],
      "outputs": [
        {
          "output_type": "execute_result",
          "execution_count": 43,
          "data": {
            "text/plain": "(567, 850, 1135)"
          },
          "metadata": {}
        }
      ],
      "execution_count": 43,
      "metadata": {
        "jupyter": {
          "source_hidden": false,
          "outputs_hidden": false
        },
        "nteract": {
          "transient": {
            "deleting": false
          }
        },
        "gather": {
          "logged": 1650802266469
        }
      }
    },
    {
      "cell_type": "code",
      "source": [
        "train = data_f1[:n_train]\n",
        "print(len(train))\n",
        "valid = data_f1[n_train:n_test]\n",
        "print(len(valid))\n",
        "test = data_f1[n_test:]\n",
        "print(len(test))"
      ],
      "outputs": [
        {
          "output_type": "stream",
          "name": "stdout",
          "text": "567\n283\n285\n"
        }
      ],
      "execution_count": 46,
      "metadata": {
        "jupyter": {
          "source_hidden": false,
          "outputs_hidden": false
        },
        "nteract": {
          "transient": {
            "deleting": false
          }
        },
        "gather": {
          "logged": 1650802355794
        }
      }
    },
    {
      "cell_type": "code",
      "source": [
        "train.hist(['duration_seconds','words_per_second','num_frames'])"
      ],
      "outputs": [
        {
          "output_type": "execute_result",
          "execution_count": 47,
          "data": {
            "text/plain": "array([[<matplotlib.axes._subplots.AxesSubplot object at 0x7fd870034c10>,\n        <matplotlib.axes._subplots.AxesSubplot object at 0x7fd86d76e970>],\n       [<matplotlib.axes._subplots.AxesSubplot object at 0x7fd86d71ad90>,\n        <matplotlib.axes._subplots.AxesSubplot object at 0x7fd86d7511f0>]],\n      dtype=object)"
          },
          "metadata": {}
        },
        {
          "output_type": "display_data",
          "data": {
            "text/plain": "<Figure size 432x288 with 4 Axes>",
            "image/png": "[encoded data removed]"
          },
          "metadata": {
            "needs_background": "light"
          }
        }
      ],
      "execution_count": 47,
      "metadata": {
        "jupyter": {
          "source_hidden": false,
          "outputs_hidden": false
        },
        "nteract": {
          "transient": {
            "deleting": false
          }
        },
        "gather": {
          "logged": 1650804773545
        }
      }
    },
    {
      "cell_type": "code",
      "source": [
        "valid.hist(['duration_seconds','words_per_second','num_frames'])"
      ],
      "outputs": [
        {
          "output_type": "execute_result",
          "execution_count": 48,
          "data": {
            "text/plain": "array([[<matplotlib.axes._subplots.AxesSubplot object at 0x7fd86d6910a0>,\n        <matplotlib.axes._subplots.AxesSubplot object at 0x7fd86d63f880>],\n       [<matplotlib.axes._subplots.AxesSubplot object at 0x7fd86d5edca0>,\n        <matplotlib.axes._subplots.AxesSubplot object at 0x7fd86d5a5100>]],\n      dtype=object)"
          },
          "metadata": {}
        },
        {
          "output_type": "display_data",
          "data": {
            "text/plain": "<Figure size 432x288 with 4 Axes>",
            "image/png": "[encoded data removed]"
          },
          "metadata": {
            "needs_background": "light"
          }
        }
      ],
      "execution_count": 48,
      "metadata": {
        "jupyter": {
          "source_hidden": false,
          "outputs_hidden": false
        },
        "nteract": {
          "transient": {
            "deleting": false
          }
        },
        "gather": {
          "logged": 1650804798365
        }
      }
    },
    {
      "cell_type": "code",
      "source": [
        "test.hist(['duration_seconds','words_per_second','num_frames'])"
      ],
      "outputs": [
        {
          "output_type": "execute_result",
          "execution_count": 49,
          "data": {
            "text/plain": "array([[<matplotlib.axes._subplots.AxesSubplot object at 0x7fd86d537820>,\n        <matplotlib.axes._subplots.AxesSubplot object at 0x7fd86d4f4ca0>],\n       [<matplotlib.axes._subplots.AxesSubplot object at 0x7fd86d4b3e80>,\n        <matplotlib.axes._subplots.AxesSubplot object at 0x7fd86d46a610>]],\n      dtype=object)"
          },
          "metadata": {}
        },
        {
          "output_type": "display_data",
          "data": {
            "text/plain": "<Figure size 432x288 with 4 Axes>",
            "image/png": "[encoded data removed]"
          },
          "metadata": {
            "needs_background": "light"
          }
        }
      ],
      "execution_count": 49,
      "metadata": {
        "jupyter": {
          "source_hidden": false,
          "outputs_hidden": false
        },
        "nteract": {
          "transient": {
            "deleting": false
          }
        },
        "gather": {
          "logged": 1650804822367
        }
      }
    },
    {
      "cell_type": "code",
      "source": [],
      "outputs": [],
      "execution_count": null,
      "metadata": {
        "jupyter": {
          "source_hidden": false,
          "outputs_hidden": false
        },
        "nteract": {
          "transient": {
            "deleting": false
          }
        }
      }
    }
  ],
  "metadata": {
    "kernelspec": {
      "name": "python38-azureml",
      "language": "python",
      "display_name": "Python 3.8 - AzureML"
    },
    "language_info": {
      "name": "python",
      "version": "3.8.5",
      "mimetype": "text/x-python",
      "codemirror_mode": {
        "name": "ipython",
        "version": 3
      },
      "pygments_lexer": "ipython3",
      "nbconvert_exporter": "python",
      "file_extension": ".py"
    },
    "kernel_info": {
      "name": "python38-azureml"
    },
    "microsoft": {
      "host": {
        "AzureML": {
          "notebookHasBeenCompleted": true
        }
      }
    },
    "nteract": {
      "version": "nteract-front-end@1.0.0"
    }
  },
  "nbformat": 4,
  "nbformat_minor": 2
}